{
 "cells": [
  {
   "cell_type": "markdown",
   "metadata": {
    "slideshow": {
     "slide_type": "slide"
    }
   },
   "source": [
    "# Material and software"
   ]
  },
  {
   "cell_type": "markdown",
   "metadata": {},
   "source": [
    "Instructions for surviving a scientific ipython course!\n",
    "\n",
    "You can read this at this link: http://j.mp/ourpylab"
   ]
  },
  {
   "cell_type": "markdown",
   "metadata": {
    "slideshow": {
     "slide_type": "-"
    }
   },
   "source": [
    "<hr>"
   ]
  },
  {
   "cell_type": "markdown",
   "metadata": {
    "slideshow": {
     "slide_type": "subslide"
    }
   },
   "source": [
    "## Using a workstation in the lab"
   ]
  },
  {
   "cell_type": "markdown",
   "metadata": {
    "slideshow": {
     "slide_type": "fragment"
    }
   },
   "source": [
    "Your workstation is running a [CentOS](https://www.centos.org/) distribution.\n",
    "\n",
    "1. Open a [terminal](http://en.wikipedia.org/wiki/Shell_%28computing%29#Text_.28CLI.29_shells)\n",
    "2. Paste this command\n",
    "```\n",
    "wget -qO- http://j.mp/labbootstrap | sh\n",
    "```\n",
    "<small>note: you will be prompted to insert your account password</small>\n",
    "3. Use notebooks on your local machine with a browser, accessing the URL: http://localhost"
   ]
  },
  {
   "cell_type": "markdown",
   "metadata": {
    "slideshow": {
     "slide_type": "subslide"
    }
   },
   "source": [
    "## Using your laptop"
   ]
  },
  {
   "cell_type": "markdown",
   "metadata": {
    "slideshow": {
     "slide_type": "fragment"
    }
   },
   "source": [
    "*Prerequisites*: [docker](reference) and [git](ref) installed on your machine."
   ]
  },
  {
   "cell_type": "markdown",
   "metadata": {
    "slideshow": {
     "slide_type": "fragment"
    }
   },
   "source": [
    "**Note**: if you are not using a linux distribution (e.g. Windows or Mac) you additionally need also [boot2docker](ref)"
   ]
  },
  {
   "cell_type": "markdown",
   "metadata": {
    "slideshow": {
     "slide_type": "fragment"
    }
   },
   "source": [
    "1. Clone the official repository inside your home directory\n",
    "    - https://github.com/cineca-scai/lectures.git\n",
    "2. Launch a docker container based on our image\n",
    "    - https://registry.hub.docker.com/u/cineca/jupydatanb"
   ]
  },
  {
   "cell_type": "markdown",
   "metadata": {
    "slideshow": {
     "slide_type": "subslide"
    }
   },
   "source": [
    "The suggested command is:\n",
    "\n",
    "```\n",
    "(sudo) docker run -d -v /path/to/git/lectures/pydata:/data -p 80:8000 cineca/jupydatanb\n",
    "```"
   ]
  },
  {
   "cell_type": "markdown",
   "metadata": {
    "slideshow": {
     "slide_type": "fragment"
    }
   },
   "source": [
    "Use notebooks on your local machine with a browser, accessing the URL: http://localhost.\n",
    "\n",
    "**NOTE** on mac/windows, using boot2docker, you need to access the IP of your virtual machine\n",
    "instead of localhost.\n",
    "\n",
    "To check the IP number, run from the commandline:\n",
    "```\n",
    "boot2docker ip\n",
    "```"
   ]
  },
  {
   "cell_type": "markdown",
   "metadata": {
    "slideshow": {
     "slide_type": "subslide"
    }
   },
   "source": [
    "## Using a static version of the slides\n",
    "\n",
    "Go to http://bit.ly/cineca_python\n",
    "\n",
    "After selecting one page, click on the 'gift' button on the upper-right corner."
   ]
  }
 ],
 "metadata": {
  "celltoolbar": "Slideshow",
  "kernelspec": {
   "display_name": "Python 2",
   "language": "python",
   "name": "python2"
  },
  "language_info": {
   "codemirror_mode": {
    "name": "ipython",
    "version": 2
   },
   "file_extension": ".py",
   "mimetype": "text/x-python",
   "name": "python",
   "nbconvert_exporter": "python",
   "pygments_lexer": "ipython2",
   "version": "2.7.10"
  }
 },
 "nbformat": 4,
 "nbformat_minor": 0
}
