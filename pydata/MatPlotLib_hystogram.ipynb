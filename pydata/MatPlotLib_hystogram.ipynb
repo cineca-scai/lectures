{
 "cells": [
  {
   "cell_type": "code",
   "execution_count": 9,
   "metadata": {
    "collapsed": true
   },
   "outputs": [],
   "source": [
    "# This line configures matplotlib to show figures embedded in the notebook, \n",
    "# instead of opening a new window for each figure. More about that later. \n",
    "# If you are using an old version of IPython, try using '%pylab inline' instead.\n",
    "%matplotlib inline"
   ]
  },
  {
   "cell_type": "code",
   "execution_count": 10,
   "metadata": {
    "collapsed": true
   },
   "outputs": [],
   "source": [
    "from pylab import *\n",
    "import matplotlib.pyplot as plt\n",
    "from collections import OrderedDict\n",
    "import pandas as pd"
   ]
  },
  {
   "cell_type": "code",
   "execution_count": 11,
   "metadata": {
    "collapsed": true
   },
   "outputs": [],
   "source": [
    "# skip site cert check\n",
    "#http://stackoverflow.com/questions/27835619/ssl-certificate-verify-failed-error\n",
    "import ssl\n",
    "ssl._create_default_https_context = ssl._create_unverified_context\n",
    "#ssl.create_default_context(capath=False)\n",
    "Cluster = pd.read_csv(\n",
    "    \"https://hpc-forge.cineca.it/files/Visualization_School/public/20150315.jobs\",\n",
    "    sep=';',\n",
    "    header=None,\n",
    "    names=['date',\n",
    "           'jobid',\n",
    "           'wcl',\n",
    "           'cpu',\n",
    "           'aff',\n",
    "           'mem',\n",
    "           'queue',\n",
    "           'elapsed',\n",
    "           'waited',\n",
    "           'status',\n",
    "           'account',\n",
    "           'username','unknown'],\n",
    "    parse_dates=['date'])\n",
    "\n",
    "#print Cluster\n",
    "\n",
    "xyvalues = OrderedDict([\n",
    "        ('all',Cluster[['elapsed','waited']].values)\n",
    "        ])"
   ]
  },
  {
   "cell_type": "code",
   "execution_count": 12,
   "metadata": {
    "collapsed": false
   },
   "outputs": [
    {
     "data": {
      "image/png": "[encoded data removed]",
      "text/plain": [
       "<matplotlib.figure.Figure at 0x7fb2640a5fd0>"
      ]
     },
     "metadata": {},
     "output_type": "display_data"
    }
   ],
   "source": [
    "sel = Cluster[['elapsed','waited', \"queue\"]]\n",
    "#from bokeh.sampledata.iris import flowers\n",
    "#print flowers\n",
    "#print sel\n",
    "\n",
    "#setup = (flowers, 'species',\"petal_length\",\"petal_width\")\n",
    "setup = (sel, 'queue',\"elapsed\",\"waited\")\n",
    "\n",
    "grouped=setup[0].groupby(setup[1])\n",
    "#n_group = len(grouPed)\n",
    "pdict = OrderedDict()\n",
    "hist_data = []\n",
    "     \n",
    "\n",
    "\n",
    "fig, ax = plt.subplots()\n",
    "\n",
    "\n",
    "count = 0;\n",
    "c = 0;\n",
    "for q in grouped.groups:\n",
    "    c = c + 1\n",
    "    count = count + 100\n",
    "    group = grouped.get_group(q)[[setup[2],setup[3]]]    \n",
    "\n",
    "    #xx=grouped.get_group(q)[[setup[2]]].values\n",
    "    #yy=grouped.get_group(q)[[setup[3]]].values\n",
    "    xx=group[[setup[2]]].values\n",
    "    yy=group[[setup[3]]].values\n",
    "\n",
    "    #print plt.cm.RdYlBu(count)\n",
    "    ax.scatter(x=xx, y=yy, color=plt.cm.RdYlBu(count))\n",
    "    #pdict[q]=group.values\n",
    "    #pdict[q]=group[[setup[2]]].values\n",
    "    #print pdict[q]\n",
    "    #print pdict[q]\n",
    "    \n",
    "plt.show()"
   ]
  },
  {
   "cell_type": "code",
   "execution_count": 13,
   "metadata": {
    "collapsed": false
   },
   "outputs": [
    {
     "data": {
      "image/png": "[encoded data removed]",
      "text/plain": [
       "<matplotlib.figure.Figure at 0x7fb264348490>"
      ]
     },
     "metadata": {},
     "output_type": "display_data"
    }
   ],
   "source": [
    "from collections import Counter\n",
    "sel = Cluster[['elapsed','waited', \"queue\"]]\n",
    "#from bokeh.sampledata.iris import flowers\n",
    "#print flowers\n",
    "#print sel\n",
    "\n",
    "#setup = (flowers, 'species',\"petal_length\",\"petal_width\")\n",
    "setup = (sel, 'queue',\"elapsed\",\"waited\")\n",
    "\n",
    "grouped=setup[0].groupby(setup[1])\n",
    "#n_group = len(grouPed)\n",
    "pdict = OrderedDict()\n",
    "hist_data = []\n",
    "\n",
    "count = 0;\n",
    "c = 0;\n",
    "for q in grouped.groups:\n",
    "    c = c + 1\n",
    "    count = count + 100\n",
    "    group = grouped.get_group(q)[[setup[2],setup[3]]]    \n",
    "\n",
    "    #xx=grouped.get_group(q)[[setup[2]]].values\n",
    "    #yy=grouped.get_group(q)[[setup[3]]].values\n",
    "    xx=group[[setup[2]]].values\n",
    "    yy=group[[setup[3]]].values\n",
    "\n",
    "    #print plt.cm.RdYlBu(count)\n",
    "    #ax.scatter(x=xx, y=yy, color=plt.cm.RdYlBu(count))\n",
    "    #pdict[q]=group.values\n",
    "    #pdict[q]=group[[setup[2]]].values\n",
    "    #print pdict[q]\n",
    "    #print pdict[q]\n",
    "    #hist_data.append(len(grouped.get_group(q)))\n",
    "    hist_data.append(q)\n",
    "    \n",
    "hist_queue =  Cluster['queue'].tolist()\n",
    "#print hist_queue\n",
    "\n",
    "labels, values = zip(*Counter(hist_queue).items())\n",
    "#print labels\n",
    "#print values\n",
    "\n",
    "indexes = np.arange(len(labels))\n",
    "#print indexes\n",
    "width = 1\n",
    "\n",
    "plt.bar(indexes, values, width)\n",
    "plt.xticks(indexes + width * 0.5, labels)\n",
    "plt.show()\n",
    "\n",
    "plt.show()"
   ]
  },
  {
   "cell_type": "code",
   "execution_count": null,
   "metadata": {
    "collapsed": true
   },
   "outputs": [],
   "source": []
  }
 ],
 "metadata": {
  "kernelspec": {
   "display_name": "Python 2",
   "language": "python",
   "name": "python2"
  },
  "language_info": {
   "codemirror_mode": {
    "name": "ipython",
    "version": 2
   },
   "file_extension": ".py",
   "mimetype": "text/x-python",
   "name": "python",
   "nbconvert_exporter": "python",
   "pygments_lexer": "ipython2",
   "version": "2.7.10"
  }
 },
 "nbformat": 4,
 "nbformat_minor": 0
}
