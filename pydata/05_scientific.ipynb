{
 "cells": [
  {
   "cell_type": "markdown",
   "metadata": {
    "slideshow": {
     "slide_type": "slide"
    }
   },
   "source": [
    "# Finding solutions in python for science"
   ]
  },
  {
   "cell_type": "markdown",
   "metadata": {},
   "source": [
    "Using vectorized structures to solve scientific problems"
   ]
  },
  {
   "cell_type": "markdown",
   "metadata": {
    "slideshow": {
     "slide_type": "slide"
    }
   },
   "source": [
    "# Drawing is understanding"
   ]
  },
  {
   "cell_type": "markdown",
   "metadata": {
    "slideshow": {
     "slide_type": "subslide"
    }
   },
   "source": [
    "Viusal representation is fundamental to really understand your data"
   ]
  },
  {
   "cell_type": "markdown",
   "metadata": {
    "slideshow": {
     "slide_type": "subslide"
    }
   },
   "source": [
    "> matplotlib is a python 2D plotting library which produces publication quality figures in a variety of hardcopy formats and interactive environments across platforms. "
   ]
  },
  {
   "cell_type": "markdown",
   "metadata": {
    "slideshow": {
     "slide_type": "fragment"
    }
   },
   "source": [
    "Matplotlib is an excellent graphics library for generating scientific figures\n",
    "\n",
    "\n",
    "* Easy to get started\n",
    "* Support for LATEX formatted labels and texts\n",
    "* Great control of every element in a figure\n",
    "* High-quality output in many formats\n",
    "    - including PNG, PDF, SVG, EPS, and PGF.\n"
   ]
  },
  {
   "cell_type": "markdown",
   "metadata": {
    "slideshow": {
     "slide_type": "subslide"
    }
   },
   "source": [
    ">matplotlib can be used in python scripts, the python and ipython shell, web application server"
   ]
  },
  {
   "cell_type": "code",
   "execution_count": 1,
   "metadata": {
    "collapsed": false
   },
   "outputs": [
    {
     "name": "stdout",
     "output_type": "stream",
     "text": [
      "Populating the interactive namespace from numpy and matplotlib\n"
     ]
    }
   ],
   "source": [
    "%pylab inline"
   ]
  },
  {
   "cell_type": "markdown",
   "metadata": {
    "slideshow": {
     "slide_type": "subslide"
    }
   },
   "source": [
    "This line configures matplotlib to show figures embedded in the notebook, \n",
    "instead of opening a new window for each figure."
   ]
  },
  {
   "cell_type": "code",
   "execution_count": 2,
   "metadata": {
    "collapsed": true
   },
   "outputs": [],
   "source": [
    "# Load libraries\n",
    "%matplotlib inline"
   ]
  },
  {
   "cell_type": "markdown",
   "metadata": {
    "slideshow": {
     "slide_type": "subslide"
    }
   },
   "source": [
    "## An example with linspace\n",
    "The **linspace** command makes a linear array of points from a starting to an ending value."
   ]
  },
  {
   "cell_type": "code",
   "execution_count": 3,
   "metadata": {
    "collapsed": false,
    "slideshow": {
     "slide_type": "subslide"
    }
   },
   "outputs": [
    {
     "data": {
      "text/plain": [
       "array([ 0.        ,  0.02040816,  0.04081633,  0.06122449,  0.08163265,\n",
       "        0.10204082,  0.12244898,  0.14285714,  0.16326531,  0.18367347,\n",
       "        0.20408163,  0.2244898 ,  0.24489796,  0.26530612,  0.28571429,\n",
       "        0.30612245,  0.32653061,  0.34693878,  0.36734694,  0.3877551 ,\n",
       "        0.40816327,  0.42857143,  0.44897959,  0.46938776,  0.48979592,\n",
       "        0.51020408,  0.53061224,  0.55102041,  0.57142857,  0.59183673,\n",
       "        0.6122449 ,  0.63265306,  0.65306122,  0.67346939,  0.69387755,\n",
       "        0.71428571,  0.73469388,  0.75510204,  0.7755102 ,  0.79591837,\n",
       "        0.81632653,  0.83673469,  0.85714286,  0.87755102,  0.89795918,\n",
       "        0.91836735,  0.93877551,  0.95918367,  0.97959184,  1.        ])"
      ]
     },
     "execution_count": 3,
     "metadata": {},
     "output_type": "execute_result"
    }
   ],
   "source": [
    "linspace(0,1)"
   ]
  },
  {
   "cell_type": "markdown",
   "metadata": {
    "slideshow": {
     "slide_type": "subslide"
    }
   },
   "source": [
    "If you provide a third argument, it takes that as the number of points in the space. \n",
    "\n",
    "If you don't provide the argument, it gives a length 50 linear space."
   ]
  },
  {
   "cell_type": "code",
   "execution_count": 4,
   "metadata": {
    "collapsed": false
   },
   "outputs": [
    {
     "data": {
      "text/plain": [
       "array([ 0. ,  0.1,  0.2,  0.3,  0.4,  0.5,  0.6,  0.7,  0.8,  0.9,  1. ])"
      ]
     },
     "execution_count": 4,
     "metadata": {},
     "output_type": "execute_result"
    }
   ],
   "source": [
    "linspace(0,1,11)"
   ]
  },
  {
   "cell_type": "markdown",
   "metadata": {
    "slideshow": {
     "slide_type": "subslide"
    }
   },
   "source": [
    "**linspace** is an easy way to make coordinates for plotting. Functions in the numpy library (all of which are imported into IPython notebook) can act on an entire vector (or even a matrix) of points at once. Thus,"
   ]
  },
  {
   "cell_type": "code",
   "execution_count": 5,
   "metadata": {
    "collapsed": false
   },
   "outputs": [
    {
     "data": {
      "text/plain": [
       "array([  0.00000000e+00,   1.27877162e-01,   2.53654584e-01,\n",
       "         3.75267005e-01,   4.90717552e-01,   5.98110530e-01,\n",
       "         6.95682551e-01,   7.81831482e-01,   8.55142763e-01,\n",
       "         9.14412623e-01,   9.58667853e-01,   9.87181783e-01,\n",
       "         9.99486216e-01,   9.95379113e-01,   9.74927912e-01,\n",
       "         9.38468422e-01,   8.86599306e-01,   8.20172255e-01,\n",
       "         7.40277997e-01,   6.48228395e-01,   5.45534901e-01,\n",
       "         4.33883739e-01,   3.15108218e-01,   1.91158629e-01,\n",
       "         6.40702200e-02,  -6.40702200e-02,  -1.91158629e-01,\n",
       "        -3.15108218e-01,  -4.33883739e-01,  -5.45534901e-01,\n",
       "        -6.48228395e-01,  -7.40277997e-01,  -8.20172255e-01,\n",
       "        -8.86599306e-01,  -9.38468422e-01,  -9.74927912e-01,\n",
       "        -9.95379113e-01,  -9.99486216e-01,  -9.87181783e-01,\n",
       "        -9.58667853e-01,  -9.14412623e-01,  -8.55142763e-01,\n",
       "        -7.81831482e-01,  -6.95682551e-01,  -5.98110530e-01,\n",
       "        -4.90717552e-01,  -3.75267005e-01,  -2.53654584e-01,\n",
       "        -1.27877162e-01,  -2.44929360e-16])"
      ]
     },
     "execution_count": 5,
     "metadata": {},
     "output_type": "execute_result"
    }
   ],
   "source": [
    "x = linspace(0,2*pi)\n",
    "sin(x)"
   ]
  },
  {
   "cell_type": "markdown",
   "metadata": {
    "slideshow": {
     "slide_type": "subslide"
    }
   },
   "source": [
    "In conjunction with **matplotlib**, this is a nice way to plot things:"
   ]
  },
  {
   "cell_type": "code",
   "execution_count": 6,
   "metadata": {
    "collapsed": false
   },
   "outputs": [
    {
     "data": {
      "text/plain": [
       "[<matplotlib.lines.Line2D at 0x7f93ec491690>]"
      ]
     },
     "execution_count": 6,
     "metadata": {},
     "output_type": "execute_result"
    },
    {
     "data": {
      "image/png": "[encoded data removed]",
      "text/plain": [
       "<matplotlib.figure.Figure at 0x7f93ec576090>"
      ]
     },
     "metadata": {},
     "output_type": "display_data"
    }
   ],
   "source": [
    "plot(x,sin(x))"
   ]
  },
  {
   "cell_type": "markdown",
   "metadata": {
    "slideshow": {
     "slide_type": "slide"
    }
   },
   "source": [
    "# SciPy \n",
    "Library of scientific algorithms for Python"
   ]
  },
  {
   "cell_type": "markdown",
   "metadata": {},
   "source": [
    "* The SciPy framework builds on top of the low-level NumPy framework. \n",
    "* IT provides a large number of higher-level scientific algorithms."
   ]
  },
  {
   "cell_type": "markdown",
   "metadata": {
    "slideshow": {
     "slide_type": "subslide"
    }
   },
   "source": [
    "## A first list of algorithms"
   ]
  },
  {
   "cell_type": "markdown",
   "metadata": {},
   "source": [
    "* Linear Algebra ([scipy.linalg](http://docs.scipy.org/doc/scipy/reference/linalg.html))\n",
    "* Integration ([scipy.integrate](http://docs.scipy.org/doc/scipy/reference/integrate.html))\n",
    "* Interpolation ([scipy.interpolate](http://docs.scipy.org/doc/scipy/reference/interpolate.html))\n",
    "* Fourier Transforms ([scipy.fftpack](http://docs.scipy.org/doc/scipy/reference/fftpack.html))\n",
    "* Signal Processing ([scipy.signal](http://docs.scipy.org/doc/scipy/reference/signal.html))\n",
    "* Sparse Eigenvalue Problems ([scipy.sparse](http://docs.scipy.org/doc/scipy/reference/sparse.html))"
   ]
  },
  {
   "cell_type": "markdown",
   "metadata": {
    "slideshow": {
     "slide_type": "subslide"
    }
   },
   "source": [
    "## We have more!"
   ]
  },
  {
   "cell_type": "markdown",
   "metadata": {},
   "source": [
    "* Optimization ([scipy.optimize](http://docs.scipy.org/doc/scipy/reference/optimize.html))\n",
    "* Multi-dimensional image processing ([scipy.ndimage](http://docs.scipy.org/doc/scipy/reference/ndimage.html))\n",
    "* File IO ([scipy.io](http://docs.scipy.org/doc/scipy/reference/io.html))\n",
    "* Statistics ([scipy.stats](http://docs.scipy.org/doc/scipy/reference/stats.html))\n",
    "* Special functions ([scipy.special](http://docs.scipy.org/doc/scipy/reference/special.html))"
   ]
  },
  {
   "cell_type": "markdown",
   "metadata": {
    "slideshow": {
     "slide_type": "subslide"
    }
   },
   "source": [
    "\n",
    "> Each of these submodules provides a number of functions that can be used to solve problems in their respective topics."
   ]
  },
  {
   "cell_type": "markdown",
   "metadata": {
    "slideshow": {
     "slide_type": "subslide"
    }
   },
   "source": [
    "We start by importing everything from the `scipy` module."
   ]
  },
  {
   "cell_type": "code",
   "execution_count": 7,
   "metadata": {
    "collapsed": false
   },
   "outputs": [],
   "source": [
    "from scipy import *"
   ]
  },
  {
   "cell_type": "markdown",
   "metadata": {
    "slideshow": {
     "slide_type": "fragment"
    }
   },
   "source": [
    "If we only need to use part of the SciPy framework we can selectively include only those modules we are interested in."
   ]
  },
  {
   "cell_type": "code",
   "execution_count": 8,
   "metadata": {
    "collapsed": false
   },
   "outputs": [],
   "source": [
    "# Example for loading only linear algebra\n",
    "import scipy.linalg as la"
   ]
  },
  {
   "cell_type": "markdown",
   "metadata": {
    "slideshow": {
     "slide_type": "slide"
    }
   },
   "source": [
    "## Special functions"
   ]
  },
  {
   "cell_type": "markdown",
   "metadata": {},
   "source": [
    "A large number of mathematical special functions are important for many computional physics problems"
   ]
  },
  {
   "cell_type": "markdown",
   "metadata": {
    "slideshow": {
     "slide_type": "subslide"
    }
   },
   "source": [
    "To demonstrate the typical usage of special functions we will look in more detail at the **Bessel functions**"
   ]
  },
  {
   "cell_type": "code",
   "execution_count": 9,
   "metadata": {
    "collapsed": false
   },
   "outputs": [],
   "source": [
    "# jn and yn: Bessel functions of the first and second kind and real-valued order\n",
    "\n",
    "from scipy.special import jn, yn"
   ]
  },
  {
   "cell_type": "markdown",
   "metadata": {
    "slideshow": {
     "slide_type": "subslide"
    }
   },
   "source": [
    "We should start from the most simple case: order `0`"
   ]
  },
  {
   "cell_type": "code",
   "execution_count": 10,
   "metadata": {
    "collapsed": false,
    "slideshow": {
     "slide_type": "-"
    }
   },
   "outputs": [
    {
     "name": "stdout",
     "output_type": "stream",
     "text": [
      "J_0(0.000000) = 1.000000\n",
      "Y_0(1.000000) = 0.088257\n"
     ]
    }
   ],
   "source": [
    "n = 0    # order\n",
    "\n",
    "# Bessel function of first kind\n",
    "x = 0.0\n",
    "print \"J_%d(%f) = %f\" % (n, x, jn(n, x))\n",
    "\n",
    "# Bessel function of second kind\n",
    "x = 1.0\n",
    "print \"Y_%d(%f) = %f\" % (n, x, yn(n, x))"
   ]
  },
  {
   "cell_type": "markdown",
   "metadata": {
    "slideshow": {
     "slide_type": "subslide"
    }
   },
   "source": [
    "Ok, we tested how to produce the result of a Bessel function. \n",
    "\n",
    "Are we now able to draw it?"
   ]
  },
  {
   "cell_type": "code",
   "execution_count": 11,
   "metadata": {
    "collapsed": true
   },
   "outputs": [],
   "source": [
    "# Produce a hundred points to plot\n",
    "x = linspace(0, 20, 1000)"
   ]
  },
  {
   "cell_type": "markdown",
   "metadata": {
    "slideshow": {
     "slide_type": "subslide"
    }
   },
   "source": [
    "`With python is very easy ;)`"
   ]
  },
  {
   "cell_type": "code",
   "execution_count": 12,
   "metadata": {
    "collapsed": false,
    "slideshow": {
     "slide_type": "-"
    }
   },
   "outputs": [
    {
     "data": {
      "image/png": "[encoded data removed]",
      "text/plain": [
       "<matplotlib.figure.Figure at 0x7f93ec1982d0>"
      ]
     },
     "metadata": {},
     "output_type": "display_data"
    }
   ],
   "source": [
    "# Get the plot elements\n",
    "fig, ax = subplots()\n",
    "# Add the first four orders\n",
    "for n in range(3):\n",
    "    ax.plot(x, jn(n, x), label=r\"$J_%d(x)$\" % n)\n",
    "# Plot the legend too, defined by labels\n",
    "ax.legend();"
   ]
  },
  {
   "cell_type": "markdown",
   "metadata": {
    "slideshow": {
     "slide_type": "subslide"
    }
   },
   "source": [
    "We can compare with the wikipedia image:\n",
    "<img src='http://upload.wikimedia.org/wikipedia/commons/5/5d/Bessel_Functions_%281st_Kind%2C_n%3D0%2C1%2C2%29.svg'>"
   ]
  },
  {
   "cell_type": "markdown",
   "metadata": {
    "slideshow": {
     "slide_type": "subslide"
    }
   },
   "source": [
    "Do not forget to dig in for more"
   ]
  },
  {
   "cell_type": "code",
   "execution_count": 13,
   "metadata": {
    "collapsed": false,
    "slideshow": {
     "slide_type": "subslide"
    }
   },
   "outputs": [
    {
     "data": {
      "text/plain": [
       "['SpecialFunctionWarning',\n",
       " 'Tester',\n",
       " '__all__',\n",
       " '__builtins__',\n",
       " '__doc__',\n",
       " '__file__',\n",
       " '__name__',\n",
       " '__package__',\n",
       " '__path__',\n",
       " '_ellip_harm',\n",
       " '_ellip_harm_2',\n",
       " '_ufuncs',\n",
       " '_ufuncs_cxx',\n",
       " 'absolute_import',\n",
       " 'agm',\n",
       " 'ai_zeros',\n",
       " 'airy',\n",
       " 'airye',\n",
       " 'assoc_laguerre',\n",
       " 'basic',\n",
       " 'bdtr',\n",
       " 'bdtrc',\n",
       " 'bdtri',\n",
       " 'bdtrik',\n",
       " 'bdtrin',\n",
       " 'bei',\n",
       " 'bei_zeros',\n",
       " 'beip',\n",
       " 'beip_zeros',\n",
       " 'ber',\n",
       " 'ber_zeros',\n",
       " 'bernoulli',\n",
       " 'berp',\n",
       " 'berp_zeros',\n",
       " 'bessel_diff_formula',\n",
       " 'besselpoly',\n",
       " 'beta',\n",
       " 'betainc',\n",
       " 'betaincinv',\n",
       " 'betaln',\n",
       " 'bi_zeros',\n",
       " 'binom',\n",
       " 'boxcox',\n",
       " 'boxcox1p',\n",
       " 'btdtr',\n",
       " 'btdtri',\n",
       " 'btdtria',\n",
       " 'btdtrib',\n",
       " 'c_roots',\n",
       " 'cbrt',\n",
       " 'cg_roots',\n",
       " 'chdtr',\n",
       " 'chdtrc',\n",
       " 'chdtri',\n",
       " 'chdtriv',\n",
       " 'chebyc',\n",
       " 'chebys',\n",
       " 'chebyt',\n",
       " 'chebyu',\n",
       " 'chndtr',\n",
       " 'chndtridf',\n",
       " 'chndtrinc',\n",
       " 'chndtrix',\n",
       " 'clpmn',\n",
       " 'comb',\n",
       " 'cosdg',\n",
       " 'cosm1',\n",
       " 'cotdg',\n",
       " 'dawsn',\n",
       " 'digamma',\n",
       " 'diric',\n",
       " 'division',\n",
       " 'ellip_harm',\n",
       " 'ellip_harm_2',\n",
       " 'ellip_normal',\n",
       " 'ellipe',\n",
       " 'ellipeinc',\n",
       " 'ellipj',\n",
       " 'ellipk',\n",
       " 'ellipkinc',\n",
       " 'ellipkm1',\n",
       " 'entr',\n",
       " 'erf',\n",
       " 'erf_zeros',\n",
       " 'erfc',\n",
       " 'erfcinv',\n",
       " 'erfcx',\n",
       " 'erfi',\n",
       " 'erfinv',\n",
       " 'errprint',\n",
       " 'euler',\n",
       " 'eval_chebyc',\n",
       " 'eval_chebys',\n",
       " 'eval_chebyt',\n",
       " 'eval_chebyu',\n",
       " 'eval_gegenbauer',\n",
       " 'eval_genlaguerre',\n",
       " 'eval_hermite',\n",
       " 'eval_hermitenorm',\n",
       " 'eval_jacobi',\n",
       " 'eval_laguerre',\n",
       " 'eval_legendre',\n",
       " 'eval_sh_chebyt',\n",
       " 'eval_sh_chebyu',\n",
       " 'eval_sh_jacobi',\n",
       " 'eval_sh_legendre',\n",
       " 'exp1',\n",
       " 'exp10',\n",
       " 'exp2',\n",
       " 'expi',\n",
       " 'expit',\n",
       " 'expm1',\n",
       " 'expn',\n",
       " 'factorial',\n",
       " 'factorial2',\n",
       " 'factorialk',\n",
       " 'fdtr',\n",
       " 'fdtrc',\n",
       " 'fdtri',\n",
       " 'fdtridfd',\n",
       " 'fresnel',\n",
       " 'fresnel_zeros',\n",
       " 'fresnelc_zeros',\n",
       " 'fresnels_zeros',\n",
       " 'gamma',\n",
       " 'gammainc',\n",
       " 'gammaincc',\n",
       " 'gammainccinv',\n",
       " 'gammaincinv',\n",
       " 'gammaln',\n",
       " 'gammasgn',\n",
       " 'gdtr',\n",
       " 'gdtrc',\n",
       " 'gdtria',\n",
       " 'gdtrib',\n",
       " 'gdtrix',\n",
       " 'gegenbauer',\n",
       " 'genlaguerre',\n",
       " 'h1vp',\n",
       " 'h2vp',\n",
       " 'h_roots',\n",
       " 'hankel1',\n",
       " 'hankel1e',\n",
       " 'hankel2',\n",
       " 'hankel2e',\n",
       " 'he_roots',\n",
       " 'hermite',\n",
       " 'hermitenorm',\n",
       " 'huber',\n",
       " 'hyp0f1',\n",
       " 'hyp1f1',\n",
       " 'hyp1f2',\n",
       " 'hyp2f0',\n",
       " 'hyp2f1',\n",
       " 'hyp3f0',\n",
       " 'hyperu',\n",
       " 'i0',\n",
       " 'i0e',\n",
       " 'i1',\n",
       " 'i1e',\n",
       " 'it2i0k0',\n",
       " 'it2j0y0',\n",
       " 'it2struve0',\n",
       " 'itairy',\n",
       " 'iti0k0',\n",
       " 'itj0y0',\n",
       " 'itmodstruve0',\n",
       " 'itstruve0',\n",
       " 'iv',\n",
       " 'ive',\n",
       " 'ivp',\n",
       " 'j0',\n",
       " 'j1',\n",
       " 'j_roots',\n",
       " 'jacobi',\n",
       " 'jn',\n",
       " 'jn_zeros',\n",
       " 'jnjnp_zeros',\n",
       " 'jnp_zeros',\n",
       " 'jnyn_zeros',\n",
       " 'js_roots',\n",
       " 'jv',\n",
       " 'jve',\n",
       " 'jvp',\n",
       " 'k0',\n",
       " 'k0e',\n",
       " 'k1',\n",
       " 'k1e',\n",
       " 'kei',\n",
       " 'kei_zeros',\n",
       " 'keip',\n",
       " 'keip_zeros',\n",
       " 'kelvin',\n",
       " 'kelvin_zeros',\n",
       " 'ker',\n",
       " 'ker_zeros',\n",
       " 'kerp',\n",
       " 'kerp_zeros',\n",
       " 'kl_div',\n",
       " 'kn',\n",
       " 'kolmogi',\n",
       " 'kolmogorov',\n",
       " 'kv',\n",
       " 'kve',\n",
       " 'kvp',\n",
       " 'l_roots',\n",
       " 'la_roots',\n",
       " 'laguerre',\n",
       " 'lambertw',\n",
       " 'legendre',\n",
       " 'lmbda',\n",
       " 'log1p',\n",
       " 'log_ndtr',\n",
       " 'logit',\n",
       " 'lpmn',\n",
       " 'lpmv',\n",
       " 'lpn',\n",
       " 'lqmn',\n",
       " 'lqn',\n",
       " 'mathieu_a',\n",
       " 'mathieu_b',\n",
       " 'mathieu_cem',\n",
       " 'mathieu_even_coef',\n",
       " 'mathieu_modcem1',\n",
       " 'mathieu_modcem2',\n",
       " 'mathieu_modsem1',\n",
       " 'mathieu_modsem2',\n",
       " 'mathieu_odd_coef',\n",
       " 'mathieu_sem',\n",
       " 'modfresnelm',\n",
       " 'modfresnelp',\n",
       " 'modstruve',\n",
       " 'multigammaln',\n",
       " 'nbdtr',\n",
       " 'nbdtrc',\n",
       " 'nbdtri',\n",
       " 'nbdtrik',\n",
       " 'nbdtrin',\n",
       " 'ncfdtr',\n",
       " 'ncfdtri',\n",
       " 'ncfdtridfd',\n",
       " 'ncfdtridfn',\n",
       " 'ncfdtrinc',\n",
       " 'nctdtr',\n",
       " 'nctdtridf',\n",
       " 'nctdtrinc',\n",
       " 'nctdtrit',\n",
       " 'ndtr',\n",
       " 'ndtri',\n",
       " 'nrdtrimn',\n",
       " 'nrdtrisd',\n",
       " 'obl_ang1',\n",
       " 'obl_ang1_cv',\n",
       " 'obl_cv',\n",
       " 'obl_cv_seq',\n",
       " 'obl_rad1',\n",
       " 'obl_rad1_cv',\n",
       " 'obl_rad2',\n",
       " 'obl_rad2_cv',\n",
       " 'orthogonal',\n",
       " 'p_roots',\n",
       " 'pbdn_seq',\n",
       " 'pbdv',\n",
       " 'pbdv_seq',\n",
       " 'pbvv',\n",
       " 'pbvv_seq',\n",
       " 'pbwa',\n",
       " 'pdtr',\n",
       " 'pdtrc',\n",
       " 'pdtri',\n",
       " 'pdtrik',\n",
       " 'perm',\n",
       " 'poch',\n",
       " 'polygamma',\n",
       " 'print_function',\n",
       " 'pro_ang1',\n",
       " 'pro_ang1_cv',\n",
       " 'pro_cv',\n",
       " 'pro_cv_seq',\n",
       " 'pro_rad1',\n",
       " 'pro_rad1_cv',\n",
       " 'pro_rad2',\n",
       " 'pro_rad2_cv',\n",
       " 'ps_roots',\n",
       " 'pseudo_huber',\n",
       " 'psi',\n",
       " 'radian',\n",
       " 'rel_entr',\n",
       " 'rgamma',\n",
       " 'riccati_jn',\n",
       " 'riccati_yn',\n",
       " 'round',\n",
       " 's',\n",
       " 's_roots',\n",
       " 'sh_chebyt',\n",
       " 'sh_chebyu',\n",
       " 'sh_jacobi',\n",
       " 'sh_legendre',\n",
       " 'shichi',\n",
       " 'sici',\n",
       " 'sinc',\n",
       " 'sindg',\n",
       " 'smirnov',\n",
       " 'smirnovi',\n",
       " 'specfun',\n",
       " 'spence',\n",
       " 'spfun_stats',\n",
       " 'sph_harm',\n",
       " 'sph_in',\n",
       " 'sph_inkn',\n",
       " 'sph_jn',\n",
       " 'sph_jnyn',\n",
       " 'sph_kn',\n",
       " 'sph_yn',\n",
       " 'stdtr',\n",
       " 'stdtridf',\n",
       " 'stdtrit',\n",
       " 'struve',\n",
       " 't_roots',\n",
       " 'tandg',\n",
       " 'test',\n",
       " 'tklmbda',\n",
       " 'ts_roots',\n",
       " 'u_roots',\n",
       " 'us_roots',\n",
       " 'wofz',\n",
       " 'xlog1py',\n",
       " 'xlogy',\n",
       " 'y0',\n",
       " 'y0_zeros',\n",
       " 'y1',\n",
       " 'y1_zeros',\n",
       " 'y1p_zeros',\n",
       " 'yn',\n",
       " 'yn_zeros',\n",
       " 'ynp_zeros',\n",
       " 'yv',\n",
       " 'yve',\n",
       " 'yvp',\n",
       " 'zeta',\n",
       " 'zetac']"
      ]
     },
     "execution_count": 13,
     "metadata": {},
     "output_type": "execute_result"
    }
   ],
   "source": [
    "import scipy as sp\n",
    "dir(sp.special)"
   ]
  },
  {
   "cell_type": "code",
   "execution_count": 14,
   "metadata": {
    "collapsed": false,
    "slideshow": {
     "slide_type": "subslide"
    }
   },
   "outputs": [],
   "source": [
    "?sp.special.gdtr"
   ]
  },
  {
   "cell_type": "markdown",
   "metadata": {
    "slideshow": {
     "slide_type": "slide"
    }
   },
   "source": [
    "# Combining"
   ]
  },
  {
   "cell_type": "markdown",
   "metadata": {
    "slideshow": {
     "slide_type": "subslide"
    }
   },
   "source": [
    "**Fast Fourier Transform** & **Signal Processing**\n",
    "\n",
    "Very often we want to use FFT techniques to help obtain the `signal` from *noisy data*. \n",
    "Scipy has several different options for this."
   ]
  },
  {
   "cell_type": "code",
   "execution_count": 15,
   "metadata": {
    "collapsed": false,
    "slideshow": {
     "slide_type": "subslide"
    }
   },
   "outputs": [],
   "source": [
    "from scipy.fftpack import fft,fftfreq\n",
    "\n",
    "# Points\n",
    "npts = 4000\n",
    "t = linspace(0,120,npts)\n",
    "\n",
    "# Define a noisy signal\n",
    "def acc(t): return 10*sin(2*pi*2.0*t) + 5*sin(2*pi*8.0*t) + 2*rand(npts)\n",
    "signal = acc(t)\n",
    "\n",
    "# Transform applied to signal\n",
    "FFT = abs(fft(signal))\n",
    "freqs = fftfreq(npts, t[1]-t[0])"
   ]
  },
  {
   "cell_type": "code",
   "execution_count": 16,
   "metadata": {
    "collapsed": false,
    "slideshow": {
     "slide_type": "subslide"
    }
   },
   "outputs": [
    {
     "data": {
      "image/png": "[encoded data removed]",
      "text/plain": [
       "<matplotlib.figure.Figure at 0x7f93ec044550>"
      ]
     },
     "metadata": {},
     "output_type": "display_data"
    }
   ],
   "source": [
    "# Signal plot\n",
    "subplot(2, 1, 1)\n",
    "nplot = npts/10\n",
    "plot(t[:nplot], signal[:nplot])\n",
    "\n",
    "# Noise reduction plot\n",
    "subplot(2, 1, 2)\n",
    "plot(freqs,20*log10(FFT),',')\n",
    "\n",
    "# Draw the image\n",
    "show()"
   ]
  },
  {
   "cell_type": "markdown",
   "metadata": {
    "slideshow": {
     "slide_type": "subslide"
    }
   },
   "source": [
    "hint: *yes, we just did subplotting*"
   ]
  },
  {
   "cell_type": "markdown",
   "metadata": {
    "slideshow": {
     "slide_type": "slide"
    }
   },
   "source": [
    "# Statistics"
   ]
  },
  {
   "cell_type": "markdown",
   "metadata": {
    "slideshow": {
     "slide_type": "subslide"
    }
   },
   "source": [
    "\n",
    "The scipy.stats module contains a large number of statistical distributions, statistical functions and tests"
   ]
  },
  {
   "cell_type": "code",
   "execution_count": 17,
   "metadata": {
    "collapsed": true
   },
   "outputs": [],
   "source": [
    "from scipy import stats"
   ]
  },
  {
   "cell_type": "markdown",
   "metadata": {},
   "source": [
    "For a complete documentation of its features, see http://docs.scipy.org/doc/scipy/reference/stats.html"
   ]
  },
  {
   "cell_type": "markdown",
   "metadata": {
    "slideshow": {
     "slide_type": "subslide"
    }
   },
   "source": [
    "**normal distribution**"
   ]
  },
  {
   "cell_type": "code",
   "execution_count": 18,
   "metadata": {
    "collapsed": true
   },
   "outputs": [],
   "source": [
    "# Points\n",
    "x = linspace(-5,5,100)\n",
    "# Create a (continous) random variable with normal distribution\n",
    "N = stats.norm()"
   ]
  },
  {
   "cell_type": "code",
   "execution_count": 19,
   "metadata": {
    "collapsed": false,
    "slideshow": {
     "slide_type": "subslide"
    }
   },
   "outputs": [
    {
     "data": {
      "text/plain": [
       "(0.0, 1.0, 1.0)"
      ]
     },
     "execution_count": 19,
     "metadata": {},
     "output_type": "execute_result"
    },
    {
     "data": {
      "image/png": "[encoded data removed]",
      "text/plain": [
       "<matplotlib.figure.Figure at 0x7f93dfd46d90>"
      ]
     },
     "metadata": {},
     "output_type": "display_data"
    }
   ],
   "source": [
    "# Figure elements\n",
    "fig, axes = subplots(3,1, sharex=True)\n",
    "\n",
    "# Plot the probability distribution function (PDF)\n",
    "axes[0].plot(x, N.pdf(x))\n",
    "\n",
    "# Plot the commulative distributin function (CDF)\n",
    "axes[1].plot(x, N.cdf(x))\n",
    "\n",
    "# Plot histogram of 1000 random realizations of the stochastic variable N\n",
    "axes[2].hist(N.rvs(size=1000), bins=50)\n",
    "\n",
    "N.mean(), N.std(), N.var() # properties"
   ]
  },
  {
   "cell_type": "markdown",
   "metadata": {
    "slideshow": {
     "slide_type": "slide"
    }
   },
   "source": [
    "# Versions"
   ]
  },
  {
   "cell_type": "code",
   "execution_count": 20,
   "metadata": {
    "collapsed": false,
    "slideshow": {
     "slide_type": "subslide"
    }
   },
   "outputs": [
    {
     "data": {
      "application/json": {
       "Software versions": [
        {
         "module": "Python",
         "version": "2.7.10 64bit [GCC 4.4.7 20120313 (Red Hat 4.4.7-1)]"
        },
        {
         "module": "IPython",
         "version": "3.1.0"
        },
        {
         "module": "OS",
         "version": "Linux 4.0.3 boot2docker x86_64 with debian jessie sid"
        },
        {
         "module": "numpy",
         "version": "1.9.2"
        },
        {
         "module": "scipy",
         "version": "0.15.1"
        }
       ]
      },
      "text/html": [
       "<table><tr><th>Software</th><th>Version</th></tr><tr><td>Python</td><td>2.7.10 64bit [GCC 4.4.7 20120313 (Red Hat 4.4.7-1)]</td></tr><tr><td>IPython</td><td>3.1.0</td></tr><tr><td>OS</td><td>Linux 4.0.3 boot2docker x86_64 with debian jessie sid</td></tr><tr><td>numpy</td><td>1.9.2</td></tr><tr><td>scipy</td><td>0.15.1</td></tr><tr><td colspan='2'>Mon Jun 15 14:28:05 2015 UTC</td></tr></table>"
      ],
      "text/latex": [
       "\\begin{tabular}{|l|l|}\\hline\n",
       "{\\bf Software} & {\\bf Version} \\\\ \\hline\\hline\n",
       "Python & 2.7.10 64bit [GCC 4.4.7 20120313 (Red Hat 4.4.7-1)] \\\\ \\hline\n",
       "IPython & 3.1.0 \\\\ \\hline\n",
       "OS & Linux 4.0.3 boot2docker x86\\_64 with debian jessie sid \\\\ \\hline\n",
       "numpy & 1.9.2 \\\\ \\hline\n",
       "scipy & 0.15.1 \\\\ \\hline\n",
       "\\hline \\multicolumn{2}{|l|}{Mon Jun 15 14:28:05 2015 UTC} \\\\ \\hline\n",
       "\\end{tabular}\n"
      ],
      "text/plain": [
       "Software versions\n",
       "Python 2.7.10 64bit [GCC 4.4.7 20120313 (Red Hat 4.4.7-1)]\n",
       "IPython 3.1.0\n",
       "OS Linux 4.0.3 boot2docker x86_64 with debian jessie sid\n",
       "numpy 1.9.2\n",
       "scipy 0.15.1\n",
       "Mon Jun 15 14:28:05 2015 UTC"
      ]
     },
     "execution_count": 20,
     "metadata": {},
     "output_type": "execute_result"
    }
   ],
   "source": [
    "%reload_ext version_information\n",
    "\n",
    "%version_information numpy, scipy"
   ]
  },
  {
   "cell_type": "markdown",
   "metadata": {
    "slideshow": {
     "slide_type": "subslide"
    }
   },
   "source": [
    "**Let's move to the next part :)**"
   ]
  }
 ],
 "metadata": {
  "celltoolbar": "Slideshow",
  "kernelspec": {
   "display_name": "Python 2",
   "language": "python",
   "name": "python2"
  },
  "language_info": {
   "codemirror_mode": {
    "name": "ipython",
    "version": 2
   },
   "file_extension": ".py",
   "mimetype": "text/x-python",
   "name": "python",
   "nbconvert_exporter": "python",
   "pygments_lexer": "ipython2",
   "version": "2.7.10"
  }
 },
 "nbformat": 4,
 "nbformat_minor": 0
}
