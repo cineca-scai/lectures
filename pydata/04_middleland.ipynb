{
 "cells": [
  {
   "cell_type": "markdown",
   "metadata": {
    "slideshow": {
     "slide_type": "slide"
    }
   },
   "source": [
    "# Be better"
   ]
  },
  {
   "cell_type": "code",
   "execution_count": 1,
   "metadata": {
    "collapsed": false,
    "slideshow": {
     "slide_type": "subslide"
    }
   },
   "outputs": [
    {
     "name": "stdout",
     "output_type": "stream",
     "text": [
      "The Zen of Python, by Tim Peters\n",
      "\n",
      "Beautiful is better than ugly.\n",
      "Explicit is better than implicit.\n",
      "Simple is better than complex.\n",
      "Complex is better than complicated.\n",
      "Flat is better than nested.\n",
      "Sparse is better than dense.\n",
      "Readability counts.\n",
      "Special cases aren't special enough to break the rules.\n",
      "Although practicality beats purity.\n",
      "Errors should never pass silently.\n",
      "Unless explicitly silenced.\n",
      "In the face of ambiguity, refuse the temptation to guess.\n",
      "There should be one-- and preferably only one --obvious way to do it.\n",
      "Although that way may not be obvious at first unless you're Dutch.\n",
      "Now is better than never.\n",
      "Although never is often better than *right* now.\n",
      "If the implementation is hard to explain, it's a bad idea.\n",
      "If the implementation is easy to explain, it may be a good idea.\n",
      "Namespaces are one honking great idea -- let's do more of those!\n"
     ]
    }
   ],
   "source": [
    "import this"
   ]
  },
  {
   "cell_type": "markdown",
   "metadata": {
    "slideshow": {
     "slide_type": "subslide"
    }
   },
   "source": [
    "> Special cases aren't special enough to break the rules\n",
    "\n",
    "*Once you admit that exception...*"
   ]
  },
  {
   "cell_type": "markdown",
   "metadata": {
    "slideshow": {
     "slide_type": "slide"
    }
   },
   "source": [
    "# Disclaimer"
   ]
  },
  {
   "cell_type": "markdown",
   "metadata": {
    "slideshow": {
     "slide_type": "subslide"
    }
   },
   "source": [
    "> lost, nowhere, in the middleland"
   ]
  },
  {
   "cell_type": "markdown",
   "metadata": {
    "slideshow": {
     "slide_type": "fragment"
    }
   },
   "source": [
    "**The Learning Conundrum**: while searching for a solution we start a new problem\n",
    "\n",
    "read http://code.tutsplus.com/articles/the-learning-conundrum--net-35274"
   ]
  },
  {
   "cell_type": "markdown",
   "metadata": {
    "slideshow": {
     "slide_type": "fragment"
    }
   },
   "source": [
    "\"*i was googling for a package and i just discovered docker*\""
   ]
  },
  {
   "cell_type": "markdown",
   "metadata": {
    "slideshow": {
     "slide_type": "fragment"
    }
   },
   "source": [
    "\"*WOW! docker is amazing! let's dockerize everything right now.*\""
   ]
  },
  {
   "cell_type": "markdown",
   "metadata": {
    "slideshow": {
     "slide_type": "slide"
    }
   },
   "source": [
    "# Development\n",
    "\n",
    "yes, docker is amazing"
   ]
  },
  {
   "cell_type": "markdown",
   "metadata": {
    "slideshow": {
     "slide_type": "subslide"
    }
   },
   "source": [
    "Download the image of a linux distribution to execute\n",
    "\n",
    "```\n",
    "docker pull centos\n",
    "```"
   ]
  },
  {
   "cell_type": "markdown",
   "metadata": {
    "slideshow": {
     "slide_type": "subslide"
    }
   },
   "source": [
    "Launch a container with standard ubuntu\n",
    "\n",
    "```\n",
    "docker run -it ubuntu bash\n",
    "```\n",
    "\n",
    "<small>hint: pull is implicit</small>"
   ]
  },
  {
   "cell_type": "markdown",
   "metadata": {
    "slideshow": {
     "slide_type": "subslide"
    }
   },
   "source": [
    "Launch dockerized apps\n",
    "\n",
    "```\n",
    "docker run -d --name psql postgresql\n",
    "docker run -it --link psql:db ubuntu bash\n",
    "```"
   ]
  },
  {
   "cell_type": "markdown",
   "metadata": {
    "slideshow": {
     "slide_type": "subslide"
    }
   },
   "source": [
    "*Create your container!*\n",
    "\n",
    "Write a `Dockerfile`\n",
    "\n",
    "```\n",
    "FROM ubuntu\n",
    "RUN apt-get install ipython\n",
    "```\n",
    "\n",
    "Use it\n",
    "\n",
    "```\n",
    "docker build -t mycontainer path/to/dockerfile\n",
    "docker run -it mycontainer ipython\n",
    "```"
   ]
  },
  {
   "cell_type": "markdown",
   "metadata": {
    "slideshow": {
     "slide_type": "subslide"
    }
   },
   "source": [
    "Push your container to the public repository\n",
    "\n",
    "```\n",
    "docker push pdonorio/mycontainer\n",
    "```"
   ]
  },
  {
   "cell_type": "markdown",
   "metadata": {
    "slideshow": {
     "slide_type": "slide"
    }
   },
   "source": [
    "# Collaborating\n",
    "\n",
    "even with your (future) self"
   ]
  },
  {
   "cell_type": "markdown",
   "metadata": {
    "slideshow": {
     "slide_type": "subslide"
    }
   },
   "source": [
    "How i started my project\n",
    "```\n",
    "$ git init myproject\n",
    "```"
   ]
  },
  {
   "cell_type": "markdown",
   "metadata": {
    "slideshow": {
     "slide_type": "fragment"
    }
   },
   "source": [
    "You can start a new branch of your project\n",
    "```\n",
    "$ git checkout -b milano\n",
    "```"
   ]
  },
  {
   "cell_type": "markdown",
   "metadata": {
    "slideshow": {
     "slide_type": "subslide"
    }
   },
   "source": [
    "Everytime you completed (and also tested) a feature of your project\n",
    "```\n",
    "$ git add *\n",
    "$ git commit -m 'Added feature A. I am awesome.'\n",
    "\n",
    "Created commit akh3ohu\n",
    "```"
   ]
  },
  {
   "cell_type": "markdown",
   "metadata": {
    "slideshow": {
     "slide_type": "fragment"
    }
   },
   "source": [
    "You can easily check what you do\n",
    "```\n",
    "$ git log -n 1\n",
    "\n",
    "akh3ohu    Added feature A. I am awesome.\n",
    "```"
   ]
  },
  {
   "cell_type": "markdown",
   "metadata": {
    "slideshow": {
     "slide_type": "subslide"
    }
   },
   "source": [
    "Any command you do on git works on a **local** repository"
   ]
  },
  {
   "cell_type": "markdown",
   "metadata": {
    "slideshow": {
     "slide_type": "fragment"
    }
   },
   "source": [
    "But you can save it for free\n",
    "\n",
    "```\n",
    "$ git push http://github.com/pdonorio/myproject\n",
    "```"
   ]
  },
  {
   "cell_type": "markdown",
   "metadata": {
    "slideshow": {
     "slide_type": "fragment"
    }
   },
   "source": [
    "So that anyone in the world may \n",
    "- help you, proposing new feature \n",
    "- or fork a new project from your work"
   ]
  },
  {
   "cell_type": "markdown",
   "metadata": {
    "slideshow": {
     "slide_type": "fragment"
    }
   },
   "source": [
    "(even your colleagues...)"
   ]
  },
  {
   "cell_type": "markdown",
   "metadata": {
    "slideshow": {
     "slide_type": "slide"
    }
   },
   "source": [
    "# Formats and serialization"
   ]
  },
  {
   "cell_type": "markdown",
   "metadata": {
    "slideshow": {
     "slide_type": "subslide"
    }
   },
   "source": [
    "- Serialization refers to the process of outputting data \n",
    "    * to a database or a regular file\n",
    "    * for the purpose of using it later on\n",
    "\n",
    "<small>hint: sqlite3 is a way in the middle between file and db</small>"
   ]
  },
  {
   "cell_type": "markdown",
   "metadata": {
    "slideshow": {
     "slide_type": "subslide"
    }
   },
   "source": [
    "- As data interchange became important, the eXtensible Markup Language (XML) has emerged.\n",
    "- XML makes data formats that are easy to write parsers for\n",
    "    - greatly simplifying the ambiguity that sometimes arises in the process\n",
    "\n",
    "<small>hint: look into Element Trees, now part of the Python standard library</small>"
   ]
  },
  {
   "cell_type": "markdown",
   "metadata": {
    "slideshow": {
     "slide_type": "subslide"
    }
   },
   "source": [
    "- Python has a very general serialization format called pickle \n",
    "- it can turn any Python object into a representation that can be written to a file\n",
    "    - even a function \n",
    "    - or a class **(!?)**\n",
    "    \n",
    "<small>hint: the standard library documentation for pickle is the place to go</small>"
   ]
  },
  {
   "cell_type": "markdown",
   "metadata": {
    "slideshow": {
     "slide_type": "subslide"
    }
   },
   "source": [
    "> the power lies in being able to share"
   ]
  },
  {
   "cell_type": "markdown",
   "metadata": {
    "slideshow": {
     "slide_type": "fragment"
    }
   },
   "source": [
    "A relatively recent format call **JavaScript Object Notation** (`JSON`) \n",
    "has become very popular over the past few years\n",
    "\n",
    "- There's a module in the standard library for encoding and decoding JSON formats \n",
    "    - it is <u>deeply wide</u> used across the web\n",
    "- I like JSON as it looks almost like Python\n",
    "    - unlike the other options\n",
    "    - you can look at your data and edit it\n",
    "    - use it in another program or language"
   ]
  },
  {
   "cell_type": "code",
   "execution_count": 2,
   "metadata": {
    "collapsed": false,
    "slideshow": {
     "slide_type": "subslide"
    }
   },
   "outputs": [
    {
     "data": {
      "text/plain": [
       "'{\"a\": [1, 2, 3], \"b\": [9, 10, 11], \"greeting\": \"Hola\"}'"
      ]
     },
     "execution_count": 2,
     "metadata": {},
     "output_type": "execute_result"
    }
   ],
   "source": [
    "# My data\n",
    "data = {\"a\":[1,2,3], \"b\":[9,10,11], \"greeting\":\"Hola\"}\n",
    "\n",
    "# The JSON representation\n",
    "import json\n",
    "json.dumps(data)"
   ]
  },
  {
   "cell_type": "markdown",
   "metadata": {
    "slideshow": {
     "slide_type": "fragment"
    }
   },
   "source": [
    "`:)`"
   ]
  },
  {
   "cell_type": "code",
   "execution_count": 3,
   "metadata": {
    "collapsed": false,
    "slideshow": {
     "slide_type": "subslide"
    }
   },
   "outputs": [
    {
     "data": {
      "text/plain": [
       "'{\"amount\": \"120.50\", \"now\": \"2015-06-08 14:04:13.858003\", \"name\": \"Paolo\"}'"
      ]
     },
     "execution_count": 3,
     "metadata": {},
     "output_type": "execute_result"
    }
   ],
   "source": [
    "import datetime\n",
    "from decimal import Decimal\n",
    "\n",
    "# You can use many types with no fear\n",
    "json.dumps({'name':'Paolo', 'now':datetime.datetime.now(), 'amount':Decimal('120.50')}, default=str)"
   ]
  },
  {
   "cell_type": "markdown",
   "metadata": {
    "slideshow": {
     "slide_type": "slide"
    }
   },
   "source": [
    "# Notebooks"
   ]
  },
  {
   "cell_type": "markdown",
   "metadata": {
    "slideshow": {
     "slide_type": "fragment"
    }
   },
   "source": [
    "* You are running a notebook server"
   ]
  },
  {
   "cell_type": "markdown",
   "metadata": {
    "slideshow": {
     "slide_type": "fragment"
    }
   },
   "source": [
    "* You can write slides and present them"
   ]
  },
  {
   "cell_type": "markdown",
   "metadata": {
    "slideshow": {
     "slide_type": "fragment"
    }
   },
   "source": [
    "* With git you can render notebooks file without hosting publicy that server"
   ]
  },
  {
   "cell_type": "markdown",
   "metadata": {
    "slideshow": {
     "slide_type": "fragment"
    }
   },
   "source": [
    "* notebooks can help you write your presentation\n",
    "\n",
    "<small> or at least it helped me </small>"
   ]
  },
  {
   "cell_type": "markdown",
   "metadata": {
    "slideshow": {
     "slide_type": "subslide"
    }
   },
   "source": [
    "But what is a *ipynb* file?"
   ]
  },
  {
   "cell_type": "code",
   "execution_count": 4,
   "metadata": {
    "collapsed": false,
    "slideshow": {
     "slide_type": "fragment"
    }
   },
   "outputs": [
    {
     "name": "stdout",
     "output_type": "stream",
     "text": [
      "A notebook test\n"
     ]
    }
   ],
   "source": [
    "print \"A notebook test\""
   ]
  },
  {
   "cell_type": "markdown",
   "metadata": {
    "slideshow": {
     "slide_type": "subslide"
    }
   },
   "source": [
    "```\n",
    "{\n",
    "   \"cell_type\": \"code\",\n",
    "   \"execution_count\": 8,\n",
    "   \"metadata\": {\n",
    "    \"collapsed\": false,\n",
    "    \"slideshow\": {\n",
    "     \"slide_type\": \"subslide\"\n",
    "    }\n",
    "   },\n",
    "   \"outputs\": [\n",
    "    {\n",
    "     \"name\": \"stdout\",\n",
    "     \"output_type\": \"stream\",\n",
    "     \"text\": [\n",
    "      \"A notebook test\\n\"\n",
    "     ]\n",
    "    }\n",
    "   ],\n",
    "   \"source\": [\n",
    "    \"print \\\"A notebook test\\\"\"\n",
    "   ]\n",
    "  }```"
   ]
  },
  {
   "cell_type": "markdown",
   "metadata": {
    "slideshow": {
     "slide_type": "slide"
    }
   },
   "source": [
    "# Notebooks are amazing"
   ]
  },
  {
   "cell_type": "markdown",
   "metadata": {
    "slideshow": {
     "slide_type": "subslide"
    }
   },
   "source": [
    "Install a library on the fly"
   ]
  },
  {
   "cell_type": "code",
   "execution_count": null,
   "metadata": {
    "collapsed": false
   },
   "outputs": [],
   "source": [
    "# you can use the python package manager within the notebook\n",
    "!pip install ipy_table"
   ]
  },
  {
   "cell_type": "markdown",
   "metadata": {
    "slideshow": {
     "slide_type": "subslide"
    }
   },
   "source": [
    "Use it with few lines of code"
   ]
  },
  {
   "cell_type": "code",
   "execution_count": null,
   "metadata": {
    "collapsed": false,
    "slideshow": {
     "slide_type": "fragment"
    }
   },
   "outputs": [],
   "source": [
    "# Define data\n",
    "planets = [\n",
    "    ['Planet', 'Mass (kg)', 'Diameter (km)'],\n",
    "    ['Mercury', 3.3022E23, 4879], \n",
    "    ['Venus', 4.896E24, 12104],\n",
    "    ['Earth', 5.972E24, 12735],\n",
    "    ['Mars', 6.4191E23, 6772]]"
   ]
  },
  {
   "cell_type": "code",
   "execution_count": null,
   "metadata": {
    "collapsed": false,
    "slideshow": {
     "slide_type": "subslide"
    }
   },
   "outputs": [],
   "source": [
    "## https://github.com/epmoyer/ipy_table\n",
    "from ipy_table import *\n",
    "\n",
    "# Use library on that data\n",
    "make_table(planets)\n",
    "apply_theme('basic')\n",
    "set_row_style(3,color='yellow')"
   ]
  },
  {
   "cell_type": "markdown",
   "metadata": {
    "slideshow": {
     "slide_type": "slide"
    }
   },
   "source": [
    "# Our docker image"
   ]
  },
  {
   "cell_type": "markdown",
   "metadata": {
    "slideshow": {
     "slide_type": "subslide"
    }
   },
   "source": [
    "- Python 2\n",
    "- Jupyter notebooks server running at boot\n",
    "- All the *pydata* stack\n",
    "- Reveal plugin (live slides)\n",
    "    - keyboards configured"
   ]
  },
  {
   "cell_type": "markdown",
   "metadata": {
    "slideshow": {
     "slide_type": "fragment"
    }
   },
   "source": [
    "Available in the public docker hub\n",
    "\n",
    "https://registry.hub.docker.com/u/cineca/jupydatanb/"
   ]
  },
  {
   "cell_type": "markdown",
   "metadata": {
    "slideshow": {
     "slide_type": "slide"
    }
   },
   "source": [
    "...and finally\n",
    "# Production"
   ]
  },
  {
   "cell_type": "markdown",
   "metadata": {
    "slideshow": {
     "slide_type": "subslide"
    }
   },
   "source": [
    "https://www.pythonanywhere.com/\n",
    "\n",
    "> Get started for free. \n",
    "\n",
    ">Our basic plan gives you access to machines with a full Python environment already installed. You can develop and host your website or any other code directly from your browser without having to install software or manage your own server.\n"
   ]
  },
  {
   "cell_type": "markdown",
   "metadata": {
    "slideshow": {
     "slide_type": "subslide"
    }
   },
   "source": [
    "* PythonAnywhere starts as a fully configured Python environment\n",
    "* Most of the system packages are the latest versions and have been tested to work together\n",
    "* Behaves more like a traditional server\n",
    "    - You have local storage that persists \n",
    "    - and you can ssh in \n",
    "    - or use a web console to look around, edit config files, or read logs. \n",
    "* Offers MySQL for free accounts\n",
    "* Django is easy to plug in\n",
    "    - https://www.pythonanywhere.com/wiki/DjangoTutorial"
   ]
  },
  {
   "cell_type": "markdown",
   "metadata": {},
   "source": [
    "A more technical tutorial:\n",
    "\n",
    "http://bitly.com/anywheretutorial"
   ]
  },
  {
   "cell_type": "markdown",
   "metadata": {
    "slideshow": {
     "slide_type": "slide"
    }
   },
   "source": [
    "# you can catch a break"
   ]
  },
  {
   "cell_type": "code",
   "execution_count": null,
   "metadata": {
    "collapsed": false
   },
   "outputs": [],
   "source": [
    "import time\n",
    "time.sleep(15*60)\n",
    "print \"Our mind is clearer, let's start again.\""
   ]
  }
 ],
 "metadata": {
  "celltoolbar": "Slideshow",
  "kernelspec": {
   "display_name": "Python 2",
   "language": "python",
   "name": "python2"
  },
  "language_info": {
   "codemirror_mode": {
    "name": "ipython",
    "version": 2
   },
   "file_extension": ".py",
   "mimetype": "text/x-python",
   "name": "python",
   "nbconvert_exporter": "python",
   "pygments_lexer": "ipython2",
   "version": "2.7.10"
  }
 },
 "nbformat": 4,
 "nbformat_minor": 0
}
