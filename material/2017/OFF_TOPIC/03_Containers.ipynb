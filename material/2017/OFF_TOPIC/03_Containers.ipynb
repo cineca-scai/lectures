{
 "cells": [
  {
   "cell_type": "markdown",
   "metadata": {
    "slideshow": {
     "slide_type": "slide"
    }
   },
   "source": [
    "# Docker\n",
    "\n",
    "lightweight virtualization"
   ]
  },
  {
   "cell_type": "markdown",
   "metadata": {
    "collapsed": true,
    "slideshow": {
     "slide_type": "subslide"
    }
   },
   "source": [
    "Cineca account:\n",
    "\n",
    "https://hub.docker.com/u/cineca/"
   ]
  },
  {
   "cell_type": "markdown",
   "metadata": {
    "slideshow": {
     "slide_type": "subslide"
    }
   },
   "source": [
    "Docker allows us to create applications in a controlled, isolated, flexible, and portable manner. "
   ]
  },
  {
   "cell_type": "markdown",
   "metadata": {
    "slideshow": {
     "slide_type": "fragment"
    }
   },
   "source": [
    "The central logic behind it — a container — isn’t new. "
   ]
  },
  {
   "cell_type": "markdown",
   "metadata": {
    "slideshow": {
     "slide_type": "fragment"
    }
   },
   "source": [
    "Container software like LXC or Linux Containers, which help multiple isolated systems run on a single host, has been around for years. "
   ]
  },
  {
   "cell_type": "markdown",
   "metadata": {
    "slideshow": {
     "slide_type": "fragment"
    }
   },
   "source": [
    "But...\n",
    "...what Docker does is make the creation and sharing of these containers easy and efficient"
   ]
  },
  {
   "cell_type": "markdown",
   "metadata": {
    "slideshow": {
     "slide_type": "fragment"
    }
   },
   "source": [
    "pretty much anyone can use them"
   ]
  },
  {
   "cell_type": "markdown",
   "metadata": {
    "slideshow": {
     "slide_type": "subslide"
    }
   },
   "source": [
    "Before Docker came along, developers had a hard time implementing or even figuring out how containers worked. \n",
    "\n",
    "But Docker’s ease of use has altered this situation and changed the way we develop, test, share, and deploy applications."
   ]
  },
  {
   "cell_type": "markdown",
   "metadata": {
    "collapsed": true,
    "slideshow": {
     "slide_type": "subslide"
    }
   },
   "source": [
    "## Docker Containers or Traditional Virtualization?\n",
    "\n",
    "You might be tempted to compare a docker container to a small VM (virtual machine) container. \n",
    "\n",
    "The difference, however, lies in their performance: \n",
    "a container is faster to start up, since it doesn’t carry out all the OS-related steps of booting up. \n",
    "\n",
    "It shares the operating system kernel, binaries, and libraries. Hence, it takes up less space and is more lightweight than a VM.\n",
    "\n",
    "<img width=600 src='http://blog.qburst.com/wp-content/uploads/2015/09/Docker-Inner.png'>"
   ]
  },
  {
   "cell_type": "markdown",
   "metadata": {
    "slideshow": {
     "slide_type": "skip"
    }
   },
   "source": [
    "source: http://blog.qburst.com/2015/10/docker-devops-new-best-friend/"
   ]
  },
  {
   "cell_type": "markdown",
   "metadata": {
    "slideshow": {
     "slide_type": "slide"
    }
   },
   "source": [
    "## Docker commands"
   ]
  },
  {
   "cell_type": "markdown",
   "metadata": {
    "slideshow": {
     "slide_type": "subslide"
    }
   },
   "source": [
    "Download the image of a linux distribution to execute\n",
    "\n",
    "```\n",
    "docker pull centos\n",
    "```"
   ]
  },
  {
   "cell_type": "markdown",
   "metadata": {
    "slideshow": {
     "slide_type": "fragment"
    }
   },
   "source": [
    "Launch a container with standard ubuntu\n",
    "\n",
    "```\n",
    "docker run -it ubuntu bash\n",
    "```\n",
    "\n",
    "<small>hint: pull is implicit</small>"
   ]
  },
  {
   "cell_type": "markdown",
   "metadata": {
    "slideshow": {
     "slide_type": "subslide"
    }
   },
   "source": [
    "Launch dockerized apps\n",
    "\n",
    "```\n",
    "docker run -d --name psql postgresql\n",
    "docker run -it --link psql:db ubuntu bash\n",
    "```"
   ]
  },
  {
   "cell_type": "markdown",
   "metadata": {
    "slideshow": {
     "slide_type": "subslide"
    }
   },
   "source": [
    "*Create your container!*\n",
    "\n",
    "Write a `Dockerfile`\n",
    "\n",
    "```\n",
    "FROM ubuntu\n",
    "RUN apt-get install ipython\n",
    "```\n",
    "\n",
    "Use it\n",
    "\n",
    "```\n",
    "docker build -t mycontainer path/to/dockerfile\n",
    "docker run -it mycontainer ipython\n",
    "```"
   ]
  },
  {
   "cell_type": "markdown",
   "metadata": {
    "slideshow": {
     "slide_type": "subslide"
    }
   },
   "source": [
    "Push your container to the public repository\n",
    "\n",
    "```\n",
    "docker push pdonorio/mycontainer\n",
    "```"
   ]
  },
  {
   "cell_type": "markdown",
   "metadata": {
    "slideshow": {
     "slide_type": "slide"
    }
   },
   "source": [
    "### Docker ecosystem and commands\n",
    "\n",
    "<img src='http://blog.octo.com/wp-content/uploads/2014/01/docker-stages.png' width=600>"
   ]
  },
  {
   "cell_type": "markdown",
   "metadata": {
    "slideshow": {
     "slide_type": "slide"
    }
   },
   "source": [
    "### Note for Virtual Machines\n",
    "\n",
    "Docker works on top of Linux Kernel. \n",
    "\n",
    "For other OS to use it you have to rely on a virtual machine that runs a Linux distro.\n",
    "\n",
    "On `Mac` and `Windows` you end up working with a `Virtualbox` small image called `boot2docker`.\n",
    "\n",
    "The new defaults for system usage have recently changed:\n",
    "* https://github.com/docker/machine/issues/1062\n",
    "\n",
    "So beware, your virtual machine cannot use more than a virtual core for all its containers, if you don't change it"
   ]
  },
  {
   "cell_type": "markdown",
   "metadata": {},
   "source": [
    "Tip: stats for your running containers\n",
    "```bash\n",
    "docker stats $(docker ps | awk '{print $NF}')\n",
    "```"
   ]
  },
  {
   "cell_type": "markdown",
   "metadata": {
    "slideshow": {
     "slide_type": "slide"
    }
   },
   "source": [
    "# End of Chapter"
   ]
  }
 ],
 "metadata": {
  "celltoolbar": "Slideshow",
  "kernelspec": {
   "display_name": "Python 3",
   "language": "python",
   "name": "python3"
  },
  "language_info": {
   "codemirror_mode": {
    "name": "ipython",
    "version": 3
   },
   "file_extension": ".py",
   "mimetype": "text/x-python",
   "name": "python",
   "nbconvert_exporter": "python",
   "pygments_lexer": "ipython3",
   "version": "3.5.1"
  }
 },
 "nbformat": 4,
 "nbformat_minor": 0
}
