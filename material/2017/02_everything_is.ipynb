{
 "cells": [
  {
   "cell_type": "markdown",
   "metadata": {
    "slideshow": {
     "slide_type": "slide"
    }
   },
   "source": [
    "# Structures summary"
   ]
  },
  {
   "cell_type": "code",
   "execution_count": 268,
   "metadata": {
    "slideshow": {
     "slide_type": "subslide"
    }
   },
   "outputs": [
    {
     "data": {
      "text/plain": [
       "[]"
      ]
     },
     "execution_count": 268,
     "metadata": {},
     "output_type": "execute_result"
    }
   ],
   "source": [
    "list()"
   ]
  },
  {
   "cell_type": "code",
   "execution_count": 280,
   "metadata": {
    "slideshow": {
     "slide_type": "fragment"
    }
   },
   "outputs": [
    {
     "name": "stdout",
     "output_type": "stream",
     "text": [
      "['a', 1, 'test', 2.3, True, 1] <class 'list'>\n"
     ]
    }
   ],
   "source": [
    "mylist = ['a', 1, \"test\", 2.3, True, 1]\n",
    "print(mylist, type(mylist))"
   ]
  },
  {
   "cell_type": "code",
   "execution_count": 273,
   "metadata": {
    "slideshow": {
     "slide_type": "subslide"
    }
   },
   "outputs": [
    {
     "name": "stdout",
     "output_type": "stream",
     "text": [
      "string <class 'str'>\n"
     ]
    }
   ],
   "source": [
    "mystring = \"string\"\n",
    "print(mystring, type(mystring))"
   ]
  },
  {
   "cell_type": "code",
   "execution_count": 264,
   "metadata": {
    "slideshow": {
     "slide_type": "fragment"
    }
   },
   "outputs": [
    {
     "data": {
      "text/plain": [
       "['s', 't', 'r', 'i', 'n', 'g']"
      ]
     },
     "execution_count": 264,
     "metadata": {},
     "output_type": "execute_result"
    }
   ],
   "source": [
    "list(\"string\")"
   ]
  },
  {
   "cell_type": "code",
   "execution_count": 262,
   "metadata": {
    "slideshow": {
     "slide_type": "fragment"
    }
   },
   "outputs": [
    {
     "name": "stdout",
     "output_type": "stream",
     "text": [
      "s\n",
      "t\n",
      "r\n",
      "i\n",
      "n\n",
      "g\n"
     ]
    }
   ],
   "source": [
    "for char in \"string\":\n",
    "    print(char)"
   ]
  },
  {
   "cell_type": "code",
   "execution_count": 275,
   "metadata": {
    "slideshow": {
     "slide_type": "subslide"
    }
   },
   "outputs": [
    {
     "name": "stdout",
     "output_type": "stream",
     "text": [
      "{'a': 'test', 2: 'again'} <class 'dict'>\n"
     ]
    }
   ],
   "source": [
    "mydict = {'a': \"test\", 2: \"again\"}\n",
    "print(mydict, type(mydict))"
   ]
  },
  {
   "cell_type": "code",
   "execution_count": 277,
   "metadata": {
    "slideshow": {
     "slide_type": "subslide"
    }
   },
   "outputs": [
    {
     "name": "stdout",
     "output_type": "stream",
     "text": [
      "('a', 2, 'test') <class 'tuple'>\n"
     ]
    }
   ],
   "source": [
    "mytuple = ('a', 2, \"test\")\n",
    "print(mytuple, type(mytuple))"
   ]
  },
  {
   "cell_type": "code",
   "execution_count": 279,
   "metadata": {
    "slideshow": {
     "slide_type": "subslide"
    }
   },
   "outputs": [
    {
     "name": "stdout",
     "output_type": "stream",
     "text": [
      "{2, 'a', 'b'} <class 'set'>\n"
     ]
    }
   ],
   "source": [
    "myset = {'a', 2, 'b', 2}\n",
    "print(myset, type(myset))"
   ]
  },
  {
   "cell_type": "code",
   "execution_count": 282,
   "metadata": {
    "slideshow": {
     "slide_type": "subslide"
    }
   },
   "outputs": [
    {
     "name": "stdout",
     "output_type": "stream",
     "text": [
      "range(1, 10) <class 'range'>\n"
     ]
    }
   ],
   "source": [
    "myrange = range(1, 10)\n",
    "print(myrange, type(myrange))"
   ]
  },
  {
   "cell_type": "code",
   "execution_count": 283,
   "metadata": {},
   "outputs": [
    {
     "data": {
      "text/plain": [
       "[1, 2, 3, 4, 5, 6, 7, 8, 9]"
      ]
     },
     "execution_count": 283,
     "metadata": {},
     "output_type": "execute_result"
    }
   ],
   "source": [
    "list(myrange)"
   ]
  },
  {
   "cell_type": "markdown",
   "metadata": {
    "slideshow": {
     "slide_type": "slide"
    }
   },
   "source": [
    "# Play with packages and modules"
   ]
  },
  {
   "cell_type": "code",
   "execution_count": 10,
   "metadata": {
    "collapsed": true,
    "slideshow": {
     "slide_type": "subslide"
    }
   },
   "outputs": [],
   "source": [
    "import sys"
   ]
  },
  {
   "cell_type": "code",
   "execution_count": 11,
   "metadata": {
    "slideshow": {
     "slide_type": "fragment"
    }
   },
   "outputs": [
    {
     "data": {
      "text/plain": [
       "<module 'sys' (built-in)>"
      ]
     },
     "execution_count": 11,
     "metadata": {},
     "output_type": "execute_result"
    }
   ],
   "source": [
    "sys"
   ]
  },
  {
   "cell_type": "code",
   "execution_count": 12,
   "metadata": {
    "slideshow": {
     "slide_type": "subslide"
    }
   },
   "outputs": [
    {
     "data": {
      "text/plain": [
       "['',\n",
       " '/local/mrjob',\n",
       " '/usr/local/Cellar/python3/3.4.3_2/Frameworks/Python.framework/Versions/3.4/lib/python34.zip',\n",
       " '/usr/local/Cellar/python3/3.4.3_2/Frameworks/Python.framework/Versions/3.4/lib/python3.4',\n",
       " '/usr/local/Cellar/python3/3.4.3_2/Frameworks/Python.framework/Versions/3.4/lib/python3.4/plat-darwin',\n",
       " '/usr/local/Cellar/python3/3.4.3_2/Frameworks/Python.framework/Versions/3.4/lib/python3.4/lib-dynload',\n",
       " '/Users/paulie/Library/Python/3.4/lib/python/site-packages',\n",
       " '/usr/local/lib/python3.4/site-packages',\n",
       " '/usr/local/lib/python3.4/site-packages/IPython/extensions',\n",
       " '/Users/paulie/.ipython']"
      ]
     },
     "execution_count": 12,
     "metadata": {},
     "output_type": "execute_result"
    }
   ],
   "source": [
    "sys.path"
   ]
  },
  {
   "cell_type": "code",
   "execution_count": 10,
   "metadata": {
    "collapsed": true,
    "slideshow": {
     "slide_type": "subslide"
    }
   },
   "outputs": [],
   "source": [
    "import math"
   ]
  },
  {
   "cell_type": "code",
   "execution_count": 2,
   "metadata": {
    "slideshow": {
     "slide_type": "fragment"
    }
   },
   "outputs": [
    {
     "data": {
      "text/plain": [
       "<module 'math' from '/opt/conda/lib/python3.6/lib-dynload/math.cpython-36m-x86_64-linux-gnu.so'>"
      ]
     },
     "execution_count": 2,
     "metadata": {},
     "output_type": "execute_result"
    }
   ],
   "source": [
    "math"
   ]
  },
  {
   "cell_type": "code",
   "execution_count": 3,
   "metadata": {
    "slideshow": {
     "slide_type": "fragment"
    }
   },
   "outputs": [
    {
     "data": {
      "text/plain": [
       "<function math.cos>"
      ]
     },
     "execution_count": 3,
     "metadata": {},
     "output_type": "execute_result"
    }
   ],
   "source": [
    "math.cos"
   ]
  },
  {
   "cell_type": "code",
   "execution_count": 11,
   "metadata": {
    "collapsed": true,
    "slideshow": {
     "slide_type": "subslide"
    }
   },
   "outputs": [],
   "source": [
    "mycos = math.cos"
   ]
  },
  {
   "cell_type": "code",
   "execution_count": 5,
   "metadata": {
    "slideshow": {
     "slide_type": "fragment"
    }
   },
   "outputs": [
    {
     "data": {
      "text/plain": [
       "-1.0"
      ]
     },
     "execution_count": 5,
     "metadata": {},
     "output_type": "execute_result"
    }
   ],
   "source": [
    "mycos(3*math.pi)"
   ]
  },
  {
   "cell_type": "code",
   "execution_count": 6,
   "metadata": {
    "slideshow": {
     "slide_type": "fragment"
    }
   },
   "outputs": [
    {
     "data": {
      "text/plain": [
       "builtin_function_or_method"
      ]
     },
     "execution_count": 6,
     "metadata": {},
     "output_type": "execute_result"
    }
   ],
   "source": [
    "# Everything has a type\n",
    "\n",
    "type(mycos)"
   ]
  },
  {
   "cell_type": "code",
   "execution_count": 7,
   "metadata": {
    "scrolled": true,
    "slideshow": {
     "slide_type": "subslide"
    }
   },
   "outputs": [
    {
     "data": {
      "text/plain": [
       "['__call__',\n",
       " '__class__',\n",
       " '__delattr__',\n",
       " '__dir__',\n",
       " '__doc__',\n",
       " '__eq__',\n",
       " '__format__',\n",
       " '__ge__',\n",
       " '__getattribute__',\n",
       " '__gt__',\n",
       " '__hash__',\n",
       " '__init__',\n",
       " '__init_subclass__',\n",
       " '__le__',\n",
       " '__lt__',\n",
       " '__module__',\n",
       " '__name__',\n",
       " '__ne__',\n",
       " '__new__',\n",
       " '__qualname__',\n",
       " '__reduce__',\n",
       " '__reduce_ex__',\n",
       " '__repr__',\n",
       " '__self__',\n",
       " '__setattr__',\n",
       " '__sizeof__',\n",
       " '__str__',\n",
       " '__subclasshook__',\n",
       " '__text_signature__']"
      ]
     },
     "execution_count": 7,
     "metadata": {},
     "output_type": "execute_result"
    }
   ],
   "source": [
    "# Everything contains something else?\n",
    "\n",
    "dir(mycos)"
   ]
  },
  {
   "cell_type": "code",
   "execution_count": 8,
   "metadata": {
    "slideshow": {
     "slide_type": "subslide"
    }
   },
   "outputs": [
    {
     "data": {
      "text/plain": [
       "'cos'"
      ]
     },
     "execution_count": 8,
     "metadata": {},
     "output_type": "execute_result"
    }
   ],
   "source": [
    "mycos.__name__"
   ]
  },
  {
   "cell_type": "code",
   "execution_count": 29,
   "metadata": {
    "slideshow": {
     "slide_type": "fragment"
    }
   },
   "outputs": [
    {
     "data": {
      "text/plain": [
       "str"
      ]
     },
     "execution_count": 29,
     "metadata": {},
     "output_type": "execute_result"
    }
   ],
   "source": [
    "type(mycos.__name__)"
   ]
  },
  {
   "cell_type": "code",
   "execution_count": 15,
   "metadata": {
    "scrolled": true,
    "slideshow": {
     "slide_type": "subslide"
    }
   },
   "outputs": [
    {
     "data": {
      "text/plain": [
       "'<built-in function cos>'"
      ]
     },
     "execution_count": 15,
     "metadata": {},
     "output_type": "execute_result"
    }
   ],
   "source": [
    "mycos.__repr__()"
   ]
  },
  {
   "cell_type": "code",
   "execution_count": 10,
   "metadata": {
    "slideshow": {
     "slide_type": "subslide"
    }
   },
   "outputs": [
    {
     "data": {
      "text/plain": [
       "'cos(x)\\n\\nReturn the cosine of x (measured in radians).'"
      ]
     },
     "execution_count": 10,
     "metadata": {},
     "output_type": "execute_result"
    }
   ],
   "source": [
    "mycos.__doc__"
   ]
  },
  {
   "cell_type": "code",
   "execution_count": 11,
   "metadata": {
    "slideshow": {
     "slide_type": "subslide"
    }
   },
   "outputs": [
    {
     "name": "stdout",
     "output_type": "stream",
     "text": [
      "cos(x)\n",
      "\n",
      "Return the cosine of x (measured in radians).\n"
     ]
    }
   ],
   "source": [
    "print(mycos.__doc__)"
   ]
  },
  {
   "cell_type": "code",
   "execution_count": 32,
   "metadata": {
    "scrolled": true,
    "slideshow": {
     "slide_type": "subslide"
    }
   },
   "outputs": [
    {
     "data": {
      "text/plain": [
       "['__add__',\n",
       " '__class__',\n",
       " '__contains__',\n",
       " '__delattr__',\n",
       " '__dir__',\n",
       " '__doc__',\n",
       " '__eq__',\n",
       " '__format__',\n",
       " '__ge__',\n",
       " '__getattribute__',\n",
       " '__getitem__',\n",
       " '__getnewargs__',\n",
       " '__gt__',\n",
       " '__hash__',\n",
       " '__init__',\n",
       " '__iter__',\n",
       " '__le__',\n",
       " '__len__',\n",
       " '__lt__',\n",
       " '__mod__',\n",
       " '__mul__',\n",
       " '__ne__',\n",
       " '__new__',\n",
       " '__reduce__',\n",
       " '__reduce_ex__',\n",
       " '__repr__',\n",
       " '__rmod__',\n",
       " '__rmul__',\n",
       " '__setattr__',\n",
       " '__sizeof__',\n",
       " '__str__',\n",
       " '__subclasshook__',\n",
       " 'capitalize',\n",
       " 'casefold',\n",
       " 'center',\n",
       " 'count',\n",
       " 'encode',\n",
       " 'endswith',\n",
       " 'expandtabs',\n",
       " 'find',\n",
       " 'format',\n",
       " 'format_map',\n",
       " 'index',\n",
       " 'isalnum',\n",
       " 'isalpha',\n",
       " 'isdecimal',\n",
       " 'isdigit',\n",
       " 'isidentifier',\n",
       " 'islower',\n",
       " 'isnumeric',\n",
       " 'isprintable',\n",
       " 'isspace',\n",
       " 'istitle',\n",
       " 'isupper',\n",
       " 'join',\n",
       " 'ljust',\n",
       " 'lower',\n",
       " 'lstrip',\n",
       " 'maketrans',\n",
       " 'partition',\n",
       " 'replace',\n",
       " 'rfind',\n",
       " 'rindex',\n",
       " 'rjust',\n",
       " 'rpartition',\n",
       " 'rsplit',\n",
       " 'rstrip',\n",
       " 'split',\n",
       " 'splitlines',\n",
       " 'startswith',\n",
       " 'strip',\n",
       " 'swapcase',\n",
       " 'title',\n",
       " 'translate',\n",
       " 'upper',\n",
       " 'zfill']"
      ]
     },
     "execution_count": 32,
     "metadata": {},
     "output_type": "execute_result"
    }
   ],
   "source": [
    "dir(mycos.__name__)"
   ]
  },
  {
   "cell_type": "markdown",
   "metadata": {
    "slideshow": {
     "slide_type": "subslide"
    }
   },
   "source": [
    "What is an object?"
   ]
  },
  {
   "cell_type": "markdown",
   "metadata": {
    "slideshow": {
     "slide_type": "fragment"
    }
   },
   "source": [
    "> Everything is an object"
   ]
  },
  {
   "cell_type": "markdown",
   "metadata": {
    "slideshow": {
     "slide_type": "fragment"
    }
   },
   "source": [
    "\n",
    "all \"things\" (values, classes, functions, object instances), and almost also every other language construct is conceptually an object in python"
   ]
  },
  {
   "cell_type": "markdown",
   "metadata": {
    "slideshow": {
     "slide_type": "slide"
    }
   },
   "source": [
    "# Python: everything is an object"
   ]
  },
  {
   "cell_type": "code",
   "execution_count": 6,
   "metadata": {
    "slideshow": {
     "slide_type": "subslide"
    }
   },
   "outputs": [
    {
     "data": {
      "text/plain": [
       "['Python 3.6.1']"
      ]
     },
     "execution_count": 6,
     "metadata": {},
     "output_type": "execute_result"
    }
   ],
   "source": [
    "%system python --version"
   ]
  },
  {
   "cell_type": "code",
   "execution_count": 7,
   "metadata": {
    "slideshow": {
     "slide_type": "fragment"
    }
   },
   "outputs": [
    {
     "data": {
      "text/plain": [
       "['Python', '3.6.1']"
      ]
     },
     "execution_count": 7,
     "metadata": {},
     "output_type": "execute_result"
    }
   ],
   "source": [
    "_.pop().split()"
   ]
  },
  {
   "cell_type": "markdown",
   "metadata": {
    "slideshow": {
     "slide_type": "slide"
    }
   },
   "source": [
    "## introspection\n",
    "\n",
    "- exploring python namespace\n",
    "- learn from checking by hands what is there\n",
    "\n"
   ]
  },
  {
   "cell_type": "code",
   "execution_count": 39,
   "metadata": {
    "slideshow": {
     "slide_type": "subslide"
    }
   },
   "outputs": [
    {
     "name": "stdout",
     "output_type": "stream",
     "text": [
      "['In', 'Out', '_', '_13', '_14', '_15', '_20', '_21', '_24', '_3', '_38', '_4', '_6', '_7', '__', '___', '__builtin__', '__builtins__', '__doc__', '__loader__', '__name__', '__package__', '__spec__', '_dh', '_exit_code', '_i', '_i1', '_i10', '_i11', '_i12', '_i13', '_i14', '_i15', '_i16', '_i17', '_i18', '_i19', '_i2', '_i20', '_i21', '_i22', '_i23', '_i24', '_i25', '_i26', '_i27', '_i28', '_i29', '_i3', '_i30', '_i31', '_i32', '_i33', '_i34', '_i35', '_i36', '_i37', '_i38', '_i39', '_i4', '_i5', '_i6', '_i7', '_i8', '_i9', '_ih', '_ii', '_iii', '_oh', '_sh', 'exit', 'get_ipython', 'howdoi', 'math', 'mycos', 'quit']\n"
     ]
    }
   ],
   "source": [
    "print(dir())"
   ]
  },
  {
   "cell_type": "code",
   "execution_count": 43,
   "metadata": {
    "slideshow": {
     "slide_type": "subslide"
    }
   },
   "outputs": [
    {
     "name": "stdout",
     "output_type": "stream",
     "text": [
      "In my current python namespace:\n",
      "\n",
      "In\n",
      "Out\n",
      "element\n",
      "exit\n",
      "get_ipython\n",
      "howdoi\n",
      "math\n",
      "mycos\n",
      "quit\n"
     ]
    }
   ],
   "source": [
    "print(\"In my current python namespace:\\n\")\n",
    "\n",
    "for element in dir():\n",
    "    if not element.startswith('_'):\n",
    "        print(element)\n",
    "        "
   ]
  },
  {
   "cell_type": "code",
   "execution_count": 57,
   "metadata": {
    "slideshow": {
     "slide_type": "subslide"
    }
   },
   "outputs": [
    {
     "name": "stdout",
     "output_type": "stream",
     "text": [
      "In\n",
      "Out\n",
      "element\n",
      "exit\n",
      "get_ipython\n",
      "howdoi\n",
      "math\n",
      "mycos\n",
      "quit\n"
     ]
    }
   ],
   "source": [
    "# The second time something new appears\n",
    "\n",
    "for element in dir():\n",
    "    if not element.startswith('_'):\n",
    "        print(element)\n",
    "        "
   ]
  },
  {
   "cell_type": "code",
   "execution_count": 75,
   "metadata": {
    "slideshow": {
     "slide_type": "subslide"
    }
   },
   "outputs": [
    {
     "name": "stdout",
     "output_type": "stream",
     "text": [
      "Help on method get_ipython in module IPython.core.interactiveshell:\n",
      "\n",
      "get_ipython() method of ipykernel.zmqshell.ZMQInteractiveShell instance\n",
      "    Return the currently running IPython instance.\n",
      "\n"
     ]
    }
   ],
   "source": [
    "help(get_ipython)"
   ]
  },
  {
   "cell_type": "markdown",
   "metadata": {
    "slideshow": {
     "slide_type": "slide"
    }
   },
   "source": [
    "## meta\n",
    "\n",
    "how to call a function from a list of functions"
   ]
  },
  {
   "cell_type": "code",
   "execution_count": 70,
   "metadata": {
    "slideshow": {
     "slide_type": "subslide"
    }
   },
   "outputs": [
    {
     "name": "stdout",
     "output_type": "stream",
     "text": [
      "Help on built-in function callable in module builtins:\n",
      "\n",
      "callable(obj, /)\n",
      "    Return whether the object is callable (i.e., some kind of function).\n",
      "    \n",
      "    Note that classes are callable, as are instances of classes with a\n",
      "    __call__() method.\n",
      "\n"
     ]
    }
   ],
   "source": [
    "help(callable)"
   ]
  },
  {
   "cell_type": "code",
   "execution_count": 69,
   "metadata": {
    "scrolled": true,
    "slideshow": {
     "slide_type": "subslide"
    }
   },
   "outputs": [
    {
     "name": "stdout",
     "output_type": "stream",
     "text": [
      "<built-in function acos> is a function: acos(x)Return the arc cosine (measured in radians) of x.\n",
      "<built-in function acosh> is a function: acosh(x)Return the inverse hyperbolic cosine of x.\n",
      "<built-in function asin> is a function: asin(x)Return the arc sine (measured in radians) of x.\n",
      "<built-in function asinh> is a function: asinh(x)Return the inverse hyperbolic sine of x.\n",
      "<built-in function atan> is a function: atan(x)Return the arc tangent (measured in radians) of x.\n",
      "<built-in function atan2> is a function: atan2(y, x)Return the arc tangent (measured in radians) of y/x.Unlike atan(y/x), the signs of both x and y are considered.\n",
      "<built-in function atanh> is a function: atanh(x)Return the inverse hyperbolic tangent of x.\n",
      "<built-in function ceil> is a function: ceil(x)Return the ceiling of x as an Integral.This is the smallest integer >= x.\n",
      "<built-in function copysign> is a function: copysign(x, y)Return a float with the magnitude (absolute value) of x but the sign of y. On platforms that support signed zeros, copysign(1.0, -0.0) returns -1.0.\n",
      "<built-in function cos> is a function: cos(x)Return the cosine of x (measured in radians).\n",
      "<built-in function cosh> is a function: cosh(x)Return the hyperbolic cosine of x.\n",
      "<built-in function degrees> is a function: degrees(x)Convert angle x from radians to degrees.\n",
      "*** e is NOT a function: <class 'float'> 2.718281828459045\n",
      "<built-in function erf> is a function: erf(x)Error function at x.\n",
      "<built-in function erfc> is a function: erfc(x)Complementary error function at x.\n",
      "<built-in function exp> is a function: exp(x)Return e raised to the power of x.\n",
      "<built-in function expm1> is a function: expm1(x)Return exp(x)-1.This function avoids the loss of precision involved in the direct evaluation of exp(x)-1 for small x.\n",
      "<built-in function fabs> is a function: fabs(x)Return the absolute value of the float x.\n",
      "<built-in function factorial> is a function: factorial(x) -> IntegralFind x!. Raise a ValueError if x is negative or non-integral.\n",
      "<built-in function floor> is a function: floor(x)Return the floor of x as an Integral.This is the largest integer <= x.\n",
      "<built-in function fmod> is a function: fmod(x, y)Return fmod(x, y), according to platform C.  x % y may differ.\n",
      "<built-in function frexp> is a function: frexp(x)Return the mantissa and exponent of x, as pair (m, e).m is a float and e is an int, such that x = m * 2.**e.If x is 0, m and e are both 0.  Else 0.5 <= abs(m) < 1.0.\n",
      "<built-in function fsum> is a function: fsum(iterable)Return an accurate floating point sum of values in the iterable.Assumes IEEE-754 floating point arithmetic.\n",
      "<built-in function gamma> is a function: gamma(x)Gamma function at x.\n",
      "<built-in function gcd> is a function: gcd(x, y) -> intgreatest common divisor of x and y\n",
      "<built-in function hypot> is a function: hypot(x, y)Return the Euclidean distance, sqrt(x*x + y*y).\n",
      "*** inf is NOT a function: <class 'float'> inf\n",
      "<built-in function isclose> is a function: isclose(a, b, *, rel_tol=1e-09, abs_tol=0.0) -> boolDetermine whether two floating point numbers are close in value.   rel_tol       maximum difference for being considered \"close\", relative to the       magnitude of the input values    abs_tol       maximum difference for being considered \"close\", regardless of the       magnitude of the input valuesReturn True if a is close in value to b, and False otherwise.For the values to be considered close, the difference between themmust be smaller than at least one of the tolerances.-inf, inf and NaN behave similarly to the IEEE 754 Standard.  Thatis, NaN is not close to anything, even itself.  inf and -inf areonly close to themselves.\n",
      "<built-in function isfinite> is a function: isfinite(x) -> boolReturn True if x is neither an infinity nor a NaN, and False otherwise.\n",
      "<built-in function isinf> is a function: isinf(x) -> boolReturn True if x is a positive or negative infinity, and False otherwise.\n",
      "<built-in function isnan> is a function: isnan(x) -> boolReturn True if x is a NaN (not a number), and False otherwise.\n",
      "<built-in function ldexp> is a function: ldexp(x, i)Return x * (2**i).\n",
      "<built-in function lgamma> is a function: lgamma(x)Natural logarithm of absolute value of Gamma function at x.\n",
      "<built-in function log> is a function: log(x[, base])Return the logarithm of x to the given base.If the base not specified, returns the natural logarithm (base e) of x.\n",
      "<built-in function log10> is a function: log10(x)Return the base 10 logarithm of x.\n",
      "<built-in function log1p> is a function: log1p(x)Return the natural logarithm of 1+x (base e).The result is computed in a way which is accurate for x near zero.\n",
      "<built-in function log2> is a function: log2(x)Return the base 2 logarithm of x.\n",
      "<built-in function modf> is a function: modf(x)Return the fractional and integer parts of x.  Both results carry the signof x and are floats.\n",
      "*** nan is NOT a function: <class 'float'> nan\n",
      "*** pi is NOT a function: <class 'float'> 3.141592653589793\n",
      "<built-in function pow> is a function: pow(x, y)Return x**y (x to the power of y).\n",
      "<built-in function radians> is a function: radians(x)Convert angle x from degrees to radians.\n",
      "<built-in function sin> is a function: sin(x)Return the sine of x (measured in radians).\n",
      "<built-in function sinh> is a function: sinh(x)Return the hyperbolic sine of x.\n",
      "<built-in function sqrt> is a function: sqrt(x)Return the square root of x.\n",
      "<built-in function tan> is a function: tan(x)Return the tangent of x (measured in radians).\n",
      "<built-in function tanh> is a function: tanh(x)Return the hyperbolic tangent of x.\n",
      "*** tau is NOT a function: <class 'float'> 6.283185307179586\n",
      "<built-in function trunc> is a function: trunc(x:Real) -> IntegralTruncates x to the nearest Integral toward 0. Uses the __trunc__ magic method.\n"
     ]
    }
   ],
   "source": [
    "\n",
    "for name in dir(math):\n",
    "    if not name.startswith('_'):\n",
    "        element = getattr(math, name)\n",
    "        #print(element, type(element))\n",
    "        \n",
    "        if callable(element):\n",
    "            print(element, \"is a function:\", element.__doc__.replace('\\n',''))\n",
    "            #element()\n",
    "        else:\n",
    "            print(\"***\", name, \"is NOT a function:\", type(element), element)\n",
    "            \n",
    "            \n",
    "        "
   ]
  },
  {
   "cell_type": "markdown",
   "metadata": {
    "slideshow": {
     "slide_type": "slide"
    }
   },
   "source": [
    "## decorators\n",
    "\n",
    "- functions can be passed like variables\n",
    "- a function that uses a function as a parameter\n",
    "- sugar syntax on top"
   ]
  },
  {
   "cell_type": "code",
   "execution_count": 109,
   "metadata": {
    "slideshow": {
     "slide_type": "subslide"
    }
   },
   "outputs": [
    {
     "name": "stdout",
     "output_type": "stream",
     "text": [
      "Help on built-in function pow in module builtins:\n",
      "\n",
      "pow(x, y, z=None, /)\n",
      "    Equivalent to x**y (with two arguments) or x**y % z (with three arguments)\n",
      "    \n",
      "    Some types, such as ints, are able to use a more efficient algorithm when\n",
      "    invoked using the three argument form.\n",
      "\n"
     ]
    }
   ],
   "source": [
    "help(pow)"
   ]
  },
  {
   "cell_type": "code",
   "execution_count": 121,
   "metadata": {
    "collapsed": true,
    "slideshow": {
     "slide_type": "subslide"
    }
   },
   "outputs": [],
   "source": [
    "def myfunction(x, y=2):\n",
    "    \"\"\" input: x; returns x pow y \"\"\"\n",
    "    result = pow(x, y)\n",
    "    print(\"%s ^ %s = %s\" % (x, y, result))\n",
    "    return result"
   ]
  },
  {
   "cell_type": "code",
   "execution_count": 127,
   "metadata": {
    "slideshow": {
     "slide_type": "fragment"
    }
   },
   "outputs": [
    {
     "name": "stdout",
     "output_type": "stream",
     "text": [
      "Help on function myfunction in module __main__:\n",
      "\n",
      "myfunction(x, y=2)\n",
      "    input: x; returns x pow y\n",
      "\n"
     ]
    }
   ],
   "source": [
    "help(myfunction)"
   ]
  },
  {
   "cell_type": "code",
   "execution_count": 122,
   "metadata": {
    "collapsed": true,
    "slideshow": {
     "slide_type": "subslide"
    }
   },
   "outputs": [],
   "source": [
    "def apply_some_function_to_a_number(func, number=2, **kwargs):\n",
    "\n",
    "    if callable(func):\n",
    "        return func(number, **kwargs)\n",
    "    else:\n",
    "        return number"
   ]
  },
  {
   "cell_type": "code",
   "execution_count": 123,
   "metadata": {
    "slideshow": {
     "slide_type": "fragment"
    }
   },
   "outputs": [
    {
     "name": "stdout",
     "output_type": "stream",
     "text": [
      "2 ^ 2 = 4\n"
     ]
    },
    {
     "data": {
      "text/plain": [
       "4"
      ]
     },
     "execution_count": 123,
     "metadata": {},
     "output_type": "execute_result"
    }
   ],
   "source": [
    "apply_some_function_to_a_number(myfunction)"
   ]
  },
  {
   "cell_type": "code",
   "execution_count": 126,
   "metadata": {
    "slideshow": {
     "slide_type": "fragment"
    }
   },
   "outputs": [
    {
     "data": {
      "text/plain": [
       "2"
      ]
     },
     "execution_count": 126,
     "metadata": {},
     "output_type": "execute_result"
    }
   ],
   "source": [
    "apply_some_function_to_a_number('test')"
   ]
  },
  {
   "cell_type": "code",
   "execution_count": 125,
   "metadata": {
    "slideshow": {
     "slide_type": "subslide"
    }
   },
   "outputs": [
    {
     "name": "stdout",
     "output_type": "stream",
     "text": [
      "4 ^ 2 = 16\n"
     ]
    },
    {
     "data": {
      "text/plain": [
       "16"
      ]
     },
     "execution_count": 125,
     "metadata": {},
     "output_type": "execute_result"
    }
   ],
   "source": [
    "apply_some_function_to_a_number(myfunction, 4)"
   ]
  },
  {
   "cell_type": "code",
   "execution_count": 124,
   "metadata": {
    "slideshow": {
     "slide_type": "fragment"
    }
   },
   "outputs": [
    {
     "name": "stdout",
     "output_type": "stream",
     "text": [
      "4 ^ 5 = 1024\n"
     ]
    },
    {
     "data": {
      "text/plain": [
       "1024"
      ]
     },
     "execution_count": 124,
     "metadata": {},
     "output_type": "execute_result"
    }
   ],
   "source": [
    "apply_some_function_to_a_number(myfunction, 4, y=5)"
   ]
  },
  {
   "cell_type": "code",
   "execution_count": 139,
   "metadata": {
    "collapsed": true,
    "slideshow": {
     "slide_type": "subslide"
    }
   },
   "outputs": [],
   "source": [
    "import random"
   ]
  },
  {
   "cell_type": "code",
   "execution_count": 147,
   "metadata": {
    "slideshow": {
     "slide_type": "-"
    }
   },
   "outputs": [
    {
     "data": {
      "text/plain": [
       "4"
      ]
     },
     "execution_count": 147,
     "metadata": {},
     "output_type": "execute_result"
    }
   ],
   "source": [
    "random.randint(1,10)"
   ]
  },
  {
   "cell_type": "code",
   "execution_count": 247,
   "metadata": {
    "collapsed": true,
    "slideshow": {
     "slide_type": "fragment"
    }
   },
   "outputs": [],
   "source": [
    "def myfunction(x, y=2):\n",
    "    print(\"input\", x, y)\n",
    "    return pow(x, y)"
   ]
  },
  {
   "cell_type": "code",
   "execution_count": 248,
   "metadata": {
    "slideshow": {
     "slide_type": "fragment"
    }
   },
   "outputs": [
    {
     "data": {
      "text/plain": [
       "<function __main__.myfunction>"
      ]
     },
     "execution_count": 248,
     "metadata": {},
     "output_type": "execute_result"
    }
   ],
   "source": [
    "myfunction"
   ]
  },
  {
   "cell_type": "code",
   "execution_count": 249,
   "metadata": {
    "collapsed": true,
    "slideshow": {
     "slide_type": "subslide"
    }
   },
   "outputs": [],
   "source": [
    "def apply_some_function_to_a_number(func, x=3):\n",
    "    y = random.randint(1, 10)\n",
    "    print(\"x: %s ^ y: %s\" % (x, y))\n",
    "    return func(x, y)"
   ]
  },
  {
   "cell_type": "code",
   "execution_count": 255,
   "metadata": {
    "slideshow": {
     "slide_type": "fragment"
    }
   },
   "outputs": [
    {
     "name": "stdout",
     "output_type": "stream",
     "text": [
      "x: 3 ^ y: 3\n",
      "input 3 3\n"
     ]
    },
    {
     "data": {
      "text/plain": [
       "27"
      ]
     },
     "execution_count": 255,
     "metadata": {},
     "output_type": "execute_result"
    }
   ],
   "source": [
    "apply_some_function_to_a_number(myfunction)"
   ]
  },
  {
   "cell_type": "code",
   "execution_count": 256,
   "metadata": {
    "slideshow": {
     "slide_type": "fragment"
    }
   },
   "outputs": [
    {
     "name": "stdout",
     "output_type": "stream",
     "text": [
      "x: 5 ^ y: 5\n",
      "input 5 5\n"
     ]
    },
    {
     "data": {
      "text/plain": [
       "3125"
      ]
     },
     "execution_count": 256,
     "metadata": {},
     "output_type": "execute_result"
    }
   ],
   "source": [
    "apply_some_function_to_a_number(myfunction, 5)"
   ]
  },
  {
   "cell_type": "code",
   "execution_count": 182,
   "metadata": {
    "collapsed": true,
    "slideshow": {
     "slide_type": "subslide"
    }
   },
   "outputs": [],
   "source": [
    "from functools import wraps"
   ]
  },
  {
   "cell_type": "code",
   "execution_count": 284,
   "metadata": {
    "collapsed": true,
    "slideshow": {
     "slide_type": "-"
    }
   },
   "outputs": [],
   "source": [
    "def apply_some_function_to_a_number(func):\n",
    "    def wrapper(x):            \n",
    "        y = random.randint(1, 10)\n",
    "        print(\"x: %s ^ y: %s\" % (x, y))\n",
    "        return func(x, y)\n",
    "    return wrapper"
   ]
  },
  {
   "cell_type": "code",
   "execution_count": 204,
   "metadata": {
    "collapsed": true,
    "slideshow": {
     "slide_type": "fragment"
    }
   },
   "outputs": [],
   "source": [
    "@apply_some_function_to_a_number\n",
    "def myfunction(x, y=2):\n",
    "    return pow(x, y)"
   ]
  },
  {
   "cell_type": "code",
   "execution_count": 205,
   "metadata": {
    "slideshow": {
     "slide_type": "subslide"
    }
   },
   "outputs": [
    {
     "name": "stdout",
     "output_type": "stream",
     "text": [
      "UHM 3\n"
     ]
    },
    {
     "data": {
      "text/plain": [
       "8"
      ]
     },
     "execution_count": 205,
     "metadata": {},
     "output_type": "execute_result"
    }
   ],
   "source": [
    "myfunction(2)"
   ]
  },
  {
   "cell_type": "code",
   "execution_count": 208,
   "metadata": {
    "slideshow": {
     "slide_type": "fragment"
    }
   },
   "outputs": [
    {
     "data": {
      "text/plain": [
       "<function __main__.apply_some_function_to_a_number.<locals>.wrapper>"
      ]
     },
     "execution_count": 208,
     "metadata": {},
     "output_type": "execute_result"
    }
   ],
   "source": [
    "myfunction"
   ]
  },
  {
   "cell_type": "markdown",
   "metadata": {
    "slideshow": {
     "slide_type": "subslide"
    }
   },
   "source": [
    "## Exercise\n",
    "\n",
    "Write a function to apply a mathematical operation of your choice on two numbers.\n",
    "\n",
    "Write a decorator to:\n",
    "- make the two numbers created randomly if they are not passed\n",
    "- log the input and output operations\n",
    "\n"
   ]
  },
  {
   "cell_type": "markdown",
   "metadata": {
    "slideshow": {
     "slide_type": "slide"
    }
   },
   "source": [
    "# Install a package from Pipy"
   ]
  },
  {
   "cell_type": "code",
   "execution_count": 16,
   "metadata": {
    "collapsed": true,
    "slideshow": {
     "slide_type": "subslide"
    }
   },
   "outputs": [
    {
     "name": "stdout",
     "output_type": "stream",
     "text": [
      "Collecting howdoi\n",
      "  Downloading howdoi-1.1.9.tar.gz\n",
      "Collecting pyquery (from howdoi)\n",
      "  Downloading pyquery-1.2.17-py2.py3-none-any.whl\n",
      "Requirement already satisfied: pygments in /opt/conda/lib/python3.6/site-packages (from howdoi)\n",
      "Requirement already satisfied: requests in /opt/conda/lib/python3.6/site-packages (from howdoi)\n",
      "Collecting requests-cache (from howdoi)\n",
      "  Downloading requests_cache-0.4.13-py2.py3-none-any.whl\n",
      "Collecting cssselect>0.7.9 (from pyquery->howdoi)\n",
      "  Downloading cssselect-1.0.1-py2.py3-none-any.whl\n",
      "Collecting lxml>=2.1 (from pyquery->howdoi)\n",
      "  Downloading lxml-3.7.3-cp36-cp36m-manylinux1_x86_64.whl (7.2MB)\n",
      "\u001b[K    100% |████████████████████████████████| 7.2MB 172kB/s ta 0:00:01   0% |▎                               | 51kB 457kB/s eta 0:00:16    9% |███                             | 675kB 786kB/s eta 0:00:09    35% |███████████▎                    | 2.5MB 1.5MB/s eta 0:00:04    47% |███████████████                 | 3.4MB 1.4MB/s eta 0:00:03    62% |████████████████████            | 4.5MB 1.5MB/s eta 0:00:02    77% |████████████████████████▊       | 5.6MB 1.3MB/s eta 0:00:02\n",
      "\u001b[?25hBuilding wheels for collected packages: howdoi\n",
      "  Running setup.py bdist_wheel for howdoi ... \u001b[?25ldone\n",
      "\u001b[?25h  Stored in directory: /home/jovyan/.cache/pip/wheels/f9/3b/a3/55ee2bfd80939217e895cffd2a8884d2ea7cf68b85cf62526e\n",
      "Successfully built howdoi\n",
      "Installing collected packages: cssselect, lxml, pyquery, requests-cache, howdoi\n",
      "Successfully installed cssselect-1.0.1 howdoi-1.1.9 lxml-3.7.3 pyquery-1.2.17 requests-cache-0.4.13\n"
     ]
    }
   ],
   "source": [
    "! pip install howdoi"
   ]
  },
  {
   "cell_type": "code",
   "execution_count": 17,
   "metadata": {
    "collapsed": true,
    "slideshow": {
     "slide_type": "fragment"
    }
   },
   "outputs": [],
   "source": [
    "import howdoi"
   ]
  },
  {
   "cell_type": "code",
   "execution_count": 30,
   "metadata": {
    "slideshow": {
     "slide_type": "subslide"
    }
   },
   "outputs": [
    {
     "name": "stdout",
     "output_type": "stream",
     "text": [
      "usage: howdoi [-h] [-p POS] [-a] [-l] [-c] [-n NUM_ANSWERS] [-C] [-v]\r\n",
      "              [QUERY [QUERY ...]]\r\n",
      "\r\n",
      "instant coding answers via the command line\r\n",
      "\r\n",
      "positional arguments:\r\n",
      "  QUERY                 the question to answer\r\n",
      "\r\n",
      "optional arguments:\r\n",
      "  -h, --help            show this help message and exit\r\n",
      "  -p POS, --pos POS     select answer in specified position (default: 1)\r\n",
      "  -a, --all             display the full text of the answer\r\n",
      "  -l, --link            display only the answer link\r\n",
      "  -c, --color           enable colorized output\r\n",
      "  -n NUM_ANSWERS, --num-answers NUM_ANSWERS\r\n",
      "                        number of answers to return\r\n",
      "  -C, --clear-cache     clear the cache\r\n",
      "  -v, --version         displays the current version of howdoi\r\n"
     ]
    }
   ],
   "source": [
    "! howdoi --help"
   ]
  },
  {
   "cell_type": "code",
   "execution_count": 37,
   "metadata": {
    "slideshow": {
     "slide_type": "subslide"
    }
   },
   "outputs": [
    {
     "name": "stdout",
     "output_type": "stream",
     "text": [
      "class Decorator(object):\r\n",
      "    def __init__(self, arg):\r\n",
      "        self.arg = arg\r\n",
      "    def __call__(self, cls):\r\n",
      "        class Wrapped(cls):\r\n",
      "            classattr = self.arg\r\n",
      "            def new_method(self, value):\r\n",
      "                return value * 2\r\n",
      "        return Wrapped\r\n",
      "\r\n",
      "@Decorator(\"decorated class\")\r\n",
      "class TestClass(object):\r\n",
      "    def new_method(self, value):\r\n",
      "        return value * 3\r\n",
      "\r\n"
     ]
    }
   ],
   "source": [
    "! howdoi decorate a python class"
   ]
  },
  {
   "cell_type": "code",
   "execution_count": 36,
   "metadata": {
    "slideshow": {
     "slide_type": "subslide"
    }
   },
   "outputs": [
    {
     "name": "stdout",
     "output_type": "stream",
     "text": [
      "sudo apt-get install ipython-notebook\r\n",
      "\r\n"
     ]
    }
   ],
   "source": [
    "! howdoi install an ipython notebook"
   ]
  },
  {
   "cell_type": "code",
   "execution_count": 34,
   "metadata": {
    "slideshow": {
     "slide_type": "subslide"
    }
   },
   "outputs": [
    {
     "name": "stdout",
     "output_type": "stream",
     "text": [
      "--- Answer 1 ---\r\n",
      "sudo apt-get install ipython-notebook\r\n",
      "\r\n",
      "---\r\n",
      "Answer from http://stackoverflow.com/questions/17790558/how-to-install-ipython-notebook-locally\r\n",
      "\r\n",
      "--- Answer 2 ---\r\n",
      "pip install --upgrade ipython[notebook]\r\n",
      "Fixed my problem. For some reason --upgrade fixed some dependency.\r\n",
      "\r\n",
      "---\r\n",
      "Answer from http://stackoverflow.com/questions/24509307/ipython-could-not-install-notebook-please-install-ipython-notebook\r\n",
      "\r\n"
     ]
    }
   ],
   "source": [
    "! howdoi -a --num-answers 2 how to install an ipython notebook"
   ]
  }
 ],
 "metadata": {
  "celltoolbar": "Slideshow",
  "kernelspec": {
   "display_name": "Python 3",
   "language": "python",
   "name": "python3"
  },
  "language_info": {
   "codemirror_mode": {
    "name": "ipython",
    "version": 3
   },
   "file_extension": ".py",
   "mimetype": "text/x-python",
   "name": "python",
   "nbconvert_exporter": "python",
   "pygments_lexer": "ipython3",
   "version": "3.6.1"
  }
 },
 "nbformat": 4,
 "nbformat_minor": 2
}
