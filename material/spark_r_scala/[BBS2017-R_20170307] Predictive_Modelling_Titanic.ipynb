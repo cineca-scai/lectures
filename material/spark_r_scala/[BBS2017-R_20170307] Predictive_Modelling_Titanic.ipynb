{
 "cells": [
  {
   "cell_type": "markdown",
   "metadata": {
    "deletable": true,
    "editable": true
   },
   "source": [
    "# Supervised modelling with R"
   ]
  },
  {
   "cell_type": "code",
   "execution_count": null,
   "metadata": {
    "collapsed": false,
    "deletable": true,
    "editable": true
   },
   "outputs": [],
   "source": [
    "#install.packages(\"nloptr\", lib=\"/opt/conda/lib/R/library\")"
   ]
  },
  {
   "cell_type": "code",
   "execution_count": 2,
   "metadata": {
    "collapsed": false,
    "deletable": true,
    "editable": true
   },
   "outputs": [
    {
     "name": "stderr",
     "output_type": "stream",
     "text": [
      "Updating HTML index of packages in '.Library'\n",
      "Making 'packages.html' ... done\n",
      "Updating HTML index of packages in '.Library'\n",
      "Making 'packages.html' ... done\n",
      "Updating HTML index of packages in '.Library'\n",
      "Making 'packages.html' ... done\n",
      "Updating HTML index of packages in '.Library'\n",
      "Making 'packages.html' ... done\n",
      "also installing the dependencies ‘codetools’, ‘iterators’\n",
      "\n",
      "Updating HTML index of packages in '.Library'\n",
      "Making 'packages.html' ... done\n",
      "also installing the dependency ‘class’\n",
      "\n",
      "Updating HTML index of packages in '.Library'\n",
      "Making 'packages.html' ... done\n",
      "Updating HTML index of packages in '.Library'\n",
      "Making 'packages.html' ... done\n",
      "Loading required package: gplots\n",
      "\n",
      "Attaching package: ‘gplots’\n",
      "\n",
      "The following object is masked from ‘package:stats’:\n",
      "\n",
      "    lowess\n",
      "\n",
      "Loading required package: iterators\n",
      "Loading required package: parallel\n"
     ]
    }
   ],
   "source": [
    "#################################################################################################\n",
    "######## the CARET package #########################################\n",
    "#################################################################################################\n",
    "\n",
    "# this tutorial has been inspired from:\n",
    "# http://will-stanton.com/machine-learning-with-r-an-irresponsibly-fast-tutorial/\n",
    "#install.packages(\"caret\", lib=\"/opt/conda/lib/R/library\", repo=\"http://cran.us.r-project.org\")\n",
    "install.packages(\"randomForest\", lib=\"/opt/conda/lib/R/library\", repo=\"http://cran.us.r-project.org\")\n",
    "install.packages(\"rpart\", lib=\"/opt/conda/lib/R/library\", repo=\"http://cran.us.r-project.org\")\n",
    "install.packages(\"rpart.plot\", lib=\"/opt/conda/lib/R/library\", repo=\"http://cran.us.r-project.org\")\n",
    "install.packages(\"ROCR\", lib=\"/opt/conda/lib/R/library\", repo=\"http://cran.us.r-project.org\")\n",
    "install.packages(\"foreach\", lib=\"/opt/conda/lib/R/library\", repo=\"http://cran.us.r-project.org\")\n",
    "install.packages(\"e1071\", lib=\"/opt/conda/lib/R/library\", repo=\"http://cran.us.r-project.org\")\n",
    "install.packages(\"doMC\", lib=\"/opt/conda/lib/R/library\", repo=\"http://cran.us.r-project.org\")\n",
    "#library(caret)\n",
    "library(randomForest)\n",
    "library(rpart)\n",
    "library(rpart.plot)\n",
    "\n",
    "library(e1071)\n",
    "library(ROCR)\n",
    "library(foreach)\n",
    "library(doMC)\n",
    "#setwd(\"~/Desktop/Lezione_22 Settembre_Modena/data/TITANIC\")\n",
    "rm(list=ls()) #clear workspace\n",
    "set.seed(123) #set the seed"
   ]
  },
  {
   "cell_type": "markdown",
   "metadata": {
    "deletable": true,
    "editable": true
   },
   "source": [
    "### Data preparation"
   ]
  },
  {
   "cell_type": "code",
   "execution_count": 3,
   "metadata": {
    "collapsed": false,
    "deletable": true,
    "editable": true
   },
   "outputs": [
    {
     "data": {
      "text/plain": [
       "\n",
       "      C   Q   S \n",
       "  2 168  77 644 "
      ]
     },
     "metadata": {},
     "output_type": "display_data"
    }
   ],
   "source": [
    "\n",
    "##########################################################################################\n",
    "######### parallelization (it is the only instructions needed by CARET) ##################\n",
    "##########################################################################################\n",
    "#registerDoMC(10)\n",
    "\n",
    "##########################################################################################\n",
    "####################### load the data ####################################################\n",
    "##########################################################################################\n",
    "# we will use only the training set, since the test set is unlabelled\n",
    "data=read.csv(\"data/TITANIC/train.csv\",header=T,sep=\",\")\n",
    "\n",
    "##########################################################################################\n",
    "########### find and erase the rows that contain NAs #####################################\n",
    "##########################################################################################\n",
    "table(data$Embarked)\n",
    "# it is the best way to keep things simple\n",
    "data$Embarked[which(data$Embarked==\"\")]=NA\n",
    "data=na.omit(data)\n",
    "\n",
    "##########################################################################################\n",
    "####### coerce a)Survived (1=yes, 0=no), b)Pclass and c)Embarked to factors ##############\n",
    "##########################################################################################\n",
    "\n",
    "\n",
    "data$Pclass=factor(data$Pclass)\n",
    "data$Survived=factor(data$Survived)\n",
    "data$Embarked=factor(data$Embarked)"
   ]
  },
  {
   "cell_type": "markdown",
   "metadata": {
    "deletable": true,
    "editable": true
   },
   "source": [
    "### Split the data into training/test sets"
   ]
  },
  {
   "cell_type": "code",
   "execution_count": 4,
   "metadata": {
    "collapsed": true,
    "deletable": true,
    "editable": true
   },
   "outputs": [],
   "source": [
    "trainID=sample(nrow(data),nrow(data)*(4/5))\n",
    "trainSet=data[trainID,-c(1,4,9,11)]\n",
    "testSet=data[-trainID,-c(1,4,9,11)]\n",
    "# some variables have been excluded!"
   ]
  },
  {
   "cell_type": "markdown",
   "metadata": {
    "deletable": true,
    "editable": true
   },
   "source": [
    "### Which are the most \"useful\" variables?"
   ]
  },
  {
   "cell_type": "code",
   "execution_count": 5,
   "metadata": {
    "collapsed": false,
    "deletable": true,
    "editable": true
   },
   "outputs": [
    {
     "data": {
      "text/plain": [
       "   \n",
       "             1          2          3\n",
       "  0 0.08611599 0.13005272 0.37609842\n",
       "  1 0.17398946 0.11599297 0.11775044"
      ]
     },
     "metadata": {},
     "output_type": "display_data"
    },
    {
     "data": {
      "text/plain": [
       "   Min. 1st Qu.  Median    Mean 3rd Qu.    Max. \n",
       "   0.67   21.00   28.00   30.03   39.00   80.00 "
      ]
     },
     "metadata": {},
     "output_type": "display_data"
    },
    {
     "data": {
      "text/plain": [
       "   Min. 1st Qu.  Median    Mean 3rd Qu.    Max. \n",
       "   0.00    8.05   15.90   33.89   33.50  512.30 "
      ]
     },
     "metadata": {},
     "output_type": "display_data"
    },
    {
     "data": {
      "image/png": "[encoded data removed]",
      "text/plain": [
       "plot without title"
      ]
     },
     "metadata": {},
     "output_type": "display_data"
    },
    {
     "data": {
      "text/plain": [
       "   \n",
       "    female male\n",
       "  0     50  287\n",
       "  1    161   71"
      ]
     },
     "metadata": {},
     "output_type": "display_data"
    },
    {
     "data": {
      "text/plain": [
       "        \n",
       "           1   2   3\n",
       "  female  71  61  79\n",
       "  male    77  79 202"
      ]
     },
     "metadata": {},
     "output_type": "display_data"
    },
    {
     "data": {
      "image/png": "[encoded data removed]",
      "text/plain": [
       "plot without title"
      ]
     },
     "metadata": {},
     "output_type": "display_data"
    }
   ],
   "source": [
    "# careful! this is a very rough way to determine which variables are useful to our\n",
    "# puroposes: no further effort will be made in order to select the best subset of \n",
    "# variables, since it is not the goal of this example\n",
    "\n",
    "# passenger class (categorical)\n",
    "table(trainSet$Survived,trainSet$Pclass)/nrow(trainSet) #it might be an interesting predictor\n",
    "\n",
    "# age (numerical)\n",
    "summary(trainSet$Age) \n",
    "boxplot(trainSet$Age~trainSet$Survived) #probably not a good predictor\n",
    "\n",
    "# fare (numerical)\n",
    "summary(trainSet$Fare) #no NAs\n",
    "boxplot(trainSet$Fare~trainSet$Survived) #it may be an interesting predictor\n",
    "\n",
    "# sex (categorical)\n",
    "table(trainSet$Survived,trainSet$Sex) \n",
    "# it may be an interesting predictor, but it could be associated with the passenger class\n",
    "\n",
    "table(trainSet$Sex,trainSet$Pclass)\n",
    "# it could be worth inspecting the relationships among the variables"
   ]
  },
  {
   "cell_type": "markdown",
   "metadata": {
    "deletable": true,
    "editable": true
   },
   "source": [
    "### Train and test a decision tree with \"rpart\" package"
   ]
  },
  {
   "cell_type": "code",
   "execution_count": 6,
   "metadata": {
    "collapsed": false,
    "deletable": true,
    "editable": true
   },
   "outputs": [
    {
     "data": {
      "text/plain": [
       "n= 569 \n",
       "\n",
       "node), split, n, loss, yval, (yprob)\n",
       "      * denotes terminal node\n",
       "\n",
       " 1) root 569 232 0 (0.59226714 0.40773286)  \n",
       "   2) Sex=male 358  71 0 (0.80167598 0.19832402) *\n",
       "   3) Sex=female 211  50 1 (0.23696682 0.76303318)  \n",
       "     6) Pclass=3 79  38 0 (0.51898734 0.48101266)  \n",
       "      12) Fare>=20.8 19   3 0 (0.84210526 0.15789474) *\n",
       "      13) Fare< 20.8 60  25 1 (0.41666667 0.58333333)  \n",
       "        26) Age>=27.5 20   8 0 (0.60000000 0.40000000) *\n",
       "        27) Age< 27.5 40  13 1 (0.32500000 0.67500000) *\n",
       "     7) Pclass=1,2 132   9 1 (0.06818182 0.93181818) *"
      ]
     },
     "metadata": {},
     "output_type": "display_data"
    },
    {
     "name": "stdout",
     "output_type": "stream",
     "text": [
      "Call:\n",
      "rpart(formula = Survived ~ Pclass + Sex + Age + SibSp + Embarked + \n",
      "    Parch + Fare, data = trainSet)\n",
      "  n= 569 \n",
      "\n",
      "          CP nsplit rel error    xerror       xstd\n",
      "1 0.47844828      0 1.0000000 1.0000000 0.05052599\n",
      "2 0.02801724      1 0.5215517 0.5215517 0.04207146\n",
      "3 0.01724138      3 0.4655172 0.4913793 0.04115419\n",
      "4 0.01000000      4 0.4482759 0.4913793 0.04115419\n",
      "\n",
      "Variable importance\n",
      "     Sex     Fare   Pclass    Parch      Age Embarked    SibSp \n",
      "      53       15       13       10        5        2        2 \n",
      "\n",
      "Node number 1: 569 observations,    complexity param=0.4784483\n",
      "  predicted class=0  expected loss=0.4077329  P(node) =1\n",
      "    class counts:   337   232\n",
      "   probabilities: 0.592 0.408 \n",
      "  left son=2 (358 obs) right son=3 (211 obs)\n",
      "  Primary splits:\n",
      "      Sex      splits as  RL,           improve=84.670640, (0 missing)\n",
      "      Pclass   splits as  RRL,          improve=31.824630, (0 missing)\n",
      "      Fare     < 52.2771  to the left,  improve=28.289550, (0 missing)\n",
      "      Embarked splits as  RLL,          improve=12.536250, (0 missing)\n",
      "      Parch    < 0.5      to the left,  improve= 8.354937, (0 missing)\n",
      "  Surrogate splits:\n",
      "      Parch    < 0.5      to the left,  agree=0.677, adj=0.128, (0 split)\n",
      "      Fare     < 74.375   to the left,  agree=0.671, adj=0.114, (0 split)\n",
      "      Embarked splits as  RLL,          agree=0.641, adj=0.033, (0 split)\n",
      "      Age      < 15.5     to the right, agree=0.638, adj=0.024, (0 split)\n",
      "\n",
      "Node number 2: 358 observations\n",
      "  predicted class=0  expected loss=0.198324  P(node) =0.629174\n",
      "    class counts:   287    71\n",
      "   probabilities: 0.802 0.198 \n",
      "\n",
      "Node number 3: 211 observations,    complexity param=0.02801724\n",
      "  predicted class=1  expected loss=0.2369668  P(node) =0.370826\n",
      "    class counts:    50   161\n",
      "   probabilities: 0.237 0.763 \n",
      "  left son=6 (79 obs) right son=7 (132 obs)\n",
      "  Primary splits:\n",
      "      Pclass   splits as  RRL,          improve=20.087550, (0 missing)\n",
      "      Fare     < 48.2     to the left,  improve= 7.565437, (0 missing)\n",
      "      Embarked splits as  RLL,          improve= 3.025422, (0 missing)\n",
      "      SibSp    < 2.5      to the right, improve= 2.518547, (0 missing)\n",
      "      Parch    < 1.5      to the right, improve= 2.068535, (0 missing)\n",
      "  Surrogate splits:\n",
      "      Fare     < 20.7625  to the left,  agree=0.787, adj=0.430, (0 split)\n",
      "      Age      < 16.5     to the left,  agree=0.682, adj=0.152, (0 split)\n",
      "      SibSp    < 1.5      to the right, agree=0.659, adj=0.089, (0 split)\n",
      "      Parch    < 2.5      to the right, agree=0.649, adj=0.063, (0 split)\n",
      "      Embarked splits as  RLR,          agree=0.645, adj=0.051, (0 split)\n",
      "\n",
      "Node number 6: 79 observations,    complexity param=0.02801724\n",
      "  predicted class=0  expected loss=0.4810127  P(node) =0.1388401\n",
      "    class counts:    41    38\n",
      "   probabilities: 0.519 0.481 \n",
      "  left son=12 (19 obs) right son=13 (60 obs)\n",
      "  Primary splits:\n",
      "      Fare     < 20.8     to the right, improve=5.223740, (0 missing)\n",
      "      Age      < 38.5     to the right, improve=3.324197, (0 missing)\n",
      "      SibSp    < 0.5      to the right, improve=2.294320, (0 missing)\n",
      "      Embarked splits as  RLL,          improve=1.851829, (0 missing)\n",
      "      Parch    < 1.5      to the right, improve=1.151113, (0 missing)\n",
      "  Surrogate splits:\n",
      "      Parch < 1.5      to the right, agree=0.899, adj=0.579, (0 split)\n",
      "      SibSp < 2.5      to the right, agree=0.835, adj=0.316, (0 split)\n",
      "      Age   < 12       to the left,  agree=0.810, adj=0.211, (0 split)\n",
      "\n",
      "Node number 7: 132 observations\n",
      "  predicted class=1  expected loss=0.06818182  P(node) =0.2319859\n",
      "    class counts:     9   123\n",
      "   probabilities: 0.068 0.932 \n",
      "\n",
      "Node number 12: 19 observations\n",
      "  predicted class=0  expected loss=0.1578947  P(node) =0.03339192\n",
      "    class counts:    16     3\n",
      "   probabilities: 0.842 0.158 \n",
      "\n",
      "Node number 13: 60 observations,    complexity param=0.01724138\n",
      "  predicted class=1  expected loss=0.4166667  P(node) =0.1054482\n",
      "    class counts:    25    35\n",
      "   probabilities: 0.417 0.583 \n",
      "  left son=26 (20 obs) right son=27 (40 obs)\n",
      "  Primary splits:\n",
      "      Age      < 27.5     to the right, improve=2.0166670, (0 missing)\n",
      "      Fare     < 18.62915 to the left,  improve=1.1882300, (0 missing)\n",
      "      Parch    < 0.5      to the left,  improve=0.8166667, (0 missing)\n",
      "      Embarked splits as  RLL,          improve=0.6262940, (0 missing)\n",
      "      SibSp    < 0.5      to the right, improve=0.5555556, (0 missing)\n",
      "  Surrogate splits:\n",
      "      Fare < 19.7354  to the right, agree=0.717, adj=0.15, (0 split)\n",
      "\n",
      "Node number 26: 20 observations\n",
      "  predicted class=0  expected loss=0.4  P(node) =0.03514938\n",
      "    class counts:    12     8\n",
      "   probabilities: 0.600 0.400 \n",
      "\n",
      "Node number 27: 40 observations\n",
      "  predicted class=1  expected loss=0.325  P(node) =0.07029877\n",
      "    class counts:    13    27\n",
      "   probabilities: 0.325 0.675 \n",
      "\n"
     ]
    },
    {
     "data": {
      "text/html": [
       "<ol class=list-inline>\n",
       "\t<li>'call'</li>\n",
       "\t<li>'control'</li>\n",
       "\t<li>'cptable'</li>\n",
       "\t<li>'csplit'</li>\n",
       "\t<li>'frame'</li>\n",
       "\t<li>'functions'</li>\n",
       "\t<li>'method'</li>\n",
       "\t<li>'numresp'</li>\n",
       "\t<li>'ordered'</li>\n",
       "\t<li>'parms'</li>\n",
       "\t<li>'splits'</li>\n",
       "\t<li>'terms'</li>\n",
       "\t<li>'variable.importance'</li>\n",
       "\t<li>'where'</li>\n",
       "\t<li>'y'</li>\n",
       "</ol>\n"
      ],
      "text/latex": [
       "\\begin{enumerate*}\n",
       "\\item 'call'\n",
       "\\item 'control'\n",
       "\\item 'cptable'\n",
       "\\item 'csplit'\n",
       "\\item 'frame'\n",
       "\\item 'functions'\n",
       "\\item 'method'\n",
       "\\item 'numresp'\n",
       "\\item 'ordered'\n",
       "\\item 'parms'\n",
       "\\item 'splits'\n",
       "\\item 'terms'\n",
       "\\item 'variable.importance'\n",
       "\\item 'where'\n",
       "\\item 'y'\n",
       "\\end{enumerate*}\n"
      ],
      "text/markdown": [
       "1. 'call'\n",
       "2. 'control'\n",
       "3. 'cptable'\n",
       "4. 'csplit'\n",
       "5. 'frame'\n",
       "6. 'functions'\n",
       "7. 'method'\n",
       "8. 'numresp'\n",
       "9. 'ordered'\n",
       "10. 'parms'\n",
       "11. 'splits'\n",
       "12. 'terms'\n",
       "13. 'variable.importance'\n",
       "14. 'where'\n",
       "15. 'y'\n",
       "\n",
       "\n"
      ],
      "text/plain": [
       " [1] \"call\"                \"control\"             \"cptable\"            \n",
       " [4] \"csplit\"              \"frame\"               \"functions\"          \n",
       " [7] \"method\"              \"numresp\"             \"ordered\"            \n",
       "[10] \"parms\"               \"splits\"              \"terms\"              \n",
       "[13] \"variable.importance\" \"where\"               \"y\"                  "
      ]
     },
     "metadata": {},
     "output_type": "display_data"
    },
    {
     "data": {
      "image/png": "[encoded data removed]",
      "text/plain": [
       "plot without title"
      ]
     },
     "metadata": {},
     "output_type": "display_data"
    },
    {
     "ename": "ERROR",
     "evalue": "Error in eval(expr, envir, enclos): could not find function \"confusionMatrix\"\n",
     "output_type": "error",
     "traceback": [
      "Error in eval(expr, envir, enclos): could not find function \"confusionMatrix\"\nTraceback:\n"
     ]
    },
    {
     "data": {
      "image/png": "[encoded data removed]",
      "text/plain": [
       "Plot with title “ROC curve (decision tree)”"
      ]
     },
     "metadata": {},
     "output_type": "display_data"
    }
   ],
   "source": [
    "##########################################################################################\n",
    "##########  ###########################\n",
    "##########################################################################################\n",
    "# important feature: complexity parameter (cp) of the tree\n",
    "\n",
    "# fit the model\n",
    "dt=rpart(Survived~Pclass+Sex+Age+SibSp+Embarked+Parch+Fare,data=trainSet)\n",
    "dt\n",
    "summary(dt)\n",
    "ls(dt)\n",
    "\n",
    "# plot the tree\n",
    "rpart.plot(dt,type=4)\n",
    "\n",
    "# predict the class of the new obs\n",
    "dt_pred=predict(dt,newdata=testSet)\n",
    "\n",
    "# ROC curve\n",
    "pred=prediction(predictions=dt_pred[,2],labels=testSet$Survived,label.ordering=c(\"0\",\"1\"))\n",
    "perf=performance(pred,\"spec\",\"sens\")\n",
    "plot(perf,print.cutoffs.at=c(0.5),colorize=T,main=\"ROC curve (decision tree)\")\n",
    "rm(perf,pred)\n",
    "\n",
    "# confusion table\n",
    "dt_pred=as.factor(apply(dt_pred,1,which.max)-1)\n",
    "confusionMatrix(dt_pred,testSet$Survived, positive=\"1\")\n",
    "# accuracy = (# correctly predicted)/(# of observations)\n",
    "# sensitivity = (# true positives)/(# real positives)\n",
    "# specificity = (# true negatives)/(# real negatives)\n",
    "# detection rate = (# true positives)/(# of observations)\n",
    "# positive prediction value = (# true positives)/(# predicted positives)\n",
    "# negative prediction value = (# true negatives)/(# predicted negatives)\n",
    "# kappa = adjusts accuracy by accounting for the possibility of a correct prediction by chance alone\n",
    "# range of kappa: -1,1"
   ]
  },
  {
   "cell_type": "markdown",
   "metadata": {
    "deletable": true,
    "editable": true
   },
   "source": [
    "### Train and test a randomForest model with \"randomForest\" package"
   ]
  },
  {
   "cell_type": "code",
   "execution_count": null,
   "metadata": {
    "collapsed": true,
    "deletable": true,
    "editable": true
   },
   "outputs": [],
   "source": [
    "##########################################################################################\n",
    "##########   ##############\n",
    "##########################################################################################\n",
    "# important features:\n",
    "# mtry -> Number of variables randomly sampled as candidates at each split\n",
    "# ntree -> Number of trees to grow: every input row must be predicted at least a few times.\n",
    "# let's assume that this algorithm works as a \"black box\"!\n",
    "\n",
    "# fit the model\n",
    "rf1=randomForest(Survived~Pclass+Sex+Age+SibSp+Embarked+Parch+Fare,data=trainSet,ntree=500)\n",
    "rf1\n",
    "ls(rf1) \n",
    "\n",
    "# visualize a single tree grown by the randomForest algorithm\n",
    "#getTree(rf1,k=1,labelVar=T)\n",
    "table(is.na(getTree(rf1,k=1,labelVar=T)$pred))\n",
    "# in this tree only 127 obs have been used and only 63 obs have ben classified\n",
    "\n",
    "# predict new obs and confusion table\n",
    "rf1_pred=predict(rf1,newdata=testSet)\n",
    "confusionMatrix(rf1_pred,testSet$Survived, positive=\"1\")"
   ]
  },
  {
   "cell_type": "markdown",
   "metadata": {
    "deletable": true,
    "editable": true
   },
   "source": [
    "### Train and test a randomForest model with CARET"
   ]
  },
  {
   "cell_type": "code",
   "execution_count": null,
   "metadata": {
    "collapsed": true,
    "deletable": true,
    "editable": true
   },
   "outputs": [],
   "source": [
    "# fit the model (with parallelization over the CV step)\n",
    "begin=Sys.time()\n",
    "rf2_caret=train(Survived~Pclass+Sex+Age+SibSp+Embarked+Parch+Fare, #model formula\n",
    "              data=trainSet,\n",
    "              method=\"rf\", #method=randomForest\n",
    "              trControl=trainControl(method = \"cv\",number=20)) #cross-validation\n",
    "end=Sys.time()\n",
    "print(end-begin)\n",
    "rm(end,begin)\n",
    "\n",
    "# NB: CV (cross-validation) evaluates the performance of a model using only the training data\n",
    "# Caret itself does this!!\n",
    "# workfolow:\n",
    "# 1) split the training data into (k) equally sized pieces called folds\n",
    "# 2) train the model on (k-1)/k folds, and check its accuracy on the k-th fold\n",
    "# 3) repeat this process with each split of the data\n",
    "# 4) at the end, the percentage accuracy across the different splits of the data is averaged\n",
    "\n",
    "\n",
    "\n",
    "\n",
    "# view the estimated model\n",
    "rf2_caret\n",
    "ls(rf2_caret)\n",
    "rf2_caret$bestTune\n",
    "rf2_caret$coef\n",
    "rf2_caret$finalModel\n",
    "\n",
    "# predict new obs and confusion table\n",
    "rf2_pred=predict(rf2_caret,newdata=testSet)\n",
    "confusionMatrix(rf2_pred,testSet$Survived, positive=\"1\")"
   ]
  },
  {
   "cell_type": "markdown",
   "metadata": {
    "deletable": true,
    "editable": true
   },
   "source": [
    "### Train and test a logistic model"
   ]
  },
  {
   "cell_type": "code",
   "execution_count": null,
   "metadata": {
    "collapsed": true,
    "deletable": true,
    "editable": true
   },
   "outputs": [],
   "source": [
    "# number of covariate pattern\n",
    "dim(trainSet[,-1])\n",
    "dim(unique(trainSet[,-1]))\n",
    "# some rows are duplicated!\n",
    "\n",
    "# fit the model \n",
    "Survived=trainSet$Survived==\"1\"\n",
    "log1=glm(cbind(Survived,1-Survived)~Pclass+Sex+Age+SibSp+Embarked+Parch+Fare, family=binomial,data=trainSet[,-1])\n",
    "\n",
    "# view the estimated model (we won't consider the diagnostics of the model)\n",
    "summary(log1) # Pclass, Sex and Age have significant coefficients\n",
    "ls(log1)\n",
    "\n",
    "# predict new obs and confusion table\n",
    "log1_pred=round(predict(log1,newdata=testSet,type=\"response\"))\n",
    "confusionMatrix(log1_pred,testSet$Survived, positive=\"1\")\n",
    "\n",
    "# ROC curve\n",
    "pred=prediction(predictions=predict(log1,newdata=testSet,type=\"response\"),labels=testSet$Survived,label.ordering=c(\"0\",\"1\"))\n",
    "perf=performance(pred,\"spec\",\"sens\")\n",
    "plot(perf,print.cutoffs.at=c(0.5),colorize=T,main=\"ROC curve (decision tree)\")\n",
    "rm(perf,pred,Survived) "
   ]
  },
  {
   "cell_type": "markdown",
   "metadata": {
    "deletable": true,
    "editable": true
   },
   "source": [
    "### Train and test a logistic model with CARET"
   ]
  },
  {
   "cell_type": "code",
   "execution_count": null,
   "metadata": {
    "collapsed": true,
    "deletable": true,
    "editable": true
   },
   "outputs": [],
   "source": [
    "# fit the model (with parallelization over the CV step)\n",
    "begin=Sys.time()\n",
    "log2_caret=train(Survived~Pclass+Sex+Age+SibSp+Embarked+Parch+Fare, #model formula\n",
    "                data=trainSet,\n",
    "                method=\"glm\",\n",
    "                trControl=trainControl(method = \"cv\",number=20)) #cross-validation\n",
    "end=Sys.time()\n",
    "print(end-begin)\n",
    "rm(end,begin)\n",
    "\n",
    "\n",
    "# view the estimated model\n",
    "summary(log2_caret) # Pclass, Sex and Age have significant coefficients\n",
    "ls(log2_caret)\n",
    "log2_caret$finalModel\n",
    "\n",
    "\n",
    "# predict new obs and confusion table\n",
    "log2_pred=predict(log2_caret,newdata=testSet)\n",
    "confusionMatrix(log2_pred,testSet$Survived, positive=\"1\")"
   ]
  }
 ],
 "metadata": {
  "kernelspec": {
   "display_name": "R",
   "language": "R",
   "name": "ir"
  },
  "language_info": {
   "codemirror_mode": "r",
   "file_extension": ".r",
   "mimetype": "text/x-r-source",
   "name": "R",
   "pygments_lexer": "r",
   "version": "3.3.2"
  }
 },
 "nbformat": 4,
 "nbformat_minor": 2
}
