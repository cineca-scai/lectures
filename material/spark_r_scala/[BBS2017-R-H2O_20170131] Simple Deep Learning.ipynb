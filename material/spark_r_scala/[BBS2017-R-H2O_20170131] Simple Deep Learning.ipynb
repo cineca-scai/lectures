{
 "cells": [
  {
   "cell_type": "code",
   "execution_count": 1,
   "metadata": {
    "collapsed": false,
    "deletable": true,
    "editable": true
   },
   "outputs": [
    {
     "name": "stderr",
     "output_type": "stream",
     "text": [
      "Updating HTML index of packages in '.Library'\n",
      "Making 'packages.html' ... done\n"
     ]
    }
   ],
   "source": [
    "install.packages(\"h2o\", lib=\"/opt/conda/lib/R/library\", repo=\"http://cran.us.r-project.org\")"
   ]
  },
  {
   "cell_type": "code",
   "execution_count": 2,
   "metadata": {
    "collapsed": false,
    "deletable": true,
    "editable": true
   },
   "outputs": [
    {
     "name": "stderr",
     "output_type": "stream",
     "text": [
      "\n",
      "----------------------------------------------------------------------\n",
      "\n",
      "Your next step is to start H2O:\n",
      "    > h2o.init()\n",
      "\n",
      "For H2O package documentation, ask for help:\n",
      "    > ??h2o\n",
      "\n",
      "After starting H2O, you can use the Web UI at http://localhost:54321\n",
      "For more information visit http://docs.h2o.ai\n",
      "\n",
      "----------------------------------------------------------------------\n",
      "\n",
      "\n",
      "Attaching package: ‘h2o’\n",
      "\n",
      "The following objects are masked from ‘package:stats’:\n",
      "\n",
      "    cor, sd, var\n",
      "\n",
      "The following objects are masked from ‘package:base’:\n",
      "\n",
      "    &&, %*%, %in%, ||, apply, as.factor, as.numeric, colnames,\n",
      "    colnames<-, ifelse, is.character, is.factor, is.numeric, log,\n",
      "    log10, log1p, log2, round, signif, trunc\n",
      "\n"
     ]
    },
    {
     "name": "stdout",
     "output_type": "stream",
     "text": [
      "\n",
      "H2O is not running yet, starting it now...\n",
      "\n",
      "Note:  In case of errors look at the following log files:\n",
      "    /tmp/RtmpowgR0M/h2o_UnknownUser_started_from_r.out\n",
      "    /tmp/RtmpowgR0M/h2o_UnknownUser_started_from_r.err\n",
      "\n",
      "\n",
      "Starting H2O JVM and connecting: .... Connection successful!\n",
      "\n",
      "R is connected to the H2O cluster: \n",
      "    H2O cluster uptime:         3 seconds 952 milliseconds \n",
      "    H2O cluster version:        3.10.3.6 \n",
      "    H2O cluster version age:    1 month and 1 day  \n",
      "    H2O cluster name:           H2O_started_from_R_jovyan_lop722 \n",
      "    H2O cluster total nodes:    1 \n",
      "    H2O cluster total memory:   5.23 GB \n",
      "    H2O cluster total cores:    8 \n",
      "    H2O cluster allowed cores:  2 \n",
      "    H2O cluster healthy:        TRUE \n",
      "    H2O Connection ip:          localhost \n",
      "    H2O Connection port:        54321 \n",
      "    H2O Connection proxy:       NA \n",
      "    R Version:                  R version 3.3.2 (2016-10-31) \n",
      "\n",
      "Note:  As started, H2O is limited to the CRAN default of 2 CPUs.\n",
      "       Shut down and restart H2O as shown below to use all your CPUs.\n",
      "           > h2o.shutdown()\n",
      "           > h2o.init(nthreads = -1)\n",
      "\n"
     ]
    }
   ],
   "source": [
    "library(h2o)\n",
    "h2o.init()"
   ]
  },
  {
   "cell_type": "code",
   "execution_count": 3,
   "metadata": {
    "collapsed": false,
    "deletable": true,
    "editable": true
   },
   "outputs": [
    {
     "name": "stdout",
     "output_type": "stream",
     "text": [
      "\r",
      "  |                                                                            \r",
      "  |                                                                      |   0%\r",
      "  |                                                                            \r",
      "  |======================================================================| 100%\n"
     ]
    }
   ],
   "source": [
    "df=h2o.importFile(\"data/iris_h.csv\")"
   ]
  },
  {
   "cell_type": "code",
   "execution_count": 4,
   "metadata": {
    "collapsed": false,
    "deletable": true,
    "editable": true
   },
   "outputs": [],
   "source": [
    "y <- \"Species\"\n",
    "x <- setdiff(names(df), y)\n",
    "parts <- h2o.splitFrame(df, 0.8, seed = 99)\n",
    "train <- parts[[1]]\n",
    "test <- parts[[2]]"
   ]
  },
  {
   "cell_type": "code",
   "execution_count": 5,
   "metadata": {
    "collapsed": false,
    "deletable": true,
    "editable": true
   },
   "outputs": [
    {
     "name": "stdout",
     "output_type": "stream",
     "text": [
      "\r",
      "  |                                                                            \r",
      "  |                                                                      |   0%\r",
      "  |                                                                            \r",
      "  |========================================================              |  80%\r",
      "  |                                                                            \r",
      "  |======================================================================| 100%\n"
     ]
    },
    {
     "data": {
      "text/plain": [
       "   user  system elapsed \n",
       "  0.592   0.008   2.861 "
      ]
     },
     "metadata": {},
     "output_type": "display_data"
    }
   ],
   "source": [
    "system.time(  #0.248   0.005   1.343\n",
    "m <- h2o.deeplearning(x, y, train, seed = 99, reproducible = TRUE)\n",
    ")"
   ]
  },
  {
   "cell_type": "code",
   "execution_count": 6,
   "metadata": {
    "collapsed": false,
    "deletable": true,
    "editable": true
   },
   "outputs": [
    {
     "name": "stdout",
     "output_type": "stream",
     "text": [
      "\r",
      "  |                                                                            \r",
      "  |                                                                      |   0%\r",
      "  |                                                                            \r",
      "  |======================================================================| 100%\n"
     ]
    },
    {
     "data": {
      "text/plain": [
       "   user  system elapsed \n",
       "  0.080   0.004   1.114 "
      ]
     },
     "metadata": {},
     "output_type": "display_data"
    }
   ],
   "source": [
    "system.time(  #0.031   0.002   0.069\n",
    "p <- h2o.predict(m, test)\n",
    ")"
   ]
  },
  {
   "cell_type": "code",
   "execution_count": 7,
   "metadata": {
    "collapsed": false,
    "deletable": true,
    "editable": true
   },
   "outputs": [
    {
     "data": {
      "text/html": [
       "0.0109751288846906"
      ],
      "text/latex": [
       "0.0109751288846906"
      ],
      "text/markdown": [
       "0.0109751288846906"
      ],
      "text/plain": [
       "[1] 0.01097513"
      ]
     },
     "metadata": {},
     "output_type": "display_data"
    },
    {
     "data": {
      "text/html": [
       "<table>\n",
       "<thead><tr><th></th><th scope=col>setosa</th><th scope=col>versicolor</th><th scope=col>virginica</th><th scope=col>Error</th><th scope=col>Rate</th></tr></thead>\n",
       "<tbody>\n",
       "\t<tr><th scope=row>setosa</th><td>42        </td><td> 0        </td><td> 0        </td><td>0.00000000</td><td>0 / 42    </td></tr>\n",
       "\t<tr><th scope=row>versicolor</th><td> 0        </td><td>37        </td><td> 1        </td><td>0.02631579</td><td>1 / 38    </td></tr>\n",
       "\t<tr><th scope=row>virginica</th><td> 0        </td><td> 1        </td><td>39        </td><td>0.02500000</td><td>1 / 40    </td></tr>\n",
       "\t<tr><th scope=row>Totals</th><td>42        </td><td>38        </td><td>40        </td><td>0.01666667</td><td>2 / 120   </td></tr>\n",
       "</tbody>\n",
       "</table>\n"
      ],
      "text/latex": [
       "\\begin{tabular}{r|lllll}\n",
       "  & setosa & versicolor & virginica & Error & Rate\\\\\n",
       "\\hline\n",
       "\tsetosa & 42         &  0         &  0         & 0.00000000 & 0 / 42    \\\\\n",
       "\tversicolor &  0         & 37         &  1         & 0.02631579 & 1 / 38    \\\\\n",
       "\tvirginica &  0         &  1         & 39         & 0.02500000 & 1 / 40    \\\\\n",
       "\tTotals & 42         & 38         & 40         & 0.01666667 & 2 / 120   \\\\\n",
       "\\end{tabular}\n"
      ],
      "text/markdown": [
       "\n",
       "| <!--/--> | setosa | versicolor | virginica | Error | Rate | \n",
       "|---|---|---|---|\n",
       "| setosa | 42         |  0         |  0         | 0.00000000 | 0 / 42     | \n",
       "| versicolor |  0         | 37         |  1         | 0.02631579 | 1 / 38     | \n",
       "| virginica |  0         |  1         | 39         | 0.02500000 | 1 / 40     | \n",
       "| Totals | 42         | 38         | 40         | 0.01666667 | 2 / 120    | \n",
       "\n",
       "\n"
      ],
      "text/plain": [
       "           setosa versicolor virginica Error      Rate   \n",
       "setosa     42      0          0        0.00000000 0 / 42 \n",
       "versicolor  0     37          1        0.02631579 1 / 38 \n",
       "virginica   0      1         39        0.02500000 1 / 40 \n",
       "Totals     42     38         40        0.01666667 2 / 120"
      ]
     },
     "metadata": {},
     "output_type": "display_data"
    },
    {
     "data": {
      "text/html": [
       "<table>\n",
       "<thead><tr><th></th><th scope=col>setosa</th><th scope=col>versicolor</th><th scope=col>virginica</th><th scope=col>Error</th><th scope=col>Rate</th></tr></thead>\n",
       "<tbody>\n",
       "\t<tr><th scope=row>setosa</th><td>8         </td><td> 0        </td><td> 0        </td><td>0.00000000</td><td>0 / 8     </td></tr>\n",
       "\t<tr><th scope=row>versicolor</th><td>0         </td><td>10        </td><td> 2        </td><td>0.16666667</td><td>2 / 12    </td></tr>\n",
       "\t<tr><th scope=row>virginica</th><td>0         </td><td> 0        </td><td>10        </td><td>0.00000000</td><td>0 / 10    </td></tr>\n",
       "\t<tr><th scope=row>Totals</th><td>8         </td><td>10        </td><td>12        </td><td>0.06666667</td><td>2 / 30    </td></tr>\n",
       "</tbody>\n",
       "</table>\n"
      ],
      "text/latex": [
       "\\begin{tabular}{r|lllll}\n",
       "  & setosa & versicolor & virginica & Error & Rate\\\\\n",
       "\\hline\n",
       "\tsetosa & 8          &  0         &  0         & 0.00000000 & 0 / 8     \\\\\n",
       "\tversicolor & 0          & 10         &  2         & 0.16666667 & 2 / 12    \\\\\n",
       "\tvirginica & 0          &  0         & 10         & 0.00000000 & 0 / 10    \\\\\n",
       "\tTotals & 8          & 10         & 12         & 0.06666667 & 2 / 30    \\\\\n",
       "\\end{tabular}\n"
      ],
      "text/markdown": [
       "\n",
       "| <!--/--> | setosa | versicolor | virginica | Error | Rate | \n",
       "|---|---|---|---|\n",
       "| setosa | 8          |  0         |  0         | 0.00000000 | 0 / 8      | \n",
       "| versicolor | 0          | 10         |  2         | 0.16666667 | 2 / 12     | \n",
       "| virginica | 0          |  0         | 10         | 0.00000000 | 0 / 10     | \n",
       "| Totals | 8          | 10         | 12         | 0.06666667 | 2 / 30     | \n",
       "\n",
       "\n"
      ],
      "text/plain": [
       "           setosa versicolor virginica Error      Rate  \n",
       "setosa     8       0          0        0.00000000 0 / 8 \n",
       "versicolor 0      10          2        0.16666667 2 / 12\n",
       "virginica  0       0         10        0.00000000 0 / 10\n",
       "Totals     8      10         12        0.06666667 2 / 30"
      ]
     },
     "metadata": {},
     "output_type": "display_data"
    },
    {
     "data": {
      "text/html": [
       "<table>\n",
       "<thead><tr><th scope=col>predict</th><th scope=col>setosa</th><th scope=col>versicolor</th><th scope=col>virginica</th></tr></thead>\n",
       "<tbody>\n",
       "\t<tr><td>setosa      </td><td>9.990114e-01</td><td>9.886317e-04</td><td>2.279629e-19</td></tr>\n",
       "\t<tr><td>setosa      </td><td>9.989865e-01</td><td>1.013480e-03</td><td>1.723627e-20</td></tr>\n",
       "\t<tr><td>setosa      </td><td>9.992507e-01</td><td>7.492898e-04</td><td>1.091636e-18</td></tr>\n",
       "\t<tr><td>setosa      </td><td>9.995335e-01</td><td>4.665222e-04</td><td>1.703330e-18</td></tr>\n",
       "\t<tr><td>setosa      </td><td>9.930220e-01</td><td>6.977996e-03</td><td>5.940843e-16</td></tr>\n",
       "\t<tr><td>setosa      </td><td>9.999442e-01</td><td>5.579452e-05</td><td>5.383507e-21</td></tr>\n",
       "\t<tr><td>setosa      </td><td>9.998419e-01</td><td>1.580723e-04</td><td>1.041056e-20</td></tr>\n",
       "\t<tr><td>setosa      </td><td>9.997105e-01</td><td>2.894765e-04</td><td>3.786334e-18</td></tr>\n",
       "\t<tr><td>versicolor  </td><td>5.797273e-05</td><td>9.976480e-01</td><td>2.294023e-03</td></tr>\n",
       "\t<tr><td>versicolor  </td><td>2.960313e-04</td><td>9.951981e-01</td><td>4.505852e-03</td></tr>\n",
       "\t<tr><td>versicolor  </td><td>4.193895e-05</td><td>9.800916e-01</td><td>1.986644e-02</td></tr>\n",
       "\t<tr><td>versicolor  </td><td>4.435893e-04</td><td>9.995358e-01</td><td>2.064556e-05</td></tr>\n",
       "\t<tr><td>virginica   </td><td>4.977373e-07</td><td>4.495997e-01</td><td>5.503998e-01</td></tr>\n",
       "\t<tr><td>versicolor  </td><td>7.784707e-07</td><td>9.910043e-01</td><td>8.994949e-03</td></tr>\n",
       "\t<tr><td>virginica   </td><td>5.811559e-07</td><td>7.453574e-02</td><td>9.254637e-01</td></tr>\n",
       "\t<tr><td>versicolor  </td><td>2.099806e-03</td><td>9.090006e-01</td><td>8.889964e-02</td></tr>\n",
       "\t<tr><td>versicolor  </td><td>1.029292e-03</td><td>9.898902e-01</td><td>9.080472e-03</td></tr>\n",
       "\t<tr><td>versicolor  </td><td>2.722164e-03</td><td>9.968975e-01</td><td>3.802896e-04</td></tr>\n",
       "\t<tr><td>versicolor  </td><td>1.456446e-04</td><td>9.995993e-01</td><td>2.550661e-04</td></tr>\n",
       "\t<tr><td>versicolor  </td><td>6.729457e-03</td><td>9.932514e-01</td><td>1.910383e-05</td></tr>\n",
       "\t<tr><td>virginica   </td><td>1.253081e-08</td><td>9.383007e-03</td><td>9.906170e-01</td></tr>\n",
       "\t<tr><td>virginica   </td><td>5.808267e-08</td><td>5.912735e-02</td><td>9.408726e-01</td></tr>\n",
       "\t<tr><td>virginica   </td><td>2.489245e-08</td><td>6.064322e-04</td><td>9.993935e-01</td></tr>\n",
       "\t<tr><td>virginica   </td><td>9.562274e-12</td><td>3.116593e-05</td><td>9.999688e-01</td></tr>\n",
       "\t<tr><td>virginica   </td><td>3.577180e-12</td><td>8.423825e-04</td><td>9.991576e-01</td></tr>\n",
       "\t<tr><td>virginica   </td><td>2.845799e-09</td><td>2.881629e-02</td><td>9.711837e-01</td></tr>\n",
       "\t<tr><td>virginica   </td><td>7.900384e-14</td><td>4.624294e-05</td><td>9.999538e-01</td></tr>\n",
       "\t<tr><td>virginica   </td><td>9.057484e-11</td><td>5.679085e-04</td><td>9.994321e-01</td></tr>\n",
       "\t<tr><td>virginica   </td><td>1.586898e-12</td><td>8.572371e-06</td><td>9.999914e-01</td></tr>\n",
       "\t<tr><td>virginica   </td><td>2.260771e-11</td><td>1.099192e-04</td><td>9.998901e-01</td></tr>\n",
       "</tbody>\n",
       "</table>\n"
      ],
      "text/latex": [
       "\\begin{tabular}{r|llll}\n",
       " predict & setosa & versicolor & virginica\\\\\n",
       "\\hline\n",
       "\t setosa       & 9.990114e-01 & 9.886317e-04 & 2.279629e-19\\\\\n",
       "\t setosa       & 9.989865e-01 & 1.013480e-03 & 1.723627e-20\\\\\n",
       "\t setosa       & 9.992507e-01 & 7.492898e-04 & 1.091636e-18\\\\\n",
       "\t setosa       & 9.995335e-01 & 4.665222e-04 & 1.703330e-18\\\\\n",
       "\t setosa       & 9.930220e-01 & 6.977996e-03 & 5.940843e-16\\\\\n",
       "\t setosa       & 9.999442e-01 & 5.579452e-05 & 5.383507e-21\\\\\n",
       "\t setosa       & 9.998419e-01 & 1.580723e-04 & 1.041056e-20\\\\\n",
       "\t setosa       & 9.997105e-01 & 2.894765e-04 & 3.786334e-18\\\\\n",
       "\t versicolor   & 5.797273e-05 & 9.976480e-01 & 2.294023e-03\\\\\n",
       "\t versicolor   & 2.960313e-04 & 9.951981e-01 & 4.505852e-03\\\\\n",
       "\t versicolor   & 4.193895e-05 & 9.800916e-01 & 1.986644e-02\\\\\n",
       "\t versicolor   & 4.435893e-04 & 9.995358e-01 & 2.064556e-05\\\\\n",
       "\t virginica    & 4.977373e-07 & 4.495997e-01 & 5.503998e-01\\\\\n",
       "\t versicolor   & 7.784707e-07 & 9.910043e-01 & 8.994949e-03\\\\\n",
       "\t virginica    & 5.811559e-07 & 7.453574e-02 & 9.254637e-01\\\\\n",
       "\t versicolor   & 2.099806e-03 & 9.090006e-01 & 8.889964e-02\\\\\n",
       "\t versicolor   & 1.029292e-03 & 9.898902e-01 & 9.080472e-03\\\\\n",
       "\t versicolor   & 2.722164e-03 & 9.968975e-01 & 3.802896e-04\\\\\n",
       "\t versicolor   & 1.456446e-04 & 9.995993e-01 & 2.550661e-04\\\\\n",
       "\t versicolor   & 6.729457e-03 & 9.932514e-01 & 1.910383e-05\\\\\n",
       "\t virginica    & 1.253081e-08 & 9.383007e-03 & 9.906170e-01\\\\\n",
       "\t virginica    & 5.808267e-08 & 5.912735e-02 & 9.408726e-01\\\\\n",
       "\t virginica    & 2.489245e-08 & 6.064322e-04 & 9.993935e-01\\\\\n",
       "\t virginica    & 9.562274e-12 & 3.116593e-05 & 9.999688e-01\\\\\n",
       "\t virginica    & 3.577180e-12 & 8.423825e-04 & 9.991576e-01\\\\\n",
       "\t virginica    & 2.845799e-09 & 2.881629e-02 & 9.711837e-01\\\\\n",
       "\t virginica    & 7.900384e-14 & 4.624294e-05 & 9.999538e-01\\\\\n",
       "\t virginica    & 9.057484e-11 & 5.679085e-04 & 9.994321e-01\\\\\n",
       "\t virginica    & 1.586898e-12 & 8.572371e-06 & 9.999914e-01\\\\\n",
       "\t virginica    & 2.260771e-11 & 1.099192e-04 & 9.998901e-01\\\\\n",
       "\\end{tabular}\n"
      ],
      "text/markdown": [
       "\n",
       "predict | setosa | versicolor | virginica | \n",
       "|---|---|---|---|---|---|---|---|---|---|---|---|---|---|---|---|---|---|---|---|---|---|---|---|---|---|---|---|---|---|\n",
       "| setosa       | 9.990114e-01 | 9.886317e-04 | 2.279629e-19 | \n",
       "| setosa       | 9.989865e-01 | 1.013480e-03 | 1.723627e-20 | \n",
       "| setosa       | 9.992507e-01 | 7.492898e-04 | 1.091636e-18 | \n",
       "| setosa       | 9.995335e-01 | 4.665222e-04 | 1.703330e-18 | \n",
       "| setosa       | 9.930220e-01 | 6.977996e-03 | 5.940843e-16 | \n",
       "| setosa       | 9.999442e-01 | 5.579452e-05 | 5.383507e-21 | \n",
       "| setosa       | 9.998419e-01 | 1.580723e-04 | 1.041056e-20 | \n",
       "| setosa       | 9.997105e-01 | 2.894765e-04 | 3.786334e-18 | \n",
       "| versicolor   | 5.797273e-05 | 9.976480e-01 | 2.294023e-03 | \n",
       "| versicolor   | 2.960313e-04 | 9.951981e-01 | 4.505852e-03 | \n",
       "| versicolor   | 4.193895e-05 | 9.800916e-01 | 1.986644e-02 | \n",
       "| versicolor   | 4.435893e-04 | 9.995358e-01 | 2.064556e-05 | \n",
       "| virginica    | 4.977373e-07 | 4.495997e-01 | 5.503998e-01 | \n",
       "| versicolor   | 7.784707e-07 | 9.910043e-01 | 8.994949e-03 | \n",
       "| virginica    | 5.811559e-07 | 7.453574e-02 | 9.254637e-01 | \n",
       "| versicolor   | 2.099806e-03 | 9.090006e-01 | 8.889964e-02 | \n",
       "| versicolor   | 1.029292e-03 | 9.898902e-01 | 9.080472e-03 | \n",
       "| versicolor   | 2.722164e-03 | 9.968975e-01 | 3.802896e-04 | \n",
       "| versicolor   | 1.456446e-04 | 9.995993e-01 | 2.550661e-04 | \n",
       "| versicolor   | 6.729457e-03 | 9.932514e-01 | 1.910383e-05 | \n",
       "| virginica    | 1.253081e-08 | 9.383007e-03 | 9.906170e-01 | \n",
       "| virginica    | 5.808267e-08 | 5.912735e-02 | 9.408726e-01 | \n",
       "| virginica    | 2.489245e-08 | 6.064322e-04 | 9.993935e-01 | \n",
       "| virginica    | 9.562274e-12 | 3.116593e-05 | 9.999688e-01 | \n",
       "| virginica    | 3.577180e-12 | 8.423825e-04 | 9.991576e-01 | \n",
       "| virginica    | 2.845799e-09 | 2.881629e-02 | 9.711837e-01 | \n",
       "| virginica    | 7.900384e-14 | 4.624294e-05 | 9.999538e-01 | \n",
       "| virginica    | 9.057484e-11 | 5.679085e-04 | 9.994321e-01 | \n",
       "| virginica    | 1.586898e-12 | 8.572371e-06 | 9.999914e-01 | \n",
       "| virginica    | 2.260771e-11 | 1.099192e-04 | 9.998901e-01 | \n",
       "\n",
       "\n"
      ],
      "text/plain": [
       "   predict    setosa       versicolor   virginica   \n",
       "1  setosa     9.990114e-01 9.886317e-04 2.279629e-19\n",
       "2  setosa     9.989865e-01 1.013480e-03 1.723627e-20\n",
       "3  setosa     9.992507e-01 7.492898e-04 1.091636e-18\n",
       "4  setosa     9.995335e-01 4.665222e-04 1.703330e-18\n",
       "5  setosa     9.930220e-01 6.977996e-03 5.940843e-16\n",
       "6  setosa     9.999442e-01 5.579452e-05 5.383507e-21\n",
       "7  setosa     9.998419e-01 1.580723e-04 1.041056e-20\n",
       "8  setosa     9.997105e-01 2.894765e-04 3.786334e-18\n",
       "9  versicolor 5.797273e-05 9.976480e-01 2.294023e-03\n",
       "10 versicolor 2.960313e-04 9.951981e-01 4.505852e-03\n",
       "11 versicolor 4.193895e-05 9.800916e-01 1.986644e-02\n",
       "12 versicolor 4.435893e-04 9.995358e-01 2.064556e-05\n",
       "13 virginica  4.977373e-07 4.495997e-01 5.503998e-01\n",
       "14 versicolor 7.784707e-07 9.910043e-01 8.994949e-03\n",
       "15 virginica  5.811559e-07 7.453574e-02 9.254637e-01\n",
       "16 versicolor 2.099806e-03 9.090006e-01 8.889964e-02\n",
       "17 versicolor 1.029292e-03 9.898902e-01 9.080472e-03\n",
       "18 versicolor 2.722164e-03 9.968975e-01 3.802896e-04\n",
       "19 versicolor 1.456446e-04 9.995993e-01 2.550661e-04\n",
       "20 versicolor 6.729457e-03 9.932514e-01 1.910383e-05\n",
       "21 virginica  1.253081e-08 9.383007e-03 9.906170e-01\n",
       "22 virginica  5.808267e-08 5.912735e-02 9.408726e-01\n",
       "23 virginica  2.489245e-08 6.064322e-04 9.993935e-01\n",
       "24 virginica  9.562274e-12 3.116593e-05 9.999688e-01\n",
       "25 virginica  3.577180e-12 8.423825e-04 9.991576e-01\n",
       "26 virginica  2.845799e-09 2.881629e-02 9.711837e-01\n",
       "27 virginica  7.900384e-14 4.624294e-05 9.999538e-01\n",
       "28 virginica  9.057484e-11 5.679085e-04 9.994321e-01\n",
       "29 virginica  1.586898e-12 8.572371e-06 9.999914e-01\n",
       "30 virginica  2.260771e-11 1.099192e-04 9.998901e-01"
      ]
     },
     "metadata": {},
     "output_type": "display_data"
    }
   ],
   "source": [
    "######\n",
    "\n",
    "h2o.mse(m)  #0.01097\n",
    "\n",
    "#TODO: what about mae()\n",
    "\n",
    "h2o.confusionMatrix(m)\n",
    "h2o.confusionMatrix(m,test)\n",
    "as.data.frame(p)\n",
    "pred<-as.data.frame( h2o.cbind(p$predict, test$Species) )\n",
    "prediction<-cbind( as.data.frame(p$predict), as.data.frame(test$Species) )\n"
   ]
  },
  {
   "cell_type": "markdown",
   "metadata": {
    "collapsed": true,
    "deletable": true,
    "editable": true
   },
   "source": [
    "checked"
   ]
  }
 ],
 "metadata": {
  "kernelspec": {
   "display_name": "R",
   "language": "R",
   "name": "ir"
  },
  "language_info": {
   "codemirror_mode": "r",
   "file_extension": ".r",
   "mimetype": "text/x-r-source",
   "name": "R",
   "pygments_lexer": "r",
   "version": "3.3.2"
  }
 },
 "nbformat": 4,
 "nbformat_minor": 2
}
