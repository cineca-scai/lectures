{
 "cells": [
  {
   "cell_type": "markdown",
   "metadata": {},
   "source": [
    "### Exercises\n",
    "#### 1.\n",
    "Apply the kmeans algorithm to Swiss Banknote data\n",
    "\n",
    "#### 2.\n",
    "Indicate the most important variable for the Swiss Banknote dataset using the H2O Random Forest library\n",
    "\n",
    "#### 3.\n",
    "Apply at least  two classification methods on the Swiss Banknote Dataset and compare the results"
   ]
  }
 ],
 "metadata": {
  "kernelspec": {
   "display_name": "R",
   "language": "R",
   "name": "ir"
  },
  "language_info": {
   "codemirror_mode": "r",
   "file_extension": ".r",
   "mimetype": "text/x-r-source",
   "name": "R",
   "pygments_lexer": "r",
   "version": "3.3.2"
  }
 },
 "nbformat": 4,
 "nbformat_minor": 2
}
