{
 "cells": [
  {
   "cell_type": "markdown",
   "metadata": {},
   "source": [
    "### Links\n",
    "\n",
    "#### Cineca\n",
    "\n",
    "- https://wiki.u-gov.it/confluence/display/SCAIUS/UG3.3%3A+PICO+UserGuide\n",
    "\n",
    "#### External\n",
    "\n",
    "- https://www.kaggle.com/\n",
    "- http://archive.ics.uci.edu/ml/\n",
    "- http://www.kdnuggets.com/\n"
   ]
  },
  {
   "cell_type": "code",
   "execution_count": null,
   "metadata": {
    "collapsed": true
   },
   "outputs": [],
   "source": []
  }
 ],
 "metadata": {
  "kernelspec": {
   "display_name": "R",
   "language": "R",
   "name": "ir"
  },
  "language_info": {
   "codemirror_mode": "r",
   "file_extension": ".r",
   "mimetype": "text/x-r-source",
   "name": "R",
   "pygments_lexer": "r",
   "version": "3.3.2"
  }
 },
 "nbformat": 4,
 "nbformat_minor": 2
}
