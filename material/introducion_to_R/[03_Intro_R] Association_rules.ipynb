{
 "cells": [
  {
   "cell_type": "markdown",
   "metadata": {},
   "source": [
    "# Association Rules visualisation"
   ]
  },
  {
   "cell_type": "markdown",
   "metadata": {},
   "source": [
    "\n",
    "Association rules are if/then statements that help uncover relationships between seemingly unrelated data\n",
    "in a relational database or other information repository. An example of an association rule would be \"If a customer buys a dozen eggs, he is 80% likely to also purchase milk.\"\n",
    "\n",
    "An association rule has two parts, an antecedent (if) and a consequent (then). An antecedent is an item found in the data. A consequent is an item that is found in combination with the antecedent.\n",
    "\n",
    "Association rules are created by analyzing data for frequent if/then patterns and using the criteria support and confidence to identify the most important relationships. Support is an indication of how frequently the items appear in the database. Confidence indicates the number of times the if/then statements have been found to be true.\n",
    "The lift of a rule is defined as the ratio of the observed support to that expected if the two items were independent.\n",
    "\n",
    "In data mining, association rules are useful for analyzing and predicting customer behavior. They play an important part in shopping basket data analysis, product clustering, catalog design and store layout."
   ]
  },
  {
   "cell_type": "markdown",
   "metadata": {},
   "source": [
    "### Install R packages "
   ]
  },
  {
   "cell_type": "code",
   "execution_count": 1,
   "metadata": {
    "collapsed": false
   },
   "outputs": [
    {
     "name": "stderr",
     "output_type": "stream",
     "text": [
      "also installing the dependencies ‘lattice’, ‘Matrix’\n",
      "\n",
      "Updating HTML index of packages in '.Library'\n",
      "Making 'packages.html' ... done\n"
     ]
    }
   ],
   "source": [
    "install.packages(\"arules\", lib=\"/opt/conda/lib/R/library\", repo=\"http://cran.us.r-project.org\")\n"
   ]
  },
  {
   "cell_type": "code",
   "execution_count": 2,
   "metadata": {
    "collapsed": false
   },
   "outputs": [
    {
     "name": "stderr",
     "output_type": "stream",
     "text": [
      "also installing the dependencies ‘modeltools’, ‘nnet’, ‘DEoptimR’, ‘codetools’, ‘iterators’, ‘mclust’, ‘flexmix’, ‘prabclus’, ‘class’, ‘diptest’, ‘mvtnorm’, ‘robustbase’, ‘kernlab’, ‘trimcluster’, ‘xtable’, ‘zoo’, ‘foreach’, ‘fpc’, ‘whisker’, ‘gtools’, ‘gdata’, ‘caTools’, ‘KernSmooth’, ‘pkgmaker’, ‘rngtools’, ‘gridBase’, ‘doParallel’, ‘lmtest’, ‘TSP’, ‘qap’, ‘cluster’, ‘gclus’, ‘dendextend’, ‘gplots’, ‘registry’, ‘NMF’, ‘irlba’, ‘scatterplot3d’, ‘vcd’, ‘seriation’, ‘igraph’\n",
      "\n",
      "Updating HTML index of packages in '.Library'\n",
      "Making 'packages.html' ... done\n"
     ]
    }
   ],
   "source": [
    "install.packages(\"arulesViz\", lib=\"/opt/conda/lib/R/library\", repo=\"http://cran.us.r-project.org\")"
   ]
  },
  {
   "cell_type": "code",
   "execution_count": 3,
   "metadata": {
    "collapsed": false
   },
   "outputs": [
    {
     "name": "stderr",
     "output_type": "stream",
     "text": [
      "Loading required package: Matrix\n",
      "\n",
      "Attaching package: ‘arules’\n",
      "\n",
      "The following objects are masked from ‘package:base’:\n",
      "\n",
      "    abbreviate, write\n",
      "\n",
      "Loading required package: grid\n"
     ]
    }
   ],
   "source": [
    "library(\"arules\")\n",
    "library(\"arulesViz\")"
   ]
  },
  {
   "cell_type": "markdown",
   "metadata": {},
   "source": [
    "### Examine dataset Groceries"
   ]
  },
  {
   "cell_type": "code",
   "execution_count": 4,
   "metadata": {
    "collapsed": false
   },
   "outputs": [
    {
     "data": {
      "text/plain": [
       "transactions as itemMatrix in sparse format with\n",
       " 9835 rows (elements/itemsets/transactions) and\n",
       " 169 columns (items) and a density of 0.02609146 \n",
       "\n",
       "most frequent items:\n",
       "      whole milk other vegetables       rolls/buns             soda \n",
       "            2513             1903             1809             1715 \n",
       "          yogurt          (Other) \n",
       "            1372            34055 \n",
       "\n",
       "element (itemset/transaction) length distribution:\n",
       "sizes\n",
       "   1    2    3    4    5    6    7    8    9   10   11   12   13   14   15   16 \n",
       "2159 1643 1299 1005  855  645  545  438  350  246  182  117   78   77   55   46 \n",
       "  17   18   19   20   21   22   23   24   26   27   28   29   32 \n",
       "  29   14   14    9   11    4    6    1    1    1    1    3    1 \n",
       "\n",
       "   Min. 1st Qu.  Median    Mean 3rd Qu.    Max. \n",
       "  1.000   2.000   3.000   4.409   6.000  32.000 \n",
       "\n",
       "includes extended item information - examples:\n",
       "       labels  level2           level1\n",
       "1 frankfurter sausage meat and sausage\n",
       "2     sausage sausage meat and sausage\n",
       "3  liver loaf sausage meat and sausage"
      ]
     },
     "metadata": {},
     "output_type": "display_data"
    }
   ],
   "source": [
    "data(\"Groceries\")\n",
    "summary(Groceries)\n"
   ]
  },
  {
   "cell_type": "markdown",
   "metadata": {},
   "source": [
    "### Perform Association Rules analysis with a priori algorithm"
   ]
  },
  {
   "cell_type": "code",
   "execution_count": 5,
   "metadata": {
    "collapsed": false
   },
   "outputs": [
    {
     "name": "stdout",
     "output_type": "stream",
     "text": [
      "Apriori\n",
      "\n",
      "Parameter specification:\n",
      " confidence minval smax arem  aval originalSupport support minlen maxlen target\n",
      "        0.5    0.1    1 none FALSE            TRUE   0.001      1     10  rules\n",
      "   ext\n",
      " FALSE\n",
      "\n",
      "Algorithmic control:\n",
      " filter tree heap memopt load sort verbose\n",
      "    0.1 TRUE TRUE  FALSE TRUE    2    TRUE\n",
      "\n",
      "Absolute minimum support count: 9 \n",
      "\n",
      "set item appearances ...[0 item(s)] done [0.00s].\n",
      "set transactions ...[169 item(s), 9835 transaction(s)] done [0.01s].\n",
      "sorting and recoding items ... [157 item(s)] done [0.00s].\n",
      "creating transaction tree ... done [0.01s].\n",
      "checking subsets of size 1 2 3 4 5 6 done [0.02s].\n",
      "writing ... [5668 rule(s)] done [0.00s].\n",
      "creating S4 object  ... done [0.00s].\n"
     ]
    }
   ],
   "source": [
    " rules <- apriori(Groceries, parameter=list(support=0.001, confidence=0.5))\n"
   ]
  },
  {
   "cell_type": "markdown",
   "metadata": {},
   "source": [
    "### Inspect results"
   ]
  },
  {
   "cell_type": "code",
   "execution_count": 6,
   "metadata": {
    "collapsed": false
   },
   "outputs": [
    {
     "name": "stdout",
     "output_type": "stream",
     "text": [
      "    lhs                             rhs              support     confidence\n",
      "53  {Instant food products,soda} => {hamburger meat} 0.001220132 0.6315789 \n",
      "37  {soda,popcorn}               => {salty snack}    0.001220132 0.6315789 \n",
      "444 {flour,baking powder}        => {sugar}          0.001016777 0.5555556 \n",
      "    lift    \n",
      "53  18.99565\n",
      "37  16.69779\n",
      "444 16.40807\n"
     ]
    }
   ],
   "source": [
    " inspect(head(sort(rules, by =\"lift\"),3))"
   ]
  },
  {
   "cell_type": "markdown",
   "metadata": {},
   "source": [
    "### Create visualisations "
   ]
  },
  {
   "cell_type": "code",
   "execution_count": 7,
   "metadata": {
    "collapsed": false
   },
   "outputs": [
    {
     "data": {
      "text/plain": [
       "plot without title"
      ]
     },
     "metadata": {
      "image/svg+xml": {
       "isolated": true
      }
     },
     "output_type": "display_data"
    }
   ],
   "source": [
    " plot(rules)\n"
   ]
  },
  {
   "cell_type": "code",
   "execution_count": 8,
   "metadata": {
    "collapsed": true
   },
   "outputs": [],
   "source": [
    " subrules <- rules[quality(rules)$confidence > 0.8]\n"
   ]
  },
  {
   "cell_type": "code",
   "execution_count": 9,
   "metadata": {
    "collapsed": false
   },
   "outputs": [
    {
     "data": {
      "text/plain": [
       "plot without title"
      ]
     },
     "metadata": {
      "image/svg+xml": {
       "isolated": true
      }
     },
     "output_type": "display_data"
    }
   ],
   "source": [
    "plot(rules, method=\"grouped\")\n"
   ]
  },
  {
   "cell_type": "code",
   "execution_count": 10,
   "metadata": {
    "collapsed": true
   },
   "outputs": [],
   "source": [
    "subrules2 <- head(sort(rules, by=\"lift\"), 10)\n"
   ]
  },
  {
   "cell_type": "code",
   "execution_count": 11,
   "metadata": {
    "collapsed": false
   },
   "outputs": [
    {
     "name": "stdout",
     "output_type": "stream",
     "text": [
      "   lhs                        rhs                  support confidence     lift\n",
      "1  {Instant food products,                                                    \n",
      "    soda}                  => {hamburger meat} 0.001220132  0.6315789 18.99565\n",
      "2  {soda,                                                                     \n",
      "    popcorn}               => {salty snack}    0.001220132  0.6315789 16.69779\n",
      "3  {flour,                                                                    \n",
      "    baking powder}         => {sugar}          0.001016777  0.5555556 16.40807\n",
      "4  {ham,                                                                      \n",
      "    processed cheese}      => {white bread}    0.001931876  0.6333333 15.04549\n",
      "5  {whole milk,                                                               \n",
      "    Instant food products} => {hamburger meat} 0.001525165  0.5000000 15.03823\n",
      "6  {other vegetables,                                                         \n",
      "    curd,                                                                     \n",
      "    yogurt,                                                                   \n",
      "    whipped/sour cream}    => {cream cheese }  0.001016777  0.5882353 14.83409\n",
      "7  {processed cheese,                                                         \n",
      "    domestic eggs}         => {white bread}    0.001118454  0.5238095 12.44364\n",
      "8  {tropical fruit,                                                           \n",
      "    other vegetables,                                                         \n",
      "    yogurt,                                                                   \n",
      "    white bread}           => {butter}         0.001016777  0.6666667 12.03058\n",
      "9  {hamburger meat,                                                           \n",
      "    yogurt,                                                                   \n",
      "    whipped/sour cream}    => {butter}         0.001016777  0.6250000 11.27867\n",
      "10 {tropical fruit,                                                           \n",
      "    other vegetables,                                                         \n",
      "    whole milk,                                                               \n",
      "    yogurt,                                                                   \n",
      "    domestic eggs}         => {butter}         0.001016777  0.6250000 11.27867\n"
     ]
    }
   ],
   "source": [
    "inspect(subrules2)"
   ]
  },
  {
   "cell_type": "code",
   "execution_count": 14,
   "metadata": {
    "collapsed": false
   },
   "outputs": [
    {
     "data": {
      "text/plain": [
       "Plot with title “Graph for 10 rules”"
      ]
     },
     "metadata": {
      "image/svg+xml": {
       "isolated": true
      }
     },
     "output_type": "display_data"
    }
   ],
   "source": [
    "plot(subrules2, method=\"graph\")\n"
   ]
  },
  {
   "cell_type": "code",
   "execution_count": 13,
   "metadata": {
    "collapsed": false
   },
   "outputs": [
    {
     "data": {
      "text/plain": [
       "plot without title"
      ]
     },
     "metadata": {
      "image/svg+xml": {
       "isolated": true
      }
     },
     "output_type": "display_data"
    }
   ],
   "source": [
    "plot(subrules2, method=\"paracoord\")\n"
   ]
  },
  {
   "cell_type": "code",
   "execution_count": null,
   "metadata": {
    "collapsed": true
   },
   "outputs": [],
   "source": []
  }
 ],
 "metadata": {
  "kernelspec": {
   "display_name": "R",
   "language": "R",
   "name": "ir"
  },
  "language_info": {
   "codemirror_mode": "r",
   "file_extension": ".r",
   "mimetype": "text/x-r-source",
   "name": "R",
   "pygments_lexer": "r",
   "version": "3.3.2"
  }
 },
 "nbformat": 4,
 "nbformat_minor": 0
}
