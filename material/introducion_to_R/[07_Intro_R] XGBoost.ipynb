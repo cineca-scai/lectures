{
 "cells": [
  {
   "cell_type": "markdown",
   "metadata": {},
   "source": [
    "### XGBoost Classifier"
   ]
  },
  {
   "cell_type": "code",
   "execution_count": null,
   "metadata": {
    "collapsed": false
   },
   "outputs": [],
   "source": [
    "install.packages(\"xgboost\", lib=\"/opt/conda/lib/R/library\", repo=\"http://cran.us.r-project.org\")\n",
    "install.packages(\"cvAUC\", lib=\"/opt/conda/lib/R/library\", repo=\"http://cran.us.r-project.org\")"
   ]
  },
  {
   "cell_type": "markdown",
   "metadata": {},
   "source": [
    "### Data preparation"
   ]
  },
  {
   "cell_type": "code",
   "execution_count": null,
   "metadata": {
    "collapsed": false
   },
   "outputs": [],
   "source": [
    "library(xgboost)\n",
    "library(Matrix)\n",
    "library(cvAUC)\n",
    "# Load 2-class HIGGS dataset\n",
    "train <- read.csv(\"data/higgs_train_10k.csv\")\n",
    "test <- read.csv(\"data/higgs_test_5k.csv\")\n",
    "# Set seed because we column-sample\n",
    "set.seed(1)\n",
    "\n",
    "\n",
    "head(train)\n",
    "train$EventId<-NULL\n",
    "test$EventId<-NULL\n",
    "train$Weight<-NULL\n",
    "test$Weight<-NULL\n",
    "\n",
    "train$response=ifelse(train$Label==\"s\",1,0)\n",
    "test$response=ifelse(test$Label==\"s\",1,0)\n",
    "head(train)\n",
    "head(test)\n",
    "train$Label<-NULL\n",
    "test$label<-NULL\n",
    "y <- \"response\""
   ]
  },
  {
   "cell_type": "markdown",
   "metadata": {},
   "source": [
    "### Run model and test it"
   ]
  },
  {
   "cell_type": "code",
   "execution_count": null,
   "metadata": {
    "collapsed": false
   },
   "outputs": [],
   "source": [
    "train.mx <- sparse.model.matrix(response ~ ., train)\n",
    "test.mx <- sparse.model.matrix(response ~ ., test)\n",
    "dtrain <- xgb.DMatrix(train.mx, label = train[,y])\n",
    "dtest <- xgb.DMatrix(test.mx, label = test[,y])\n",
    "\n",
    "train.gdbt <- xgb.train(params = list(objective = \"binary:logistic\",\n",
    "                                      #num_class = 2,\n",
    "                                      #eval_metric = \"mlogloss\",\n",
    "                                      eta = 0.3,\n",
    "                                      max_depth = 5,\n",
    "                                      subsample = 1,\n",
    "                                      colsample_bytree = 0.5), \n",
    "                                      data = dtrain, \n",
    "                                      nrounds = 70, \n",
    "                                      watchlist = list(train = dtrain, test = dtest))\n",
    "# Generate predictions on test dataset\n",
    "preds <- predict(train.gdbt, newdata = dtest)\n",
    "labels <- test[,y]\n",
    "\n",
    "# Compute AUC on the test set\n",
    "cvAUC::AUC(predictions = preds, labels = labels)\n"
   ]
  },
  {
   "cell_type": "markdown",
   "metadata": {},
   "source": [
    "### Advanced functionality of xgboost"
   ]
  },
  {
   "cell_type": "code",
   "execution_count": null,
   "metadata": {
    "collapsed": false
   },
   "outputs": [],
   "source": [
    "\n",
    "install.packages(\"Ckmeans.1d.dp\", lib=\"/opt/conda/lib/R/library\", repo=\"http://cran.us.r-project.org\")\n",
    "library(Ckmeans.1d.dp)\n",
    "# Compute feature importance matrix\n",
    "names <- dimnames(data.matrix(train[,-1]))[[2]]\n",
    "importance_matrix <- xgb.importance(names, model = train.gdbt)\n",
    "\n",
    "# Plot feature importance\n",
    "xgb.plot.importance(importance_matrix[1:10,])"
   ]
  }
 ],
 "metadata": {
  "kernelspec": {
   "display_name": "R",
   "language": "R",
   "name": "ir"
  },
  "language_info": {
   "codemirror_mode": "r",
   "file_extension": ".r",
   "mimetype": "text/x-r-source",
   "name": "R",
   "pygments_lexer": "r",
   "version": "3.3.2"
  }
 },
 "nbformat": 4,
 "nbformat_minor": 2
}
