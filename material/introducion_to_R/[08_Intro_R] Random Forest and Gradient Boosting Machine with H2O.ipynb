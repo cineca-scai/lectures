{
 "cells": [
  {
   "cell_type": "markdown",
   "metadata": {},
   "source": [
    "### Create H2O cloud"
   ]
  },
  {
   "cell_type": "code",
   "execution_count": 18,
   "metadata": {
    "collapsed": false
   },
   "outputs": [
    {
     "name": "stdout",
     "output_type": "stream",
     "text": [
      " Connection successful!\n",
      "\n",
      "R is connected to the H2O cluster: \n",
      "    H2O cluster uptime:         22 hours 4 minutes \n",
      "    H2O cluster version:        3.10.3.6 \n",
      "    H2O cluster version age:    1 month and 14 days  \n",
      "    H2O cluster name:           H2O_started_from_R_jovyan_qjv229 \n",
      "    H2O cluster total nodes:    1 \n",
      "    H2O cluster total memory:   1.35 GB \n",
      "    H2O cluster total cores:    4 \n",
      "    H2O cluster allowed cores:  4 \n",
      "    H2O cluster healthy:        TRUE \n",
      "    H2O Connection ip:          localhost \n",
      "    H2O Connection port:        54321 \n",
      "    H2O Connection proxy:       NA \n",
      "    R Version:                  R version 3.3.2 (2016-10-31) \n",
      "\n",
      "[1] 0\n"
     ]
    }
   ],
   "source": [
    "### Task: Predicting forest cover type from cartographic variables only\n",
    "###       The actual forest cover type for a given observation \n",
    "###       (30 x 30 meter cell) was determined from the US Forest Service (USFS).\n",
    "\n",
    "### Note: If run from plain R, execute R in the directory of this script. If run from RStudio, \n",
    "### be sure to setwd() to the location of this script. h2o.init() starts H2O in R's current \n",
    "### working directory. h2o.importFile() looks for files from the perspective of where H2O was \n",
    "### started.\n",
    "\n",
    "## install.packages(\"h2o\", lib=\"/opt/conda/lib/R/library\", repo=\"http://cran.us.r-project.org\")\n",
    "library(h2o)\n",
    "h2o.init(\n",
    "  nthreads=-1,            ## -1: use all available threads\n",
    "  max_mem_size = \"2G\")   \n",
    "h2o.removeAll() # Clean slate - just in case the cluster was already running"
   ]
  },
  {
   "cell_type": "markdown",
   "metadata": {},
   "source": [
    "### Read data from disk "
   ]
  },
  {
   "cell_type": "code",
   "execution_count": 2,
   "metadata": {
    "collapsed": false
   },
   "outputs": [
    {
     "name": "stdout",
     "output_type": "stream",
     "text": [
      "\r",
      "  |                                                                            \r",
      "  |                                                                      |   0%\r",
      "  |                                                                            \r",
      "  |======================================================================| 100%\n"
     ]
    }
   ],
   "source": [
    "\n",
    "df <- h2o.importFile(path = normalizePath(\"data/covtype.full.csv\"))\n",
    "\n",
    "## First, we will create three splits for train/test/valid independent data sets.\n",
    "## We will train a data set on one set and use the others to test the validity\n",
    "##  of model by ensuring that it can predict accurately on data the model has not\n",
    "##  been shown.\n",
    "## The second set will be used for validation most of the time. The third set will\n",
    "##  be withheld until the end, to ensure that our validation accuracy is consistent\n",
    "##  with data we have never seen during the iterative process. \n",
    "splits <- h2o.splitFrame(\n",
    "  df,           ##  splitting the H2O frame we read above\n",
    "  c(0.6,0.2),   ##  create splits of 60% and 20%; \n",
    "                ##  H2O will create one more split of 1-(sum of these parameters)\n",
    "                ##  so we will get 0.6 / 0.2 / 1 - (0.6+0.2) = 0.6/0.2/0.2\n",
    "  seed=1234)    ##  setting a seed will ensure reproducible results (not R's seed)"
   ]
  },
  {
   "cell_type": "markdown",
   "metadata": {},
   "source": [
    "### Look at variables types"
   ]
  },
  {
   "cell_type": "code",
   "execution_count": 3,
   "metadata": {
    "collapsed": false
   },
   "outputs": [
    {
     "data": {
      "text/html": [
       "<ol>\n",
       "\t<li>'int'</li>\n",
       "\t<li>'int'</li>\n",
       "\t<li>'int'</li>\n",
       "\t<li>'int'</li>\n",
       "\t<li>'int'</li>\n",
       "\t<li>'int'</li>\n",
       "\t<li>'int'</li>\n",
       "\t<li>'int'</li>\n",
       "\t<li>'int'</li>\n",
       "\t<li>'int'</li>\n",
       "\t<li>'enum'</li>\n",
       "\t<li>'enum'</li>\n",
       "\t<li>'enum'</li>\n",
       "</ol>\n"
      ],
      "text/latex": [
       "\\begin{enumerate}\n",
       "\\item 'int'\n",
       "\\item 'int'\n",
       "\\item 'int'\n",
       "\\item 'int'\n",
       "\\item 'int'\n",
       "\\item 'int'\n",
       "\\item 'int'\n",
       "\\item 'int'\n",
       "\\item 'int'\n",
       "\\item 'int'\n",
       "\\item 'enum'\n",
       "\\item 'enum'\n",
       "\\item 'enum'\n",
       "\\end{enumerate}\n"
      ],
      "text/markdown": [
       "1. 'int'\n",
       "2. 'int'\n",
       "3. 'int'\n",
       "4. 'int'\n",
       "5. 'int'\n",
       "6. 'int'\n",
       "7. 'int'\n",
       "8. 'int'\n",
       "9. 'int'\n",
       "10. 'int'\n",
       "11. 'enum'\n",
       "12. 'enum'\n",
       "13. 'enum'\n",
       "\n",
       "\n"
      ],
      "text/plain": [
       "[[1]]\n",
       "[1] \"int\"\n",
       "\n",
       "[[2]]\n",
       "[1] \"int\"\n",
       "\n",
       "[[3]]\n",
       "[1] \"int\"\n",
       "\n",
       "[[4]]\n",
       "[1] \"int\"\n",
       "\n",
       "[[5]]\n",
       "[1] \"int\"\n",
       "\n",
       "[[6]]\n",
       "[1] \"int\"\n",
       "\n",
       "[[7]]\n",
       "[1] \"int\"\n",
       "\n",
       "[[8]]\n",
       "[1] \"int\"\n",
       "\n",
       "[[9]]\n",
       "[1] \"int\"\n",
       "\n",
       "[[10]]\n",
       "[1] \"int\"\n",
       "\n",
       "[[11]]\n",
       "[1] \"enum\"\n",
       "\n",
       "[[12]]\n",
       "[1] \"enum\"\n",
       "\n",
       "[[13]]\n",
       "[1] \"enum\"\n"
      ]
     },
     "metadata": {},
     "output_type": "display_data"
    }
   ],
   "source": [
    "h2o.getTypes(df)"
   ]
  },
  {
   "cell_type": "markdown",
   "metadata": {},
   "source": [
    "### Create training, validation and test set "
   ]
  },
  {
   "cell_type": "code",
   "execution_count": 4,
   "metadata": {
    "collapsed": false
   },
   "outputs": [
    {
     "data": {
      "text/plain": [
       "  Elevation Aspect Slope Horizontal_Distance_To_Hydrology\n",
       "1      3136     32    20                              450\n",
       "2      3217     80    13                               30\n",
       "3      3119    293    13                               30\n",
       "4      2679     48     7                              150\n",
       "5      3261    322    13                               30\n",
       "  Vertical_Distance_To_Hydrology Horizontal_Distance_To_Roadways Hillshade_9am\n",
       "1                            -38                            1290           211\n",
       "2                              1                            3901           237\n",
       "3                             10                            4810           182\n",
       "4                             24                            1588           223\n",
       "5                              5                            5701           186\n",
       "  Hillshade_Noon Hillshade_3pm Horizontal_Distance_To_Fire_Points\n",
       "1            193           111                               1112\n",
       "2            217           109                               2859\n",
       "3            237           194                               1200\n",
       "4            224           136                               6265\n",
       "5            226           180                                769\n",
       "  Wilderness_Area Soil_Type Cover_Type\n",
       "1          area_0   type_28    class_1\n",
       "2          area_0   type_22    class_7\n",
       "3          area_0   type_21    class_1\n",
       "4          area_0   type_11    class_2\n",
       "5          area_0   type_21    class_1\n",
       "\n",
       "[5 rows x 13 columns] "
      ]
     },
     "metadata": {},
     "output_type": "display_data"
    }
   ],
   "source": [
    "train <- h2o.assign(splits[[1]], \"train.hex\")   \n",
    "                ## assign the first result the R variable train\n",
    "                ## and the H2O name train.hex\n",
    "valid <- h2o.assign(splits[[2]], \"valid.hex\")   ## R valid, H2O valid.hex\n",
    "test <- h2o.assign(splits[[3]], \"test.hex\")     ## R test, H2O test.hex\n",
    "\n",
    "## take a look at the first few rows of the data set\n",
    "train[1:5,]   ## rows 1-5, all columns"
   ]
  },
  {
   "cell_type": "markdown",
   "metadata": {},
   "source": [
    "### Run the first Random Forest predictive model"
   ]
  },
  {
   "cell_type": "code",
   "execution_count": 10,
   "metadata": {
    "collapsed": false
   },
   "outputs": [
    {
     "name": "stdout",
     "output_type": "stream",
     "text": [
      "\r",
      "  |                                                                            \r",
      "  |                                                                      |   0%\r",
      "  |                                                                            \r",
      "  |=                                                                     |   1%\r",
      "  |                                                                            \r",
      "  |=                                                                     |   2%\r",
      "  |                                                                            \r",
      "  |==                                                                    |   2%\r",
      "  |                                                                            \r",
      "  |==                                                                    |   3%\r",
      "  |                                                                            \r",
      "  |==                                                                    |   4%\r",
      "  |                                                                            \r",
      "  |===                                                                   |   4%\r",
      "  |                                                                            \r",
      "  |====                                                                  |   5%\r",
      "  |                                                                            \r",
      "  |====                                                                  |   6%\r",
      "  |                                                                            \r",
      "  |=====                                                                 |   6%\r",
      "  |                                                                            \r",
      "  |=====                                                                 |   7%\r",
      "  |                                                                            \r",
      "  |=====                                                                 |   8%\r",
      "  |                                                                            \r",
      "  |======                                                                |   8%\r",
      "  |                                                                            \r",
      "  |======                                                                |   9%\r",
      "  |                                                                            \r",
      "  |=======                                                               |  10%\r",
      "  |                                                                            \r",
      "  |========                                                              |  11%\r",
      "  |                                                                            \r",
      "  |========                                                              |  12%\r",
      "  |                                                                            \r",
      "  |======================================================================| 100%\n"
     ]
    }
   ],
   "source": [
    "\n",
    "rf1 <- h2o.randomForest(         ## h2o.randomForest function\n",
    "  training_frame = train,        ## the H2O frame for training\n",
    "  validation_frame = valid,      ## the H2O frame for validation (not required)\n",
    "  x=1:12,                        ## the predictor columns, by column index\n",
    "  y=13,                          ## the target index (what we are predicting)\n",
    "  model_id = \"rf_covType_v1\",    ## name the model in H2O\n",
    "                                 ##   not required, but helps use Flow\n",
    "  ntrees = 200,                  ## use a maximum of 200 trees to create the\n",
    "                                 ##  random forest model. The default is 50.\n",
    "                                 ##  I have increased it because I will let \n",
    "                                 ##  the early stopping criteria decide when\n",
    "                                 ##  the random forest is sufficiently accurate\n",
    "  stopping_rounds = 2,           ## Stop fitting new trees when the 2-tree\n",
    "                                 ##  average is within 0.001 (default) of \n",
    "                                 ##  the prior two 2-tree averages.\n",
    "                                 ##  Can be thought of as a convergence setting\n",
    "  score_each_iteration = T,      ## Predict against training and validation for\n",
    "                                 ##  each tree. Default will skip several.\n",
    "  seed = 1000000)                ## Set the random seed so that this can be\n",
    "                                 ##  reproduced.\n",
    "###############################################################################\n",
    "\n",
    "\n",
    "\n",
    "\n",
    "###############################################################################"
   ]
  },
  {
   "cell_type": "markdown",
   "metadata": {},
   "source": [
    "### Model rf1 information"
   ]
  },
  {
   "cell_type": "code",
   "execution_count": 11,
   "metadata": {
    "collapsed": false
   },
   "outputs": [
    {
     "name": "stdout",
     "output_type": "stream",
     "text": [
      "Model Details:\n",
      "==============\n",
      "\n",
      "H2OMultinomialModel: drf\n",
      "Model Key:  rf_covType_v1 \n",
      "Model Summary: \n",
      "  number_of_trees number_of_internal_trees model_size_in_bytes min_depth\n",
      "1              24                      168            11881288        17\n",
      "  max_depth mean_depth min_leaves max_leaves mean_leaves\n",
      "1        20   19.95238        527      16103  5504.44630\n",
      "\n",
      "H2OMultinomialMetrics: drf\n",
      "** Reported on training data. **\n",
      "** Metrics reported on Out-Of-Bag training samples **\n",
      "\n",
      "Training Set Metrics: \n",
      "=====================\n",
      "\n",
      "Extract training frame with `h2o.getFrame(\"train.hex\")`\n",
      "MSE: (Extract with `h2o.mse`) 0.05607684\n",
      "RMSE: (Extract with `h2o.rmse`) 0.2368055\n",
      "Logloss: (Extract with `h2o.logloss`) 0.238433\n",
      "Mean Per-Class Error: 0.1110219\n",
      "Confusion Matrix: Extract with `h2o.confusionMatrix(<model>,train = TRUE)`)\n",
      "=========================================================================\n",
      "Confusion Matrix: vertical: actual; across: predicted\n",
      "        class_1 class_2 class_3 class_4 class_5 class_6 class_7  Error\n",
      "class_1  117176    9534       5       0      53      11     338 0.0782\n",
      "class_2    5414  164066     321       3     240     244      50 0.0368\n",
      "class_3      32     413   20370      93      22     512       0 0.0500\n",
      "class_4       0      32     178    1390       0      58       0 0.1616\n",
      "class_5      93    1386      63       0    4161      17       0 0.2726\n",
      "class_6      38     368     739      42       7    9239       0 0.1144\n",
      "class_7     709      70       0       0       2       0   11519 0.0635\n",
      "Totals   123462  175869   21676    1528    4485   10081   11907 0.0604\n",
      "                      Rate\n",
      "class_1 =  9,941 / 127,117\n",
      "class_2 =  6,272 / 170,338\n",
      "class_3 =   1,072 / 21,442\n",
      "class_4 =      268 / 1,658\n",
      "class_5 =    1,559 / 5,720\n",
      "class_6 =   1,194 / 10,433\n",
      "class_7 =     781 / 12,300\n",
      "Totals  = 21,087 / 349,008\n",
      "\n",
      "Hit Ratio Table: Extract with `h2o.hit_ratio_table(<model>,train = TRUE)`\n",
      "=======================================================================\n",
      "Top-7 Hit Ratios: \n",
      "  k hit_ratio\n",
      "1 1  0.939580\n",
      "2 2  0.996241\n",
      "3 3  0.998201\n",
      "4 4  0.998252\n",
      "5 5  0.998252\n",
      "6 6  0.998252\n",
      "7 7  1.000000\n",
      "\n",
      "\n",
      "H2OMultinomialMetrics: drf\n",
      "** Reported on validation data. **\n",
      "\n",
      "Validation Set Metrics: \n",
      "=====================\n",
      "\n",
      "Extract validation frame with `h2o.getFrame(\"valid.hex\")`\n",
      "MSE: (Extract with `h2o.mse`) 0.05314141\n",
      "RMSE: (Extract with `h2o.rmse`) 0.2305242\n",
      "Logloss: (Extract with `h2o.logloss`) 0.2003041\n",
      "Mean Per-Class Error: 0.1025131\n",
      "Confusion Matrix: Extract with `h2o.confusionMatrix(<model>,valid = TRUE)`)\n",
      "=========================================================================\n",
      "Confusion Matrix: vertical: actual; across: predicted\n",
      "        class_1 class_2 class_3 class_4 class_5 class_6 class_7  Error\n",
      "class_1   39403    2998       0       0      15       2      82 0.0729\n",
      "class_2    1589   54529     104       0      83      60      15 0.0328\n",
      "class_3       0     131    6844      30       3     135       0 0.0419\n",
      "class_4       1       1      61     479       0      20       0 0.1477\n",
      "class_5      29     432      24       0    1377       8       0 0.2636\n",
      "class_6       0     129     212      19       3    3101       0 0.1048\n",
      "class_7     204      16       0       0       1       0    3878 0.0539\n",
      "Totals    41226   58236    7245     528    1482    3326    3975 0.0552\n",
      "                     Rate\n",
      "class_1 =  3,097 / 42,500\n",
      "class_2 =  1,851 / 56,380\n",
      "class_3 =     299 / 7,143\n",
      "class_4 =        83 / 562\n",
      "class_5 =     493 / 1,870\n",
      "class_6 =     363 / 3,464\n",
      "class_7 =     221 / 4,099\n",
      "Totals  = 6,407 / 116,018\n",
      "\n",
      "Hit Ratio Table: Extract with `h2o.hit_ratio_table(<model>,valid = TRUE)`\n",
      "=======================================================================\n",
      "Top-7 Hit Ratios: \n",
      "  k hit_ratio\n",
      "1 1  0.944776\n",
      "2 2  0.997845\n",
      "3 3  0.999681\n",
      "4 4  0.999784\n",
      "5 5  0.999793\n",
      "6 6  0.999793\n",
      "7 7  1.000000\n",
      "\n",
      "\n",
      "\n",
      "\n",
      "Scoring History: \n",
      "            timestamp   duration number_of_trees training_rmse training_logloss\n",
      "1 2017-04-05 09:48:50  0.006 sec               0                               \n",
      "2 2017-04-05 09:48:51  1.083 sec               1       0.33564          2.49674\n",
      "3 2017-04-05 09:48:52  2.298 sec               2       0.31925          2.16527\n",
      "4 2017-04-05 09:48:54  3.595 sec               3       0.30618          1.81911\n",
      "5 2017-04-05 09:48:55  5.080 sec               4       0.29535          1.50134\n",
      "  training_classification_error validation_rmse validation_logloss\n",
      "1                                                                 \n",
      "2                       0.12395         0.33424            2.44479\n",
      "3                       0.11354         0.26638            0.79153\n",
      "4                       0.10557         0.25065            0.46030\n",
      "5                       0.09925         0.24492            0.34187\n",
      "  validation_classification_error\n",
      "1                                \n",
      "2                         0.12729\n",
      "3                         0.08501\n",
      "4                         0.07233\n",
      "5                         0.06740\n",
      "\n",
      "---\n",
      "             timestamp   duration number_of_trees training_rmse\n",
      "20 2017-04-05 09:49:31 40.876 sec              19       0.23949\n",
      "21 2017-04-05 09:49:34 44.314 sec              20       0.23857\n",
      "22 2017-04-05 09:49:38 47.842 sec              21       0.23803\n",
      "23 2017-04-05 09:49:42 51.602 sec              22       0.23737\n",
      "24 2017-04-05 09:49:45 55.275 sec              23       0.23720\n",
      "25 2017-04-05 09:49:49 59.362 sec              24       0.23681\n",
      "   training_logloss training_classification_error validation_rmse\n",
      "20          0.27068                       0.06279         0.23107\n",
      "21          0.26135                       0.06201         0.23071\n",
      "22          0.25378                       0.06156         0.23063\n",
      "23          0.24814                       0.06116         0.23034\n",
      "24          0.24367                       0.06090         0.23053\n",
      "25          0.23843                       0.06042         0.23052\n",
      "   validation_logloss validation_classification_error\n",
      "20            0.20225                         0.05619\n",
      "21            0.20166                         0.05609\n",
      "22            0.20089                         0.05566\n",
      "23            0.20031                         0.05545\n",
      "24            0.20089                         0.05535\n",
      "25            0.20030                         0.05522\n",
      "\n",
      "Variable Importances: (Extract with `h2o.varimp`) \n",
      "=================================================\n",
      "\n",
      "Variable Importances: \n",
      "                             variable relative_importance scaled_importance\n",
      "1                           Soil_Type       784023.875000          1.000000\n",
      "2                           Elevation       738730.562500          0.942230\n",
      "3     Horizontal_Distance_To_Roadways       327317.406250          0.417484\n",
      "4  Horizontal_Distance_To_Fire_Points       317907.718750          0.405482\n",
      "5                     Wilderness_Area       178298.437500          0.227415\n",
      "6    Horizontal_Distance_To_Hydrology       159165.656250          0.203011\n",
      "7      Vertical_Distance_To_Hydrology       134396.156250          0.171418\n",
      "8                              Aspect       106050.000000          0.135264\n",
      "9                      Hillshade_Noon        99759.445312          0.127240\n",
      "10                      Hillshade_9am        92490.718750          0.117969\n",
      "11                      Hillshade_3pm        87322.429688          0.111377\n",
      "12                              Slope        80532.804688          0.102717\n",
      "   percentage\n",
      "1    0.252423\n",
      "2    0.237840\n",
      "3    0.105382\n",
      "4    0.102353\n",
      "5    0.057405\n",
      "6    0.051245\n",
      "7    0.043270\n",
      "8    0.034144\n",
      "9    0.032118\n",
      "10   0.029778\n",
      "11   0.028114\n",
      "12   0.025928\n"
     ]
    }
   ],
   "source": [
    "summary(rf1)                     ## View information about the model.\n",
    "                                 ## Keys to look for are validation performance\n",
    "                                 ##  and variable importance"
   ]
  },
  {
   "cell_type": "code",
   "execution_count": 12,
   "metadata": {
    "collapsed": false
   },
   "outputs": [
    {
     "data": {
      "text/plain": [
       "H2OMultinomialMetrics: drf\n",
       "** Reported on validation data. **\n",
       "\n",
       "Validation Set Metrics: \n",
       "=====================\n",
       "\n",
       "Extract validation frame with `h2o.getFrame(\"valid.hex\")`\n",
       "MSE: (Extract with `h2o.mse`) 0.05314141\n",
       "RMSE: (Extract with `h2o.rmse`) 0.2305242\n",
       "Logloss: (Extract with `h2o.logloss`) 0.2003041\n",
       "Mean Per-Class Error: 0.1025131\n",
       "Confusion Matrix: Extract with `h2o.confusionMatrix(<model>,valid = TRUE)`)\n",
       "=========================================================================\n",
       "Confusion Matrix: vertical: actual; across: predicted\n",
       "        class_1 class_2 class_3 class_4 class_5 class_6 class_7  Error\n",
       "class_1   39403    2998       0       0      15       2      82 0.0729\n",
       "class_2    1589   54529     104       0      83      60      15 0.0328\n",
       "class_3       0     131    6844      30       3     135       0 0.0419\n",
       "class_4       1       1      61     479       0      20       0 0.1477\n",
       "class_5      29     432      24       0    1377       8       0 0.2636\n",
       "class_6       0     129     212      19       3    3101       0 0.1048\n",
       "class_7     204      16       0       0       1       0    3878 0.0539\n",
       "Totals    41226   58236    7245     528    1482    3326    3975 0.0552\n",
       "                     Rate\n",
       "class_1 =  3,097 / 42,500\n",
       "class_2 =  1,851 / 56,380\n",
       "class_3 =     299 / 7,143\n",
       "class_4 =        83 / 562\n",
       "class_5 =     493 / 1,870\n",
       "class_6 =     363 / 3,464\n",
       "class_7 =     221 / 4,099\n",
       "Totals  = 6,407 / 116,018\n",
       "\n",
       "Hit Ratio Table: Extract with `h2o.hit_ratio_table(<model>,valid = TRUE)`\n",
       "=======================================================================\n",
       "Top-7 Hit Ratios: \n",
       "  k hit_ratio\n",
       "1 1  0.944776\n",
       "2 2  0.997845\n",
       "3 3  0.999681\n",
       "4 4  0.999784\n",
       "5 5  0.999793\n",
       "6 6  0.999793\n",
       "7 7  1.000000\n"
      ]
     },
     "metadata": {},
     "output_type": "display_data"
    }
   ],
   "source": [
    "rf1@model$validation_metrics     ## A more direct way to access the validation \n",
    "                                 ##  metrics. Performance metrics depend on \n",
    "                                 ##  the type of model being built. With a\n",
    "                                 ##  multinomial classification, we will primarily\n",
    "                                 ##  look at the confusion matrix, and overall\n",
    "                                 ##  accuracy via hit_ratio @ k=1."
   ]
  },
  {
   "cell_type": "code",
   "execution_count": 13,
   "metadata": {
    "collapsed": false
   },
   "outputs": [
    {
     "data": {
      "text/html": [
       "0.9447758"
      ],
      "text/latex": [
       "0.9447758"
      ],
      "text/markdown": [
       "0.9447758"
      ],
      "text/plain": [
       "[1] 0.9447758"
      ]
     },
     "metadata": {},
     "output_type": "display_data"
    }
   ],
   "source": [
    "h2o.hit_ratio_table(rf1,valid = T)[1,2]\n",
    "                                 ## Even more directly, the hit_ratio @ k=1"
   ]
  },
  {
   "cell_type": "markdown",
   "metadata": {},
   "source": [
    "### Run the first GBM predictive model"
   ]
  },
  {
   "cell_type": "code",
   "execution_count": 7,
   "metadata": {
    "collapsed": false
   },
   "outputs": [
    {
     "name": "stdout",
     "output_type": "stream",
     "text": [
      "  |======================================================================| 100%\n",
      "Model Details:\n",
      "==============\n",
      "\n",
      "H2OMultinomialModel: gbm\n",
      "Model Key:  gbm_covType1 \n",
      "Model Summary: \n",
      "  number_of_trees number_of_internal_trees model_size_in_bytes min_depth\n",
      "1              50                      350              315921         5\n",
      "  max_depth mean_depth min_leaves max_leaves mean_leaves\n",
      "1         5    5.00000         22         32    31.14000\n",
      "\n",
      "H2OMultinomialMetrics: gbm\n",
      "** Reported on training data. **\n",
      "\n",
      "Training Set Metrics: \n",
      "=====================\n",
      "\n",
      "Extract training frame with `h2o.getFrame(\"train.hex\")`\n",
      "MSE: (Extract with `h2o.mse`) 0.1435669\n",
      "RMSE: (Extract with `h2o.rmse`) 0.3789023\n",
      "Logloss: (Extract with `h2o.logloss`) 0.4560168\n",
      "Mean Per-Class Error: 0.2697606\n",
      "Confusion Matrix: Extract with `h2o.confusionMatrix(<model>,train = TRUE)`)\n",
      "=========================================================================\n",
      "Confusion Matrix: vertical: actual; across: predicted\n",
      "        class_1 class_2 class_3 class_4 class_5 class_6 class_7  Error\n",
      "class_1   99691   26454      19       0      35      21     900 0.2158\n",
      "class_2   21964  146151    1049       0     241     873      64 0.1420\n",
      "class_3       0    1517   18811     111       1    1002       0 0.1227\n",
      "class_4       0       0     224    1400       0      34       0 0.1556\n",
      "class_5      45    3689     184       0    1787      15       0 0.6876\n",
      "class_6      18    1392    2243      37       4    6739       0 0.3541\n",
      "class_7    2502      88       0       0       0       0    9710 0.2106\n",
      "Totals   124220  179291   22530    1548    2068    8684   10674 0.1855\n",
      "                      Rate\n",
      "class_1 = 27,429 / 127,120\n",
      "class_2 = 24,191 / 170,342\n",
      "class_3 =   2,631 / 21,442\n",
      "class_4 =      258 / 1,658\n",
      "class_5 =    3,933 / 5,720\n",
      "class_6 =   3,694 / 10,433\n",
      "class_7 =   2,590 / 12,300\n",
      "Totals  = 64,726 / 349,015\n",
      "\n",
      "Hit Ratio Table: Extract with `h2o.hit_ratio_table(<model>,train = TRUE)`\n",
      "=======================================================================\n",
      "Top-7 Hit Ratios: \n",
      "  k hit_ratio\n",
      "1 1  0.814547\n",
      "2 2  0.984293\n",
      "3 3  0.998123\n",
      "4 4  0.999734\n",
      "5 5  0.999994\n",
      "6 6  1.000000\n",
      "7 7  1.000000\n",
      "\n",
      "\n",
      "H2OMultinomialMetrics: gbm\n",
      "** Reported on validation data. **\n",
      "\n",
      "Validation Set Metrics: \n",
      "=====================\n",
      "\n",
      "Extract validation frame with `h2o.getFrame(\"valid.hex\")`\n",
      "MSE: (Extract with `h2o.mse`) 0.1469814\n",
      "RMSE: (Extract with `h2o.rmse`) 0.3833815\n",
      "Logloss: (Extract with `h2o.logloss`) 0.4652781\n",
      "Mean Per-Class Error: 0.281651\n",
      "Confusion Matrix: Extract with `h2o.confusionMatrix(<model>,valid = TRUE)`)\n",
      "=========================================================================\n",
      "Confusion Matrix: vertical: actual; across: predicted\n",
      "        class_1 class_2 class_3 class_4 class_5 class_6 class_7  Error\n",
      "class_1   33108    9074       0       0       5      10     303 0.2210\n",
      "class_2    7333   48242     373       0      98     301      33 0.1443\n",
      "class_3       1     514    6193      51       0     384       0 0.1330\n",
      "class_4       0       0      90     452       0      20       0 0.1957\n",
      "class_5      12    1196      59       0     598       5       0 0.6802\n",
      "class_6       4     506     747      21       0    2186       0 0.3689\n",
      "class_7     902      34       0       0       0       0    3163 0.2283\n",
      "Totals    41360   59566    7462     524     701    2906    3499 0.1903\n",
      "                      Rate\n",
      "class_1 =   9,392 / 42,500\n",
      "class_2 =   8,138 / 56,380\n",
      "class_3 =      950 / 7,143\n",
      "class_4 =        110 / 562\n",
      "class_5 =    1,272 / 1,870\n",
      "class_6 =    1,278 / 3,464\n",
      "class_7 =      936 / 4,099\n",
      "Totals  = 22,076 / 116,018\n",
      "\n",
      "Hit Ratio Table: Extract with `h2o.hit_ratio_table(<model>,valid = TRUE)`\n",
      "=======================================================================\n",
      "Top-7 Hit Ratios: \n",
      "  k hit_ratio\n",
      "1 1  0.809719\n",
      "2 2  0.983244\n",
      "3 3  0.998061\n",
      "4 4  0.999698\n",
      "5 5  0.999983\n",
      "6 6  0.999991\n",
      "7 7  1.000000\n",
      "\n",
      "\n",
      "\n",
      "\n",
      "Scoring History: \n",
      "            timestamp   duration number_of_trees training_rmse training_logloss\n",
      "1 2017-04-05 09:43:11  0.003 sec               0       0.85714          1.94591\n",
      "2 2017-04-05 09:43:12  0.933 sec               1       0.80295          1.63369\n",
      "3 2017-04-05 09:43:13  1.891 sec               2       0.75643          1.43276\n",
      "4 2017-04-05 09:43:14  2.839 sec               3       0.71524          1.28489\n",
      "5 2017-04-05 09:43:15  3.881 sec               4       0.67883          1.17058\n",
      "6 2017-04-05 09:43:19  8.604 sec              10       0.53437          0.80183\n",
      "7 2017-04-05 09:43:29 18.153 sec              22       0.43545          0.58137\n",
      "8 2017-04-05 09:43:47 35.714 sec              44       0.38538          0.47017\n",
      "9 2017-04-05 09:43:54 43.495 sec              50       0.37890          0.45602\n",
      "  training_classification_error validation_rmse validation_logloss\n",
      "1                       0.62247         0.85714            1.94591\n",
      "2                       0.25972         0.80306            1.63437\n",
      "3                       0.25676         0.75667            1.43397\n",
      "4                       0.25238         0.71567            1.28675\n",
      "5                       0.25232         0.67945            1.17300\n",
      "6                       0.24013         0.53578            0.80567\n",
      "7                       0.22237         0.43799            0.58728\n",
      "8                       0.19134         0.38956            0.47895\n",
      "9                       0.18545         0.38338            0.46528\n",
      "  validation_classification_error\n",
      "1                         0.62143\n",
      "2                         0.26233\n",
      "3                         0.25855\n",
      "4                         0.25486\n",
      "5                         0.25378\n",
      "6                         0.24154\n",
      "7                         0.22561\n",
      "8                         0.19581\n",
      "9                         0.19028\n",
      "\n",
      "Variable Importances: (Extract with `h2o.varimp`) \n",
      "=================================================\n",
      "\n",
      "Variable Importances: \n",
      "                             variable relative_importance scaled_importance\n",
      "1                           Elevation       186069.359375          1.000000\n",
      "2                           Soil_Type       175230.281250          0.941747\n",
      "3     Horizontal_Distance_To_Roadways        33496.492188          0.180022\n",
      "4  Horizontal_Distance_To_Fire_Points        27200.140625          0.146183\n",
      "5                     Wilderness_Area        15847.682617          0.085171\n",
      "6    Horizontal_Distance_To_Hydrology        14487.939453          0.077863\n",
      "7                      Hillshade_Noon         8946.017578          0.048079\n",
      "8                              Aspect         5229.591797          0.028106\n",
      "9      Vertical_Distance_To_Hydrology         5078.170410          0.027292\n",
      "10                      Hillshade_9am         3849.109863          0.020686\n",
      "11                      Hillshade_3pm         3354.961182          0.018031\n",
      "12                              Slope         1056.712158          0.005679\n",
      "   percentage\n",
      "1    0.387769\n",
      "2    0.365180\n",
      "3    0.069807\n",
      "4    0.056685\n",
      "5    0.033027\n",
      "6    0.030193\n",
      "7    0.018644\n",
      "8    0.010898\n",
      "9    0.010583\n",
      "10   0.008022\n",
      "11   0.006992\n",
      "12   0.002202\n"
     ]
    },
    {
     "data": {
      "text/html": [
       "0.8097192"
      ],
      "text/latex": [
       "0.8097192"
      ],
      "text/markdown": [
       "0.8097192"
      ],
      "text/plain": [
       "[1] 0.8097192"
      ]
     },
     "metadata": {},
     "output_type": "display_data"
    }
   ],
   "source": [
    "## Now we will try GBM. \n",
    "## First we will use all default settings, and then make some changes,\n",
    "##  where the parameters and defaults are described.\n",
    "\n",
    "gbm1 <- h2o.gbm(\n",
    "  training_frame = train,        ## the H2O frame for training\n",
    "  validation_frame = valid,      ## the H2O frame for validation (not required)\n",
    "  x=1:12,                        ## the predictor columns, by column index\n",
    "  y=13,                          ## the target index (what we are predicting)\n",
    "  model_id = \"gbm_covType1\",     ## name the model in H2O\n",
    "  seed = 2000000)                ## Set the random seed for reproducability\n",
    "\n",
    "###############################################################################\n",
    "summary(gbm1)                   ## View information about the model.\n",
    "\n",
    "h2o.hit_ratio_table(gbm1,valid = T)[1,2]\n",
    "                                ## Overall accuracy.\n",
    "\n",
    "## This default GBM is much worse than our original random forest.\n",
    "## The GBM is far from converging, so there are three primary knobs to adjust\n",
    "##  to get our performance up if we want to keep a similar run time.\n",
    "## 1: Adding trees will help. The default is 50.\n",
    "## 2: Increasing the learning rate will also help. The contribution of each\n",
    "##  tree will be stronger, so the model will move further away from the\n",
    "##  overall mean.\n",
    "## 3: Increasing the depth will help. This is the parameter that is the least\n",
    "##  straightforward. Tuning trees and learning rate both have direct impact\n",
    "##  that is easy to understand. Changing the depth means you are adjusting\n",
    "##  the \"weakness\" of each learner. Adding depth makes each tree fit the data\n",
    "##  closer. \n",
    "##\n",
    "## The first configuration will attack depth the most, since we've seen the\n",
    "##  random forest focus on a continuous variable (elevation) and 40-class factor\n",
    "##  (soil type) the most.\n",
    "##\n",
    "\n",
    "\n",
    "###############################################################################"
   ]
  },
  {
   "cell_type": "markdown",
   "metadata": {},
   "source": [
    "### Run the second GBM predictive model"
   ]
  },
  {
   "cell_type": "code",
   "execution_count": 9,
   "metadata": {
    "collapsed": false
   },
   "outputs": [
    {
     "name": "stdout",
     "output_type": "stream",
     "text": [
      "  |======================================================================| 100%\n",
      "Model Details:\n",
      "==============\n",
      "\n",
      "H2OMultinomialModel: gbm\n",
      "Model Key:  gbm_covType2 \n",
      "Model Summary: \n",
      "  number_of_trees number_of_internal_trees model_size_in_bytes min_depth\n",
      "1              20                      140             1154332        10\n",
      "  max_depth mean_depth min_leaves max_leaves mean_leaves\n",
      "1        10   10.00000        167        855   600.65717\n",
      "\n",
      "H2OMultinomialMetrics: gbm\n",
      "** Reported on training data. **\n",
      "\n",
      "Training Set Metrics: \n",
      "=====================\n",
      "\n",
      "Extract training frame with `h2o.getFrame(\"train.hex\")`\n",
      "MSE: (Extract with `h2o.mse`) 0.05351069\n",
      "RMSE: (Extract with `h2o.rmse`) 0.2313238\n",
      "Logloss: (Extract with `h2o.logloss`) 0.1961796\n",
      "Mean Per-Class Error: 0.05628537\n",
      "Confusion Matrix: Extract with `h2o.confusionMatrix(<model>,train = TRUE)`)\n",
      "=========================================================================\n",
      "Confusion Matrix: vertical: actual; across: predicted\n",
      "        class_1 class_2 class_3 class_4 class_5 class_6 class_7  Error\n",
      "class_1  115685   11234       1       0      24       2     174 0.0900\n",
      "class_2    7733  162200     139       0     171      75      24 0.0478\n",
      "class_3       0     185   20945       9       4     299       0 0.0232\n",
      "class_4       0       0      15    1639       0       4       0 0.0115\n",
      "class_5      26     790      42       0    4850      12       0 0.1521\n",
      "class_6       1     129     319       6       3    9975       0 0.0439\n",
      "class_7     294      21       0       0       0       0   11985 0.0256\n",
      "Totals   123739  174559   21461    1654    5052   10367   12183 0.0623\n",
      "                      Rate\n",
      "class_1 = 11,435 / 127,120\n",
      "class_2 =  8,142 / 170,342\n",
      "class_3 =     497 / 21,442\n",
      "class_4 =       19 / 1,658\n",
      "class_5 =      870 / 5,720\n",
      "class_6 =     458 / 10,433\n",
      "class_7 =     315 / 12,300\n",
      "Totals  = 21,736 / 349,015\n",
      "\n",
      "Hit Ratio Table: Extract with `h2o.hit_ratio_table(<model>,train = TRUE)`\n",
      "=======================================================================\n",
      "Top-7 Hit Ratios: \n",
      "  k hit_ratio\n",
      "1 1  0.937722\n",
      "2 2  0.999123\n",
      "3 3  0.999971\n",
      "4 4  0.999997\n",
      "5 5  1.000000\n",
      "6 6  1.000000\n",
      "7 7  1.000000\n",
      "\n",
      "\n",
      "H2OMultinomialMetrics: gbm\n",
      "** Reported on validation data. **\n",
      "\n",
      "Validation Set Metrics: \n",
      "=====================\n",
      "\n",
      "Extract validation frame with `h2o.getFrame(\"valid.hex\")`\n",
      "MSE: (Extract with `h2o.mse`) 0.06612896\n",
      "RMSE: (Extract with `h2o.rmse`) 0.2571555\n",
      "Logloss: (Extract with `h2o.logloss`) 0.2308381\n",
      "Mean Per-Class Error: 0.1138421\n",
      "Confusion Matrix: Extract with `h2o.confusionMatrix(<model>,valid = TRUE)`)\n",
      "=========================================================================\n",
      "Confusion Matrix: vertical: actual; across: predicted\n",
      "        class_1 class_2 class_3 class_4 class_5 class_6 class_7  Error\n",
      "class_1   37964    4406       0       0      20       2     108 0.1067\n",
      "class_2    3080   52961     103       0     132      76      28 0.0606\n",
      "class_3       1     152    6739      36       5     210       0 0.0566\n",
      "class_4       0       0      56     482       0      24       0 0.1423\n",
      "class_5      32     418      31       0    1382       7       0 0.2610\n",
      "class_6       4     131     240      18       2    3069       0 0.1140\n",
      "class_7     210      17       0       0       1       0    3871 0.0556\n",
      "Totals    41291   58085    7169     536    1542    3388    4007 0.0823\n",
      "                     Rate\n",
      "class_1 =  4,536 / 42,500\n",
      "class_2 =  3,419 / 56,380\n",
      "class_3 =     404 / 7,143\n",
      "class_4 =        80 / 562\n",
      "class_5 =     488 / 1,870\n",
      "class_6 =     395 / 3,464\n",
      "class_7 =     228 / 4,099\n",
      "Totals  = 9,550 / 116,018\n",
      "\n",
      "Hit Ratio Table: Extract with `h2o.hit_ratio_table(<model>,valid = TRUE)`\n",
      "=======================================================================\n",
      "Top-7 Hit Ratios: \n",
      "  k hit_ratio\n",
      "1 1  0.917685\n",
      "2 2  0.996932\n",
      "3 3  0.999853\n",
      "4 4  0.999983\n",
      "5 5  1.000000\n",
      "6 6  1.000000\n",
      "7 7  1.000000\n",
      "\n",
      "\n",
      "\n",
      "\n",
      "Scoring History: \n",
      "            timestamp   duration number_of_trees training_rmse training_logloss\n",
      "1 2017-04-05 09:47:13  0.002 sec               0       0.85714          1.94591\n",
      "2 2017-04-05 09:47:14  1.455 sec               1       0.69862          1.22691\n",
      "3 2017-04-05 09:47:16  3.172 sec               2       0.59806          0.94045\n",
      "4 2017-04-05 09:47:18  4.989 sec               3       0.52151          0.75984\n",
      "5 2017-04-05 09:47:20  6.911 sec               4       0.46291          0.63428\n",
      "  training_classification_error validation_rmse validation_logloss\n",
      "1                       0.62247         0.85714            1.94591\n",
      "2                       0.16357         0.70052            1.23468\n",
      "3                       0.15296         0.60170            0.95177\n",
      "4                       0.14244         0.52703            0.77435\n",
      "5                       0.13394         0.47023            0.65121\n",
      "  validation_classification_error\n",
      "1                         0.62143\n",
      "2                         0.17170\n",
      "3                         0.16229\n",
      "4                         0.15360\n",
      "5                         0.14518\n",
      "\n",
      "---\n",
      "             timestamp   duration number_of_trees training_rmse\n",
      "16 2017-04-05 09:47:50 36.809 sec              15       0.25733\n",
      "17 2017-04-05 09:47:53 40.184 sec              16       0.25153\n",
      "18 2017-04-05 09:47:56 43.559 sec              17       0.24541\n",
      "19 2017-04-05 09:48:00 47.077 sec              18       0.24007\n",
      "20 2017-04-05 09:48:04 50.796 sec              19       0.23585\n",
      "21 2017-04-05 09:48:08 54.630 sec              20       0.23132\n",
      "   training_logloss training_classification_error validation_rmse\n",
      "16          0.23749                       0.07602         0.27834\n",
      "17          0.22779                       0.07288         0.27344\n",
      "18          0.21805                       0.06961         0.26838\n",
      "19          0.20959                       0.06670         0.26407\n",
      "20          0.20293                       0.06478         0.26075\n",
      "21          0.19618                       0.06228         0.25716\n",
      "   validation_logloss validation_classification_error\n",
      "16            0.26820                         0.09342\n",
      "17            0.25927                         0.09074\n",
      "18            0.25031                         0.08821\n",
      "19            0.24273                         0.08584\n",
      "20            0.23687                         0.08427\n",
      "21            0.23084                         0.08231\n",
      "\n",
      "Variable Importances: (Extract with `h2o.varimp`) \n",
      "=================================================\n",
      "\n",
      "Variable Importances: \n",
      "                             variable relative_importance scaled_importance\n",
      "1                           Elevation       103639.054688          1.000000\n",
      "2                           Soil_Type        96176.945312          0.927999\n",
      "3     Horizontal_Distance_To_Roadways        40708.464844          0.392791\n",
      "4  Horizontal_Distance_To_Fire_Points        39771.000000          0.383745\n",
      "5    Horizontal_Distance_To_Hydrology        14269.908203          0.137689\n",
      "6                     Wilderness_Area        10816.265625          0.104365\n",
      "7      Vertical_Distance_To_Hydrology         9111.432617          0.087915\n",
      "8                      Hillshade_Noon         9095.529297          0.087762\n",
      "9                              Aspect         6482.573730          0.062550\n",
      "10                      Hillshade_9am         6397.168457          0.061725\n",
      "11                      Hillshade_3pm         4135.834473          0.039906\n",
      "12                              Slope         3477.522949          0.033554\n",
      "   percentage\n",
      "1    0.301205\n",
      "2    0.279518\n",
      "3    0.118310\n",
      "4    0.115586\n",
      "5    0.041472\n",
      "6    0.031435\n",
      "7    0.026480\n",
      "8    0.026434\n",
      "9    0.018840\n",
      "10   0.018592\n",
      "11   0.012020\n",
      "12   0.010107\n"
     ]
    },
    {
     "data": {
      "text/html": [
       "0.8097192"
      ],
      "text/latex": [
       "0.8097192"
      ],
      "text/markdown": [
       "0.8097192"
      ],
      "text/plain": [
       "[1] 0.8097192"
      ]
     },
     "metadata": {},
     "output_type": "display_data"
    },
    {
     "data": {
      "text/html": [
       "0.9176852"
      ],
      "text/latex": [
       "0.9176852"
      ],
      "text/markdown": [
       "0.9176852"
      ],
      "text/plain": [
       "[1] 0.9176852"
      ]
     },
     "metadata": {},
     "output_type": "display_data"
    }
   ],
   "source": [
    "gbm2 <- h2o.gbm(\n",
    "  training_frame = train,     ##\n",
    "  validation_frame = valid,   ##\n",
    "  x=1:12,                     ##\n",
    "  y=13,                       ## \n",
    "  ntrees = 20,                ## decrease the trees, mostly to allow for run time\n",
    "                              ##  (from 50)\n",
    "  learn_rate = 0.2,           ## increase the learning rate (from 0.1)\n",
    "  max_depth = 10,             ## increase the depth (from 5)\n",
    "  stopping_rounds = 2,        ## \n",
    "  stopping_tolerance = 0.01,  ##\n",
    "  score_each_iteration = T,   ##\n",
    "  model_id = \"gbm_covType2\",  ##\n",
    "  seed = 2000000)             ##\n",
    "\n",
    "###############################################################################\n",
    "\n",
    "summary(gbm2)\n",
    "h2o.hit_ratio_table(gbm1,valid = T)[1,2]    ## review the first model's accuracy\n",
    "h2o.hit_ratio_table(gbm2,valid = T)[1,2]    ## review the new model's accuracy\n",
    "###############################################################################\n",
    "\n",
    "## This has moved us in the right direction, but still lower accuracy \n",
    "##  than the random forest.\n",
    "## And it still has not converged, so we can make it more aggressive.\n",
    "## We can now add the stochastic nature of random forest into the GBM\n",
    "##  using some of the new H2O settings. This will help generalize \n",
    "##  and also provide a quicker runtime, so we can add a few more trees."
   ]
  },
  {
   "cell_type": "markdown",
   "metadata": {},
   "source": [
    "### Run the third GBM predictive model"
   ]
  },
  {
   "cell_type": "code",
   "execution_count": 15,
   "metadata": {
    "collapsed": false
   },
   "outputs": [
    {
     "name": "stdout",
     "output_type": "stream",
     "text": [
      "  |======================================================================| 100%\n",
      "Model Details:\n",
      "==============\n",
      "\n",
      "H2OMultinomialModel: gbm\n",
      "Model Key:  gbm_covType3 \n",
      "Model Summary: \n",
      "  number_of_trees number_of_internal_trees model_size_in_bytes min_depth\n",
      "1              30                      210             1460962        10\n",
      "  max_depth mean_depth min_leaves max_leaves mean_leaves\n",
      "1        10   10.00000        160        800   496.31906\n",
      "\n",
      "H2OMultinomialMetrics: gbm\n",
      "** Reported on training data. **\n",
      "\n",
      "Training Set Metrics: \n",
      "=====================\n",
      "\n",
      "Extract training frame with `h2o.getFrame(\"train.hex\")`\n",
      "MSE: (Extract with `h2o.mse`) 0.02767722\n",
      "RMSE: (Extract with `h2o.rmse`) 0.1663647\n",
      "Logloss: (Extract with `h2o.logloss`) 0.1113528\n",
      "Mean Per-Class Error: 0.02172058\n",
      "Confusion Matrix: Extract with `h2o.confusionMatrix(<model>,train = TRUE)`)\n",
      "=========================================================================\n",
      "Confusion Matrix: vertical: actual; across: predicted\n",
      "        class_1 class_2 class_3 class_4 class_5 class_6 class_7  Error\n",
      "class_1  121209    5849       2       0      19       0      41 0.0465\n",
      "class_2    3779  166343      77       0      86      45      12 0.0235\n",
      "class_3       0      98   21292       0       3      49       0 0.0070\n",
      "class_4       0       0       0    1658       0       0       0 0.0000\n",
      "class_5      15     276      11       0    5411       7       0 0.0540\n",
      "class_6       2      60      54       0       1   10316       0 0.0112\n",
      "class_7     113       8       0       0       0       0   12179 0.0098\n",
      "Totals   125118  172634   21436    1658    5520   10417   12232 0.0304\n",
      "                      Rate\n",
      "class_1 =  5,911 / 127,120\n",
      "class_2 =  3,999 / 170,342\n",
      "class_3 =     150 / 21,442\n",
      "class_4 =        0 / 1,658\n",
      "class_5 =      309 / 5,720\n",
      "class_6 =     117 / 10,433\n",
      "class_7 =     121 / 12,300\n",
      "Totals  = 10,607 / 349,015\n",
      "\n",
      "Hit Ratio Table: Extract with `h2o.hit_ratio_table(<model>,train = TRUE)`\n",
      "=======================================================================\n",
      "Top-7 Hit Ratios: \n",
      "  k hit_ratio\n",
      "1 1  0.969609\n",
      "2 2  0.999668\n",
      "3 3  0.999991\n",
      "4 4  0.999997\n",
      "5 5  0.999997\n",
      "6 6  0.999997\n",
      "7 7  1.000000\n",
      "\n",
      "\n",
      "H2OMultinomialMetrics: gbm\n",
      "** Reported on validation data. **\n",
      "\n",
      "Validation Set Metrics: \n",
      "=====================\n",
      "\n",
      "Extract validation frame with `h2o.getFrame(\"valid.hex\")`\n",
      "MSE: (Extract with `h2o.mse`) 0.04525272\n",
      "RMSE: (Extract with `h2o.rmse`) 0.2127269\n",
      "Logloss: (Extract with `h2o.logloss`) 0.1619933\n",
      "Mean Per-Class Error: 0.0903014\n",
      "Confusion Matrix: Extract with `h2o.confusionMatrix(<model>,valid = TRUE)`)\n",
      "=========================================================================\n",
      "Confusion Matrix: vertical: actual; across: predicted\n",
      "        class_1 class_2 class_3 class_4 class_5 class_6 class_7  Error\n",
      "class_1   39524    2876       0       0      19       3      78 0.0700\n",
      "class_2    2027   54023      87       0     149      71      23 0.0418\n",
      "class_3       0     135    6823      33      10     142       0 0.0448\n",
      "class_4       0       0      58     478       0      26       0 0.1495\n",
      "class_5      25     294      24       0    1518       9       0 0.1882\n",
      "class_6       4     121     179      19       3    3138       0 0.0941\n",
      "class_7     168      10       0       0       1       0    3920 0.0437\n",
      "Totals    41748   57459    7171     530    1700    3389    4021 0.0568\n",
      "                     Rate\n",
      "class_1 =  2,976 / 42,500\n",
      "class_2 =  2,357 / 56,380\n",
      "class_3 =     320 / 7,143\n",
      "class_4 =        84 / 562\n",
      "class_5 =     352 / 1,870\n",
      "class_6 =     326 / 3,464\n",
      "class_7 =     179 / 4,099\n",
      "Totals  = 6,594 / 116,018\n",
      "\n",
      "Hit Ratio Table: Extract with `h2o.hit_ratio_table(<model>,valid = TRUE)`\n",
      "=======================================================================\n",
      "Top-7 Hit Ratios: \n",
      "  k hit_ratio\n",
      "1 1  0.943164\n",
      "2 2  0.997725\n",
      "3 3  0.999828\n",
      "4 4  0.999983\n",
      "5 5  0.999983\n",
      "6 6  0.999983\n",
      "7 7  1.000000\n",
      "\n",
      "\n",
      "\n",
      "\n",
      "Scoring History: \n",
      "            timestamp   duration number_of_trees training_rmse training_logloss\n",
      "1 2017-04-05 09:54:48  0.002 sec               0       0.85714          1.94591\n",
      "2 2017-04-05 09:54:50  1.401 sec               1       0.61321          0.99140\n",
      "3 2017-04-05 09:54:51  2.631 sec               2       0.50243          0.72338\n",
      "4 2017-04-05 09:54:52  3.914 sec               3       0.42976          0.56747\n",
      "5 2017-04-05 09:54:54  5.346 sec               4       0.38287          0.47130\n",
      "  training_classification_error validation_rmse validation_logloss\n",
      "1                       0.62247         0.85714            1.94591\n",
      "2                       0.17880         0.61639            1.00202\n",
      "3                       0.15876         0.50813            0.73836\n",
      "4                       0.14303         0.43776            0.58550\n",
      "5                       0.13322         0.39288            0.49164\n",
      "  validation_classification_error\n",
      "1                         0.62143\n",
      "2                         0.18642\n",
      "3                         0.16820\n",
      "4                         0.15305\n",
      "5                         0.14418\n",
      "\n",
      "---\n",
      "             timestamp          duration number_of_trees training_rmse\n",
      "26 2017-04-05 09:55:50  1 min  1.525 sec              25       0.18490\n",
      "27 2017-04-05 09:55:54  1 min  5.441 sec              26       0.18087\n",
      "28 2017-04-05 09:55:58  1 min  9.507 sec              27       0.17751\n",
      "29 2017-04-05 09:56:02  1 min 14.050 sec              28       0.17327\n",
      "30 2017-04-05 09:56:07  1 min 18.544 sec              29       0.16997\n",
      "31 2017-04-05 09:56:11  1 min 22.975 sec              30       0.16636\n",
      "   training_logloss training_classification_error validation_rmse\n",
      "26          0.13258                       0.03876         0.22431\n",
      "27          0.12787                       0.03690         0.22160\n",
      "28          0.12390                       0.03520         0.21946\n",
      "29          0.11914                       0.03347         0.21707\n",
      "30          0.11546                       0.03186         0.21507\n",
      "31          0.11135                       0.03039         0.21273\n",
      "   validation_logloss validation_classification_error\n",
      "26            0.17888                         0.06321\n",
      "27            0.17497                         0.06184\n",
      "28            0.17190                         0.06061\n",
      "29            0.16824                         0.05934\n",
      "30            0.16538                         0.05835\n",
      "31            0.16199                         0.05684\n",
      "\n",
      "Variable Importances: (Extract with `h2o.varimp`) \n",
      "=================================================\n",
      "\n",
      "Variable Importances: \n",
      "                             variable relative_importance scaled_importance\n",
      "1                           Elevation        82004.531250          1.000000\n",
      "2                           Soil_Type        36520.027344          0.445342\n",
      "3     Horizontal_Distance_To_Roadways        19911.324219          0.242808\n",
      "4  Horizontal_Distance_To_Fire_Points        19259.642578          0.234861\n",
      "5    Horizontal_Distance_To_Hydrology         8144.816895          0.099322\n",
      "6                     Wilderness_Area         5873.890137          0.071629\n",
      "7      Vertical_Distance_To_Hydrology         5433.042969          0.066253\n",
      "8                      Hillshade_Noon         4849.980469          0.059143\n",
      "9                              Aspect         4088.666992          0.049859\n",
      "10                      Hillshade_9am         3875.102295          0.047255\n",
      "11                      Hillshade_3pm         2898.976562          0.035351\n",
      "12                              Slope         2387.373047          0.029113\n",
      "   percentage\n",
      "1    0.420003\n",
      "2    0.187045\n",
      "3    0.101980\n",
      "4    0.098642\n",
      "5    0.041715\n",
      "6    0.030084\n",
      "7    0.027826\n",
      "8    0.024840\n",
      "9    0.020941\n",
      "10   0.019847\n",
      "11   0.014848\n",
      "12   0.012227\n"
     ]
    },
    {
     "data": {
      "text/html": [
       "0.9447758"
      ],
      "text/latex": [
       "0.9447758"
      ],
      "text/markdown": [
       "0.9447758"
      ],
      "text/plain": [
       "[1] 0.9447758"
      ]
     },
     "metadata": {},
     "output_type": "display_data"
    },
    {
     "data": {
      "text/html": [
       "0.8097192"
      ],
      "text/latex": [
       "0.8097192"
      ],
      "text/markdown": [
       "0.8097192"
      ],
      "text/plain": [
       "[1] 0.8097192"
      ]
     },
     "metadata": {},
     "output_type": "display_data"
    },
    {
     "data": {
      "text/html": [
       "0.9176852"
      ],
      "text/latex": [
       "0.9176852"
      ],
      "text/markdown": [
       "0.9176852"
      ],
      "text/plain": [
       "[1] 0.9176852"
      ]
     },
     "metadata": {},
     "output_type": "display_data"
    },
    {
     "data": {
      "text/html": [
       "0.943164"
      ],
      "text/latex": [
       "0.943164"
      ],
      "text/markdown": [
       "0.943164"
      ],
      "text/plain": [
       "[1] 0.943164"
      ]
     },
     "metadata": {},
     "output_type": "display_data"
    }
   ],
   "source": [
    "\n",
    "gbm3 <- h2o.gbm(\n",
    "  training_frame = train,     ##\n",
    "  validation_frame = valid,   ##\n",
    "  x=1:12,                     ##\n",
    "  y=13,                       ## \n",
    "  ntrees = 30,                ## add a few trees (from 20, though default is 50)\n",
    "  learn_rate = 0.3,           ## increase the learning rate even further\n",
    "  max_depth = 10,             ## \n",
    "  sample_rate = 0.7,          ## use a random 70% of the rows to fit each tree\n",
    "  col_sample_rate = 0.7,       ## use 70% of the columns to fit each tree\n",
    "  stopping_rounds = 2,        ## \n",
    "  stopping_tolerance = 0.01,  ##\n",
    "  score_each_iteration = T,   ##\n",
    "  model_id = \"gbm_covType3\",  ##\n",
    "  seed = 2000000)             ##\n",
    "###############################################################################\n",
    "\n",
    "summary(gbm3)\n",
    "h2o.hit_ratio_table(rf1,valid = T)[1,2]     ## review the random forest accuracy\n",
    "h2o.hit_ratio_table(gbm1,valid = T)[1,2]    ## review the first model's accuracy\n",
    "h2o.hit_ratio_table(gbm2,valid = T)[1,2]    ## review the second model's accuracy\n",
    "h2o.hit_ratio_table(gbm3,valid = T)[1,2]    ## review the newest model's accuracy\n",
    "###############################################################################\n"
   ]
  },
  {
   "cell_type": "markdown",
   "metadata": {},
   "source": [
    "### Modify Random Forest parameter"
   ]
  },
  {
   "cell_type": "code",
   "execution_count": 16,
   "metadata": {
    "collapsed": false
   },
   "outputs": [
    {
     "name": "stdout",
     "output_type": "stream",
     "text": [
      "  |======================================================================| 100%\n",
      "Model Details:\n",
      "==============\n",
      "\n",
      "H2OMultinomialModel: drf\n",
      "Model Key:  rf_covType2 \n",
      "Model Summary: \n",
      "  number_of_trees number_of_internal_trees model_size_in_bytes min_depth\n",
      "1              22                      154            16259862        18\n",
      "  max_depth mean_depth min_leaves max_leaves mean_leaves\n",
      "1        30   28.03896        538      25147  8261.27900\n",
      "\n",
      "H2OMultinomialMetrics: drf\n",
      "** Reported on training data. **\n",
      "** Metrics reported on Out-Of-Bag training samples **\n",
      "\n",
      "Training Set Metrics: \n",
      "=====================\n",
      "\n",
      "Extract training frame with `h2o.getFrame(\"train.hex\")`\n",
      "MSE: (Extract with `h2o.mse`) 0.04415075\n",
      "RMSE: (Extract with `h2o.rmse`) 0.2101208\n",
      "Logloss: (Extract with `h2o.logloss`) 0.2736372\n",
      "Mean Per-Class Error: 0.1031423\n",
      "Confusion Matrix: Extract with `h2o.confusionMatrix(<model>,train = TRUE)`)\n",
      "=========================================================================\n",
      "Confusion Matrix: vertical: actual; across: predicted\n",
      "        class_1 class_2 class_3 class_4 class_5 class_6 class_7  Error\n",
      "class_1  119338    7439       3       0      43       9     284 0.0612\n",
      "class_2    4032  165551     275       1     255     176      42 0.0281\n",
      "class_3     170     450   20333      81      22     385       0 0.0517\n",
      "class_4       3      71     176    1363       0      45       0 0.1779\n",
      "class_5     312     887      51       0    4448      22       0 0.2224\n",
      "class_6     168     452     605      41      10    9157       0 0.1223\n",
      "class_7     645      72       0       0       2       0   11581 0.0585\n",
      "Totals   124668  174922   21443    1486    4780    9794   11907 0.0494\n",
      "                      Rate\n",
      "class_1 =  7,778 / 127,116\n",
      "class_2 =  4,781 / 170,332\n",
      "class_3 =   1,108 / 21,441\n",
      "class_4 =      295 / 1,658\n",
      "class_5 =    1,272 / 5,720\n",
      "class_6 =   1,276 / 10,433\n",
      "class_7 =     719 / 12,300\n",
      "Totals  = 17,229 / 349,000\n",
      "\n",
      "Hit Ratio Table: Extract with `h2o.hit_ratio_table(<model>,train = TRUE)`\n",
      "=======================================================================\n",
      "Top-7 Hit Ratios: \n",
      "  k hit_ratio\n",
      "1 1  0.950633\n",
      "2 2  0.991731\n",
      "3 3  0.992776\n",
      "4 4  0.992814\n",
      "5 5  0.992814\n",
      "6 6  0.992814\n",
      "7 7  1.000000\n",
      "\n",
      "\n",
      "H2OMultinomialMetrics: drf\n",
      "** Reported on validation data. **\n",
      "\n",
      "Validation Set Metrics: \n",
      "=====================\n",
      "\n",
      "Extract validation frame with `h2o.getFrame(\"valid.hex\")`\n",
      "MSE: (Extract with `h2o.mse`) 0.03989236\n",
      "RMSE: (Extract with `h2o.rmse`) 0.1997307\n",
      "Logloss: (Extract with `h2o.logloss`) 0.1646399\n",
      "Mean Per-Class Error: 0.08603375\n",
      "Confusion Matrix: Extract with `h2o.confusionMatrix(<model>,valid = TRUE)`)\n",
      "=========================================================================\n",
      "Confusion Matrix: vertical: actual; across: predicted\n",
      "        class_1 class_2 class_3 class_4 class_5 class_6 class_7  Error\n",
      "class_1   40394    2013       0       0      13       1      79 0.0496\n",
      "class_2    1252   54865      88       0      98      56      21 0.0269\n",
      "class_3      18     114    6856      34       4     117       0 0.0402\n",
      "class_4       2       5      56     480       0      19       0 0.1459\n",
      "class_5      42     292      25       0    1499      12       0 0.1984\n",
      "class_6      17      93     196      19       4    3135       0 0.0950\n",
      "class_7     169      20       0       0       1       0    3909 0.0464\n",
      "Totals    41894   57402    7221     533    1619    3340    4009 0.0421\n",
      "                     Rate\n",
      "class_1 =  2,106 / 42,500\n",
      "class_2 =  1,515 / 56,380\n",
      "class_3 =     287 / 7,143\n",
      "class_4 =        82 / 562\n",
      "class_5 =     371 / 1,870\n",
      "class_6 =     329 / 3,464\n",
      "class_7 =     190 / 4,099\n",
      "Totals  = 4,880 / 116,018\n",
      "\n",
      "Hit Ratio Table: Extract with `h2o.hit_ratio_table(<model>,valid = TRUE)`\n",
      "=======================================================================\n",
      "Top-7 Hit Ratios: \n",
      "  k hit_ratio\n",
      "1 1  0.957938\n",
      "2 2  0.997130\n",
      "3 3  0.998492\n",
      "4 4  0.998526\n",
      "5 5  0.998535\n",
      "6 6  0.998535\n",
      "7 7  1.000000\n",
      "\n",
      "\n",
      "\n",
      "\n",
      "Scoring History: \n",
      "            timestamp   duration number_of_trees training_rmse training_logloss\n",
      "1 2017-04-05 10:09:30  0.005 sec               0                               \n",
      "2 2017-04-05 10:09:32  1.548 sec               1       0.36401          3.95096\n",
      "3 2017-04-05 10:09:33  3.207 sec               2       0.34539          3.39327\n",
      "4 2017-04-05 10:09:35  4.923 sec               3       0.32529          2.85289\n",
      "5 2017-04-05 10:09:37  6.760 sec               4       0.30838          2.41212\n",
      "  training_classification_error validation_rmse validation_logloss\n",
      "1                                                                 \n",
      "2                       0.12640         0.36551            3.97857\n",
      "3                       0.11751         0.26355            1.34657\n",
      "4                       0.10701         0.23660            0.75357\n",
      "5                       0.09891         0.22490            0.51062\n",
      "  validation_classification_error\n",
      "1                                \n",
      "2                         0.13315\n",
      "3                         0.08370\n",
      "4                         0.06657\n",
      "5                         0.05871\n",
      "\n",
      "---\n",
      "             timestamp          duration number_of_trees training_rmse\n",
      "18 2017-04-05 10:10:12        41.957 sec              17       0.21713\n",
      "19 2017-04-05 10:10:16        45.555 sec              18       0.21542\n",
      "20 2017-04-05 10:10:19        49.296 sec              19       0.21375\n",
      "21 2017-04-05 10:10:23        53.221 sec              20       0.21253\n",
      "22 2017-04-05 10:10:27        57.131 sec              21       0.21116\n",
      "23 2017-04-05 10:10:31  1 min  1.181 sec              22       0.21012\n",
      "   training_logloss training_classification_error validation_rmse\n",
      "18          0.37665                       0.05379         0.20175\n",
      "19          0.34832                       0.05266         0.20127\n",
      "20          0.32388                       0.05163         0.20059\n",
      "21          0.30567                       0.05091         0.20031\n",
      "22          0.28735                       0.05011         0.19980\n",
      "23          0.27364                       0.04937         0.19973\n",
      "   validation_logloss validation_classification_error\n",
      "18            0.17190                         0.04305\n",
      "19            0.16925                         0.04287\n",
      "20            0.16632                         0.04252\n",
      "21            0.16575                         0.04254\n",
      "22            0.16480                         0.04215\n",
      "23            0.16464                         0.04206\n",
      "\n",
      "Variable Importances: (Extract with `h2o.varimp`) \n",
      "=================================================\n",
      "\n",
      "Variable Importances: \n",
      "                             variable relative_importance scaled_importance\n",
      "1                           Elevation       807548.750000          1.000000\n",
      "2                           Soil_Type       679147.000000          0.840998\n",
      "3     Horizontal_Distance_To_Roadways       364836.156250          0.451782\n",
      "4  Horizontal_Distance_To_Fire_Points       343292.093750          0.425104\n",
      "5    Horizontal_Distance_To_Hydrology       179493.984375          0.222270\n",
      "6      Vertical_Distance_To_Hydrology       158505.156250          0.196279\n",
      "7                     Wilderness_Area       141778.453125          0.175566\n",
      "8                              Aspect       123543.671875          0.152986\n",
      "9                      Hillshade_Noon       116247.945312          0.143952\n",
      "10                      Hillshade_9am       110365.015625          0.136667\n",
      "11                      Hillshade_3pm       104382.250000          0.129258\n",
      "12                              Slope        93387.875000          0.115644\n",
      "   percentage\n",
      "1    0.250595\n",
      "2    0.210750\n",
      "3    0.113214\n",
      "4    0.106529\n",
      "5    0.055700\n",
      "6    0.049187\n",
      "7    0.043996\n",
      "8    0.038337\n",
      "9    0.036074\n",
      "10   0.034248\n",
      "11   0.032391\n",
      "12   0.028980\n"
     ]
    },
    {
     "data": {
      "text/html": [
       "0.943164"
      ],
      "text/latex": [
       "0.943164"
      ],
      "text/markdown": [
       "0.943164"
      ],
      "text/plain": [
       "[1] 0.943164"
      ]
     },
     "metadata": {},
     "output_type": "display_data"
    },
    {
     "data": {
      "text/html": [
       "0.9447758"
      ],
      "text/latex": [
       "0.9447758"
      ],
      "text/markdown": [
       "0.9447758"
      ],
      "text/plain": [
       "[1] 0.9447758"
      ]
     },
     "metadata": {},
     "output_type": "display_data"
    },
    {
     "data": {
      "text/html": [
       "0.95793754"
      ],
      "text/latex": [
       "0.95793754"
      ],
      "text/markdown": [
       "0.95793754"
      ],
      "text/plain": [
       "[1] 0.9579375"
      ]
     },
     "metadata": {},
     "output_type": "display_data"
    }
   ],
   "source": [
    "\n",
    "## Now the GBM is close to the initial random forest.\n",
    "## However, we used a default random forest. \n",
    "## Random forest's primary strength is how well it runs with standard\n",
    "##  parameters. And while there are only a few parameters to tune, we can \n",
    "##  experiment with those to see if it will make a difference.\n",
    "## The main parameters to tune are the tree depth and the mtries, which\n",
    "##  is the number of predictors to use.\n",
    "## The default depth of trees is 20. It is common to increase this number,\n",
    "##  to the point that in some implementations, the depth is unlimited.\n",
    "##  We will increase ours from 20 to 30.\n",
    "## Note that the default mtries depends on whether classification or regression\n",
    "##  is being run. The default for classification is one-third of the columns.\n",
    "##  The default for regression is the square root of the number of columns.\n",
    "\n",
    "rf2 <- h2o.randomForest(        ##\n",
    "  training_frame = train,       ##\n",
    "  validation_frame = valid,     ##\n",
    "  x=1:12,                       ##\n",
    "  y=13,                         ##\n",
    "  model_id = \"rf_covType2\",     ## \n",
    "  ntrees = 200,                 ##\n",
    "  max_depth = 30,               ## Increase depth, from 20\n",
    "  stopping_rounds = 2,          ##\n",
    "  stopping_tolerance = 1e-2,    ##\n",
    "  score_each_iteration = T,     ##\n",
    "  seed=3000000)                 ##\n",
    "###############################################################################\n",
    "summary(rf2)\n",
    "h2o.hit_ratio_table(gbm3,valid = T)[1,2]    ## review the newest GBM accuracy\n",
    "h2o.hit_ratio_table(rf1,valid = T)[1,2]     ## original random forest accuracy\n",
    "h2o.hit_ratio_table(rf2,valid = T)[1,2]     ## newest random forest accuracy\n",
    "###############################################################################"
   ]
  },
  {
   "cell_type": "code",
   "execution_count": 17,
   "metadata": {
    "collapsed": false
   },
   "outputs": [
    {
     "name": "stdout",
     "output_type": "stream",
     "text": [
      "\r",
      "  |                                                                            \r",
      "  |                                                                      |   0%\r",
      "  |                                                                            \r",
      "  |==================                                                    |  25%\r",
      "  |                                                                            \r",
      "  |===================================                                   |  50%\r",
      "  |                                                                            \r",
      "  |==================================================================    |  94%\r",
      "  |                                                                            \r",
      "  |======================================================================| 100%\n"
     ]
    },
    {
     "data": {
      "text/plain": [
       "  predict   class_1   class_2 class_3 class_4   class_5 class_6 class_7\n",
       "1 class_2 0.3000000 0.7000000       0       0 0.0000000       0       0\n",
       "2 class_1 1.0000000 0.0000000       0       0 0.0000000       0       0\n",
       "3 class_1 0.7777778 0.2222222       0       0 0.0000000       0       0\n",
       "4 class_1 0.8450704 0.1549296       0       0 0.0000000       0       0\n",
       "5 class_2 0.2052980 0.7947020       0       0 0.0000000       0       0\n",
       "6 class_5 0.0000000 0.3333333       0       0 0.6666667       0       0\n",
       "\n",
       "[115979 rows x 8 columns] "
      ]
     },
     "metadata": {},
     "output_type": "display_data"
    },
    {
     "data": {
      "text/html": [
       "0.95793754"
      ],
      "text/latex": [
       "0.95793754"
      ],
      "text/markdown": [
       "0.95793754"
      ],
      "text/plain": [
       "[1] 0.9579375"
      ]
     },
     "metadata": {},
     "output_type": "display_data"
    },
    {
     "data": {
      "text/html": [
       "0.957975150673829"
      ],
      "text/latex": [
       "0.957975150673829"
      ],
      "text/markdown": [
       "0.957975150673829"
      ],
      "text/plain": [
       "[1] 0.9579752"
      ]
     },
     "metadata": {},
     "output_type": "display_data"
    }
   ],
   "source": [
    "\n",
    "## So we now have our accuracy up beyond 95%. \n",
    "## We have witheld an extra test set to ensure that after all the parameter\n",
    "##  tuning we have done, repeatedly applied to the validation data, that our\n",
    "##  model produces similar results against the third data set. \n",
    "\n",
    "## Create predictions using our latest RF model against the test set.\n",
    "finalRf_predictions<-h2o.predict(\n",
    "  object = rf2\n",
    "  ,newdata = test)\n",
    "\n",
    "## Glance at what that prediction set looks like\n",
    "## We see a final prediction in the \"predict\" column,\n",
    "##  and then the predicted probabilities per class.\n",
    "finalRf_predictions\n",
    "\n",
    "## Compare these predictions to the accuracy we got from our experimentation\n",
    "h2o.hit_ratio_table(rf2,valid = T)[1,2]             ## validation set accuracy\n",
    "mean(finalRf_predictions$predict==test$Cover_Type)  ## test set accuracy\n",
    "\n",
    "## We have very similar error rates on both sets, so it would not seem\n",
    "##  that we have overfit the validation set through our experimentation.\n"
   ]
  },
  {
   "cell_type": "markdown",
   "metadata": {},
   "source": [
    "### Shutdown H2O"
   ]
  },
  {
   "cell_type": "code",
   "execution_count": null,
   "metadata": {
    "collapsed": false
   },
   "outputs": [],
   "source": [
    "h2o.shutdown(prompt=FALSE)"
   ]
  }
 ],
 "metadata": {
  "kernelspec": {
   "display_name": "R",
   "language": "R",
   "name": "ir"
  },
  "language_info": {
   "codemirror_mode": "r",
   "file_extension": ".r",
   "mimetype": "text/x-r-source",
   "name": "R",
   "pygments_lexer": "r",
   "version": "3.3.2"
  }
 },
 "nbformat": 4,
 "nbformat_minor": 2
}
