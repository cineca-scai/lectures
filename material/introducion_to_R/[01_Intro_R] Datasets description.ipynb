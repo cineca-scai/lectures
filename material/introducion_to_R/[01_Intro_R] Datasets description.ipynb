{
 "cells": [
  {
   "cell_type": "markdown",
   "metadata": {},
   "source": [
    "### <H1 align=\"center\">Synthetic data</H1>"
   ]
  },
  {
   "cell_type": "code",
   "execution_count": null,
   "metadata": {
    "collapsed": true
   },
   "outputs": [],
   "source": [
    "source(\"genData.R\") #loading the data generation function\n",
    "nrow <- 1000 # number of obs of each cluster\n",
    "sd <- c(0.7,0.8,0.2,0.6,0.8) # standard deviation of each cluster\n",
    "real.centers <- list( x=c(-2, 2, 0.0, -2, +2), y=c(2, 1, 0, -1, -2) ) # the real centers of the clusters\n",
    "seed=1234 # set seed: in this way the generated data will be replicable\n",
    "\n",
    "# data generation\n",
    "data=genData(nrow,sd,real.centers,seed) # total: 5000 bivariate obs (1000 obs for each group)"
   ]
  },
  {
   "cell_type": "code",
   "execution_count": null,
   "metadata": {
    "collapsed": false
   },
   "outputs": [],
   "source": [
    "df=as.data.frame(data)\n",
    "head(df)"
   ]
  },
  {
   "cell_type": "markdown",
   "metadata": {},
   "source": [
    "### <H1 align=\"center\">Titanic</H1>"
   ]
  },
  {
   "cell_type": "markdown",
   "metadata": {},
   "source": [
    "<img src=\"./images/RMS_Titanic_2.jpg\" align=\"center\">\n",
    "\n",
    "Overview (from kaggle)\n",
    "https://www.kaggle.com/c/titanic/data\n",
    "\n",
    "The data has been split into two groups:\n",
    "\n",
    "training set (train.csv)\n",
    "test set (test.csv)\n",
    "The training set should be used to build your machine learning models. For the training set, we provide the outcome (also known as the “ground truth”) for each passenger. Your model will be based on “features” like passengers’ gender and class. You can also use feature engineering to create new features.\n",
    "\n",
    "The test set should be used to see how well your model performs on unseen data. For the test set, we do not provide the ground truth for each passenger. It is your job to predict these outcomes. For each passenger in the test set, use the model you trained to predict whether or not they survived the sinking of the Titanic.\n",
    "\n",
    "Data fields\n",
    "\n",
    "- survival\tSurvival\t0 = No, 1 = Yes\n",
    "- pclass\tTicket class\t1 = 1st, 2 = 2nd, 3 = 3rd\n",
    "- sex\tSex\t\n",
    "- Age\tAge in years\t\n",
    "- sibsp\t# of siblings / spouses aboard the Titanic\t\n",
    "- parch\t# of parents / children aboard the Titanic\t\n",
    "- ticket\tTicket number\t\n",
    "- fare\tPassenger fare\t\n",
    "- cabin\tCabin number\t\n",
    "- embarked\tPort of Embarkation\tC = Cherbourg, Q = Queenstown, S = Southampton"
   ]
  },
  {
   "cell_type": "code",
   "execution_count": null,
   "metadata": {
    "collapsed": true
   },
   "outputs": [],
   "source": [
    "titanic<-read.csv(\"data/TITANIC/train.csv\")"
   ]
  },
  {
   "cell_type": "code",
   "execution_count": null,
   "metadata": {
    "collapsed": false
   },
   "outputs": [],
   "source": [
    "head(titanic)"
   ]
  },
  {
   "cell_type": "markdown",
   "metadata": {},
   "source": [
    " ### <H1 align=\"center\"> Covertype</H1>"
   ]
  },
  {
   "cell_type": "markdown",
   "metadata": {},
   "source": [
    "\n",
    "<img src=\"./images/covtype.jpg\">\n",
    "\n",
    "The study area includes four wilderness areas located in the Roosevelt National Forest of northern Colorado. Each observation is a 30m x 30m patch. You are asked to predict an integer classification for the forest cover type. The seven types are:\n",
    "1 - Spruce/Fir\n",
    "2 - Lodgepole Pine\n",
    "3 - Ponderosa Pine\n",
    "4 - Cottonwood/Willow\n",
    "5 - Aspen\n",
    "6 - Douglas-fir\n",
    "7 - Krummholz\n",
    "\n",
    "\n",
    "The data set (581012 observations) contains both features and the Cover_Type.\n",
    "\n",
    "Data Fields\n",
    "\n",
    "- Elevation - Elevation in meters\n",
    "- Aspect - Aspect in degrees azimuth\n",
    "- Slope - Slope in degrees\n",
    "- Horizontal_Distance_To_Hydrology - Horz Dist to nearest surface water features\n",
    "- Vertical_Distance_To_Hydrology - Vert Dist to nearest surface water features\n",
    "- Horizontal_Distance_To_Roadways - Horz Dist to nearest roadway\n",
    "- Hillshade_9am (0 to 255 index) - Hillshade index at 9am, summer solstice\n",
    "- Hillshade_Noon (0 to 255 index) - Hillshade index at noon, summer solstice\n",
    "- Hillshade_3pm (0 to 255 index) - Hillshade index at 3pm, summer solstice\n",
    "- Horizontal_Distance_To_Fire_Points - Horz Dist to nearest wildfire ignition points\n",
    "- Wilderness_Area (4 binary columns, 0 = absence or 1 = presence) - Wilderness area designation\n",
    "- Soil_Type (40 binary columns, 0 = absence or 1 = presence) - Soil Type designation\n",
    "- Cover_Type (7 types, integers 1 to 7) - Forest Cover Type designation\n",
    "\n",
    "The wilderness areas are:\n",
    "\n",
    "- 1 - Rawah Wilderness Area\n",
    "- 2 - Neota Wilderness Area\n",
    "- 3 - Comanche Peak Wilderness Area\n",
    "- 4 - Cache la Poudre Wilderness Area\n",
    "\n",
    "The are 35 differnet soil types.\n",
    "\n",
    "https://www.kaggle.com/c/forest-cover-type-prediction/data"
   ]
  },
  {
   "cell_type": "code",
   "execution_count": null,
   "metadata": {
    "collapsed": true
   },
   "outputs": [],
   "source": [
    "covertype<-read.csv(\"data/covtype.full.csv\")"
   ]
  },
  {
   "cell_type": "code",
   "execution_count": null,
   "metadata": {
    "collapsed": false
   },
   "outputs": [],
   "source": [
    "head(covertype)"
   ]
  },
  {
   "cell_type": "markdown",
   "metadata": {
    "collapsed": true
   },
   "source": [
    " ### <H1 align=\"center\">Iris</H1>"
   ]
  },
  {
   "cell_type": "markdown",
   "metadata": {},
   "source": [
    "<img src=\"./images/iris.jpg\">"
   ]
  },
  {
   "cell_type": "markdown",
   "metadata": {},
   "source": [
    "The data set consists of 50 samples from each of three species of Iris (Iris setosa, Iris virginica and Iris versicolor). Four features were measured from each sample: the length and the width of the sepals and petals, in centimetres. Based on the combination of these four features, Fisher developed a linear discriminant model to distinguish the species from each other."
   ]
  },
  {
   "cell_type": "code",
   "execution_count": null,
   "metadata": {
    "collapsed": true
   },
   "outputs": [],
   "source": [
    "iris<-read.csv(\"data/iris_h.csv\")"
   ]
  },
  {
   "cell_type": "code",
   "execution_count": null,
   "metadata": {
    "collapsed": false
   },
   "outputs": [],
   "source": [
    "head(iris)"
   ]
  },
  {
   "cell_type": "markdown",
   "metadata": {},
   "source": [
    " ### <H1 align=\"center\">Swiss Banknote</H1>"
   ]
  },
  {
   "cell_type": "markdown",
   "metadata": {},
   "source": [
    "<img src=\"./images/money.jpg\">\n",
    "Data Set Information:\n",
    "\n",
    "Data were extracted from images that were taken from genuine and forged banknote-like specimens. For digitization, an industrial camera usually used for print inspection was used. The final images have 400x 400 pixels. Due to the object lens and distance to the investigated object gray-scale pictures with a resolution of about 660 dpi were gained. Wavelet Transform tool were used to extract features from images.\n",
    "\n",
    "\n",
    "Attribute Information:\n",
    "\n",
    "1. variance of Wavelet Transformed image (continuous) \n",
    "2. skewness of Wavelet Transformed image (continuous) \n",
    "3. curtosis of Wavelet Transformed image (continuous) \n",
    "4. entropy of image (continuous) \n",
    "5. class (integer) \n",
    "\n"
   ]
  },
  {
   "cell_type": "code",
   "execution_count": 24,
   "metadata": {
    "collapsed": true
   },
   "outputs": [],
   "source": [
    "banknote<-read.csv(\"data/data_banknote_authentication.txt\",header=FALSE)"
   ]
  },
  {
   "cell_type": "code",
   "execution_count": 25,
   "metadata": {
    "collapsed": false
   },
   "outputs": [
    {
     "data": {
      "text/html": [
       "<table>\n",
       "<thead><tr><th scope=col>V1</th><th scope=col>V2</th><th scope=col>V3</th><th scope=col>V4</th><th scope=col>V5</th></tr></thead>\n",
       "<tbody>\n",
       "\t<tr><td>3.62160 </td><td> 8.6661 </td><td>-2.8073 </td><td>-0.44699</td><td>0       </td></tr>\n",
       "\t<tr><td>4.54590 </td><td> 8.1674 </td><td>-2.4586 </td><td>-1.46210</td><td>0       </td></tr>\n",
       "\t<tr><td>3.86600 </td><td>-2.6383 </td><td> 1.9242 </td><td> 0.10645</td><td>0       </td></tr>\n",
       "\t<tr><td>3.45660 </td><td> 9.5228 </td><td>-4.0112 </td><td>-3.59440</td><td>0       </td></tr>\n",
       "\t<tr><td>0.32924 </td><td>-4.4552 </td><td> 4.5718 </td><td>-0.98880</td><td>0       </td></tr>\n",
       "\t<tr><td>4.36840 </td><td> 9.6718 </td><td>-3.9606 </td><td>-3.16250</td><td>0       </td></tr>\n",
       "</tbody>\n",
       "</table>\n"
      ],
      "text/latex": [
       "\\begin{tabular}{r|lllll}\n",
       " V1 & V2 & V3 & V4 & V5\\\\\n",
       "\\hline\n",
       "\t 3.62160  &  8.6661  & -2.8073  & -0.44699 & 0       \\\\\n",
       "\t 4.54590  &  8.1674  & -2.4586  & -1.46210 & 0       \\\\\n",
       "\t 3.86600  & -2.6383  &  1.9242  &  0.10645 & 0       \\\\\n",
       "\t 3.45660  &  9.5228  & -4.0112  & -3.59440 & 0       \\\\\n",
       "\t 0.32924  & -4.4552  &  4.5718  & -0.98880 & 0       \\\\\n",
       "\t 4.36840  &  9.6718  & -3.9606  & -3.16250 & 0       \\\\\n",
       "\\end{tabular}\n"
      ],
      "text/markdown": [
       "\n",
       "V1 | V2 | V3 | V4 | V5 | \n",
       "|---|---|---|---|---|---|\n",
       "| 3.62160  |  8.6661  | -2.8073  | -0.44699 | 0        | \n",
       "| 4.54590  |  8.1674  | -2.4586  | -1.46210 | 0        | \n",
       "| 3.86600  | -2.6383  |  1.9242  |  0.10645 | 0        | \n",
       "| 3.45660  |  9.5228  | -4.0112  | -3.59440 | 0        | \n",
       "| 0.32924  | -4.4552  |  4.5718  | -0.98880 | 0        | \n",
       "| 4.36840  |  9.6718  | -3.9606  | -3.16250 | 0        | \n",
       "\n",
       "\n"
      ],
      "text/plain": [
       "  V1      V2      V3      V4       V5\n",
       "1 3.62160  8.6661 -2.8073 -0.44699 0 \n",
       "2 4.54590  8.1674 -2.4586 -1.46210 0 \n",
       "3 3.86600 -2.6383  1.9242  0.10645 0 \n",
       "4 3.45660  9.5228 -4.0112 -3.59440 0 \n",
       "5 0.32924 -4.4552  4.5718 -0.98880 0 \n",
       "6 4.36840  9.6718 -3.9606 -3.16250 0 "
      ]
     },
     "metadata": {},
     "output_type": "display_data"
    }
   ],
   "source": [
    "head(banknote)"
   ]
  },
  {
   "cell_type": "markdown",
   "metadata": {
    "collapsed": true
   },
   "source": [
    " ### <H1 align=\"center\">Higgs Boson</H1>"
   ]
  },
  {
   "cell_type": "markdown",
   "metadata": {},
   "source": [
    "<img src=\"./images/higgs.png\">"
   ]
  },
  {
   "cell_type": "markdown",
   "metadata": {},
   "source": [
    "All variables are floating point, except PRI_jet_num which is integer\n",
    "- variables prefixed with PRI (for PRImitives) are “raw” quantities about the bunch collision as measured by the detector.\n",
    "- variables prefixed with DER (for DERived) are quantities computed from the primitive features, which were selected by  the physicists of ATLAS\n",
    "- response is the label: \n",
    "\n",
    "It can happen that for some entries some variables are meaningless or cannot be computed; in this case, their value is −999.0, which is outside the normal range of all variables.\n",
    "https://www.kaggle.com/c/higgs-boson"
   ]
  },
  {
   "cell_type": "code",
   "execution_count": 1,
   "metadata": {
    "collapsed": true
   },
   "outputs": [],
   "source": [
    "higgs <- read.csv(\"data/higgs_train_10k.csv\")"
   ]
  },
  {
   "cell_type": "code",
   "execution_count": 2,
   "metadata": {
    "collapsed": false
   },
   "outputs": [
    {
     "data": {
      "text/html": [
       "<table>\n",
       "<thead><tr><th scope=col>EventId</th><th scope=col>DER_mass_MMC</th><th scope=col>DER_mass_transverse_met_lep</th><th scope=col>DER_mass_vis</th><th scope=col>DER_pt_h</th><th scope=col>DER_deltaeta_jet_jet</th><th scope=col>DER_mass_jet_jet</th><th scope=col>DER_prodeta_jet_jet</th><th scope=col>DER_deltar_tau_lep</th><th scope=col>DER_pt_tot</th><th scope=col>⋯</th><th scope=col>PRI_jet_num</th><th scope=col>PRI_jet_leading_pt</th><th scope=col>PRI_jet_leading_eta</th><th scope=col>PRI_jet_leading_phi</th><th scope=col>PRI_jet_subleading_pt</th><th scope=col>PRI_jet_subleading_eta</th><th scope=col>PRI_jet_subleading_phi</th><th scope=col>PRI_jet_all_pt</th><th scope=col>Weight</th><th scope=col>Label</th></tr></thead>\n",
       "<tbody>\n",
       "\t<tr><td>100000     </td><td> 138.470   </td><td> 51.655    </td><td> 97.827    </td><td> 27.980    </td><td>   0.910   </td><td> 124.711   </td><td>   2.666   </td><td>3.064      </td><td>41.928     </td><td>⋯          </td><td>2          </td><td>  67.435   </td><td>   2.150   </td><td>   0.444   </td><td>  46.062   </td><td>   1.240   </td><td>  -2.475   </td><td>113.497    </td><td>0.002653311</td><td>s          </td></tr>\n",
       "\t<tr><td>100001     </td><td> 160.937   </td><td> 68.768    </td><td>103.235    </td><td> 48.146    </td><td>-999.000   </td><td>-999.000   </td><td>-999.000   </td><td>3.473      </td><td> 2.078     </td><td>⋯          </td><td>1          </td><td>  46.226   </td><td>   0.725   </td><td>   1.158   </td><td>-999.000   </td><td>-999.000   </td><td>-999.000   </td><td> 46.226    </td><td>2.233584487</td><td>b          </td></tr>\n",
       "\t<tr><td>100002     </td><td>-999.000   </td><td>162.172    </td><td>125.953    </td><td> 35.635    </td><td>-999.000   </td><td>-999.000   </td><td>-999.000   </td><td>3.148      </td><td> 9.336     </td><td>⋯          </td><td>1          </td><td>  44.251   </td><td>   2.053   </td><td>  -2.028   </td><td>-999.000   </td><td>-999.000   </td><td>-999.000   </td><td> 44.251    </td><td>2.347388944</td><td>b          </td></tr>\n",
       "\t<tr><td>100003     </td><td> 143.905   </td><td> 81.417    </td><td> 80.943    </td><td>  0.414    </td><td>-999.000   </td><td>-999.000   </td><td>-999.000   </td><td>3.310      </td><td> 0.414     </td><td>⋯          </td><td>0          </td><td>-999.000   </td><td>-999.000   </td><td>-999.000   </td><td>-999.000   </td><td>-999.000   </td><td>-999.000   </td><td>  0.000    </td><td>5.446378212</td><td>b          </td></tr>\n",
       "\t<tr><td>100004     </td><td> 175.864   </td><td> 16.915    </td><td>134.805    </td><td> 16.405    </td><td>-999.000   </td><td>-999.000   </td><td>-999.000   </td><td>3.891      </td><td>16.405     </td><td>⋯          </td><td>0          </td><td>-999.000   </td><td>-999.000   </td><td>-999.000   </td><td>-999.000   </td><td>-999.000   </td><td>-999.000   </td><td>  0.000    </td><td>6.245332687</td><td>b          </td></tr>\n",
       "\t<tr><td>100005     </td><td>  89.744   </td><td> 13.550    </td><td> 59.149    </td><td>116.344    </td><td>   2.636   </td><td> 284.584   </td><td>  -0.540   </td><td>1.362      </td><td>61.619     </td><td>⋯          </td><td>3          </td><td>  90.547   </td><td>  -2.412   </td><td>  -0.653   </td><td>  56.165   </td><td>   0.224   </td><td>   3.106   </td><td>193.660    </td><td>0.083414031</td><td>b          </td></tr>\n",
       "</tbody>\n",
       "</table>\n"
      ],
      "text/latex": [
       "\\begin{tabular}{r|lllllllllllllllllllllllllllllllll}\n",
       " EventId & DER\\_mass\\_MMC & DER\\_mass\\_transverse\\_met\\_lep & DER\\_mass\\_vis & DER\\_pt\\_h & DER\\_deltaeta\\_jet\\_jet & DER\\_mass\\_jet\\_jet & DER\\_prodeta\\_jet\\_jet & DER\\_deltar\\_tau\\_lep & DER\\_pt\\_tot & ⋯ & PRI\\_jet\\_num & PRI\\_jet\\_leading\\_pt & PRI\\_jet\\_leading\\_eta & PRI\\_jet\\_leading\\_phi & PRI\\_jet\\_subleading\\_pt & PRI\\_jet\\_subleading\\_eta & PRI\\_jet\\_subleading\\_phi & PRI\\_jet\\_all\\_pt & Weight & Label\\\\\n",
       "\\hline\n",
       "\t 100000      &  138.470    &  51.655     &  97.827     &  27.980     &    0.910    &  124.711    &    2.666    & 3.064       & 41.928      & ⋯           & 2           &   67.435    &    2.150    &    0.444    &   46.062    &    1.240    &   -2.475    & 113.497     & 0.002653311 & s          \\\\\n",
       "\t 100001      &  160.937    &  68.768     & 103.235     &  48.146     & -999.000    & -999.000    & -999.000    & 3.473       &  2.078      & ⋯           & 1           &   46.226    &    0.725    &    1.158    & -999.000    & -999.000    & -999.000    &  46.226     & 2.233584487 & b          \\\\\n",
       "\t 100002      & -999.000    & 162.172     & 125.953     &  35.635     & -999.000    & -999.000    & -999.000    & 3.148       &  9.336      & ⋯           & 1           &   44.251    &    2.053    &   -2.028    & -999.000    & -999.000    & -999.000    &  44.251     & 2.347388944 & b          \\\\\n",
       "\t 100003      &  143.905    &  81.417     &  80.943     &   0.414     & -999.000    & -999.000    & -999.000    & 3.310       &  0.414      & ⋯           & 0           & -999.000    & -999.000    & -999.000    & -999.000    & -999.000    & -999.000    &   0.000     & 5.446378212 & b          \\\\\n",
       "\t 100004      &  175.864    &  16.915     & 134.805     &  16.405     & -999.000    & -999.000    & -999.000    & 3.891       & 16.405      & ⋯           & 0           & -999.000    & -999.000    & -999.000    & -999.000    & -999.000    & -999.000    &   0.000     & 6.245332687 & b          \\\\\n",
       "\t 100005      &   89.744    &  13.550     &  59.149     & 116.344     &    2.636    &  284.584    &   -0.540    & 1.362       & 61.619      & ⋯           & 3           &   90.547    &   -2.412    &   -0.653    &   56.165    &    0.224    &    3.106    & 193.660     & 0.083414031 & b          \\\\\n",
       "\\end{tabular}\n"
      ],
      "text/markdown": [
       "\n",
       "EventId | DER_mass_MMC | DER_mass_transverse_met_lep | DER_mass_vis | DER_pt_h | DER_deltaeta_jet_jet | DER_mass_jet_jet | DER_prodeta_jet_jet | DER_deltar_tau_lep | DER_pt_tot | ⋯ | PRI_jet_num | PRI_jet_leading_pt | PRI_jet_leading_eta | PRI_jet_leading_phi | PRI_jet_subleading_pt | PRI_jet_subleading_eta | PRI_jet_subleading_phi | PRI_jet_all_pt | Weight | Label | \n",
       "|---|---|---|---|---|---|\n",
       "| 100000      |  138.470    |  51.655     |  97.827     |  27.980     |    0.910    |  124.711    |    2.666    | 3.064       | 41.928      | ⋯           | 2           |   67.435    |    2.150    |    0.444    |   46.062    |    1.240    |   -2.475    | 113.497     | 0.002653311 | s           | \n",
       "| 100001      |  160.937    |  68.768     | 103.235     |  48.146     | -999.000    | -999.000    | -999.000    | 3.473       |  2.078      | ⋯           | 1           |   46.226    |    0.725    |    1.158    | -999.000    | -999.000    | -999.000    |  46.226     | 2.233584487 | b           | \n",
       "| 100002      | -999.000    | 162.172     | 125.953     |  35.635     | -999.000    | -999.000    | -999.000    | 3.148       |  9.336      | ⋯           | 1           |   44.251    |    2.053    |   -2.028    | -999.000    | -999.000    | -999.000    |  44.251     | 2.347388944 | b           | \n",
       "| 100003      |  143.905    |  81.417     |  80.943     |   0.414     | -999.000    | -999.000    | -999.000    | 3.310       |  0.414      | ⋯           | 0           | -999.000    | -999.000    | -999.000    | -999.000    | -999.000    | -999.000    |   0.000     | 5.446378212 | b           | \n",
       "| 100004      |  175.864    |  16.915     | 134.805     |  16.405     | -999.000    | -999.000    | -999.000    | 3.891       | 16.405      | ⋯           | 0           | -999.000    | -999.000    | -999.000    | -999.000    | -999.000    | -999.000    |   0.000     | 6.245332687 | b           | \n",
       "| 100005      |   89.744    |  13.550     |  59.149     | 116.344     |    2.636    |  284.584    |   -0.540    | 1.362       | 61.619      | ⋯           | 3           |   90.547    |   -2.412    |   -0.653    |   56.165    |    0.224    |    3.106    | 193.660     | 0.083414031 | b           | \n",
       "\n",
       "\n"
      ],
      "text/plain": [
       "  EventId DER_mass_MMC DER_mass_transverse_met_lep DER_mass_vis DER_pt_h\n",
       "1 100000   138.470      51.655                      97.827       27.980 \n",
       "2 100001   160.937      68.768                     103.235       48.146 \n",
       "3 100002  -999.000     162.172                     125.953       35.635 \n",
       "4 100003   143.905      81.417                      80.943        0.414 \n",
       "5 100004   175.864      16.915                     134.805       16.405 \n",
       "6 100005    89.744      13.550                      59.149      116.344 \n",
       "  DER_deltaeta_jet_jet DER_mass_jet_jet DER_prodeta_jet_jet DER_deltar_tau_lep\n",
       "1    0.910              124.711            2.666            3.064             \n",
       "2 -999.000             -999.000         -999.000            3.473             \n",
       "3 -999.000             -999.000         -999.000            3.148             \n",
       "4 -999.000             -999.000         -999.000            3.310             \n",
       "5 -999.000             -999.000         -999.000            3.891             \n",
       "6    2.636              284.584           -0.540            1.362             \n",
       "  DER_pt_tot ⋯ PRI_jet_num PRI_jet_leading_pt PRI_jet_leading_eta\n",
       "1 41.928     ⋯ 2             67.435              2.150           \n",
       "2  2.078     ⋯ 1             46.226              0.725           \n",
       "3  9.336     ⋯ 1             44.251              2.053           \n",
       "4  0.414     ⋯ 0           -999.000           -999.000           \n",
       "5 16.405     ⋯ 0           -999.000           -999.000           \n",
       "6 61.619     ⋯ 3             90.547             -2.412           \n",
       "  PRI_jet_leading_phi PRI_jet_subleading_pt PRI_jet_subleading_eta\n",
       "1    0.444              46.062                 1.240              \n",
       "2    1.158            -999.000              -999.000              \n",
       "3   -2.028            -999.000              -999.000              \n",
       "4 -999.000            -999.000              -999.000              \n",
       "5 -999.000            -999.000              -999.000              \n",
       "6   -0.653              56.165                 0.224              \n",
       "  PRI_jet_subleading_phi PRI_jet_all_pt Weight      Label\n",
       "1   -2.475               113.497        0.002653311 s    \n",
       "2 -999.000                46.226        2.233584487 b    \n",
       "3 -999.000                44.251        2.347388944 b    \n",
       "4 -999.000                 0.000        5.446378212 b    \n",
       "5 -999.000                 0.000        6.245332687 b    \n",
       "6    3.106               193.660        0.083414031 b    "
      ]
     },
     "metadata": {},
     "output_type": "display_data"
    }
   ],
   "source": [
    "head(higgs)"
   ]
  },
  {
   "cell_type": "code",
   "execution_count": null,
   "metadata": {
    "collapsed": true
   },
   "outputs": [],
   "source": []
  }
 ],
 "metadata": {
  "kernelspec": {
   "display_name": "R",
   "language": "R",
   "name": "ir"
  },
  "language_info": {
   "codemirror_mode": "r",
   "file_extension": ".r",
   "mimetype": "text/x-r-source",
   "name": "R",
   "pygments_lexer": "r",
   "version": "3.3.2"
  }
 },
 "nbformat": 4,
 "nbformat_minor": 2
}
