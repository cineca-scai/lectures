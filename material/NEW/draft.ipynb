{
 "cells": [
  {
   "cell_type": "markdown",
   "metadata": {
    "slideshow": {
     "slide_type": "slide"
    }
   },
   "source": [
    "# Python: everything is an object"
   ]
  },
  {
   "cell_type": "code",
   "execution_count": 7,
   "metadata": {
    "collapsed": false
   },
   "outputs": [
    {
     "name": "stdout",
     "output_type": "stream",
     "text": [
      "Python 3.5.2 :: Continuum Analytics, Inc.\r\n"
     ]
    }
   ],
   "source": [
    "! python --version"
   ]
  },
  {
   "cell_type": "markdown",
   "metadata": {
    "slideshow": {
     "slide_type": "subslide"
    }
   },
   "source": [
    "## introspection\n",
    "\n",
    "- exploring python namespace\n",
    "- learn from checking by hands what is there\n",
    "\n"
   ]
  },
  {
   "cell_type": "markdown",
   "metadata": {
    "deletable": true,
    "editable": true,
    "slideshow": {
     "slide_type": "subslide"
    }
   },
   "source": [
    "## decorators\n",
    "\n",
    "- functions can be passed like variables\n",
    "- a function that uses a function as a parameter\n",
    "- sugar syntax on top"
   ]
  },
  {
   "cell_type": "markdown",
   "metadata": {
    "deletable": true,
    "editable": true,
    "slideshow": {
     "slide_type": "subslide"
    }
   },
   "source": [
    "## meta\n",
    "\n",
    "how to call a function from a list of functions"
   ]
  },
  {
   "cell_type": "markdown",
   "metadata": {
    "deletable": true,
    "editable": true,
    "slideshow": {
     "slide_type": "subslide"
    }
   },
   "source": [
    "## version control\n",
    "\n",
    "be sure to know what you're doing"
   ]
  },
  {
   "cell_type": "code",
   "execution_count": 3,
   "metadata": {
    "collapsed": false,
    "deletable": true,
    "editable": true,
    "slideshow": {
     "slide_type": "fragment"
    }
   },
   "outputs": [
    {
     "name": "stdout",
     "output_type": "stream",
     "text": [
      "Fetching package metadata .............\n",
      "Solving package specifications: ..........\n",
      "\n",
      "# All requested packages already installed.\n",
      "# packages in environment at /opt/conda:\n",
      "#\n",
      "version_information       1.0.3                    py35_0    pydy\n"
     ]
    }
   ],
   "source": [
    "! conda install -y -c pydy version_information\n",
    "\n",
    "# you have to reload your kernel after this"
   ]
  },
  {
   "cell_type": "code",
   "execution_count": 2,
   "metadata": {
    "collapsed": false,
    "deletable": true,
    "editable": true,
    "slideshow": {
     "slide_type": "fragment"
    }
   },
   "outputs": [
    {
     "name": "stdout",
     "output_type": "stream",
     "text": [
      "The version_information extension is already loaded. To reload it, use:\n",
      "  %reload_ext version_information\n"
     ]
    },
    {
     "data": {
      "application/json": {
       "Software versions": [
        {
         "module": "Python",
         "version": "3.5.2 64bit [GCC 4.4.7 20120313 (Red Hat 4.4.7-1)]"
        },
        {
         "module": "IPython",
         "version": "5.3.0"
        },
        {
         "module": "OS",
         "version": "Linux 4.9.13 moby x86_64 with debian 8.7"
        }
       ]
      },
      "text/html": [
       "<table><tr><th>Software</th><th>Version</th></tr><tr><td>Python</td><td>3.5.2 64bit [GCC 4.4.7 20120313 (Red Hat 4.4.7-1)]</td></tr><tr><td>IPython</td><td>5.3.0</td></tr><tr><td>OS</td><td>Linux 4.9.13 moby x86_64 with debian 8.7</td></tr><tr><td colspan='2'>Mon Apr 03 14:09:19 2017 UTC</td></tr></table>"
      ],
      "text/latex": [
       "\\begin{tabular}{|l|l|}\\hline\n",
       "{\\bf Software} & {\\bf Version} \\\\ \\hline\\hline\n",
       "Python & 3.5.2 64bit [GCC 4.4.7 20120313 (Red Hat 4.4.7-1)] \\\\ \\hline\n",
       "IPython & 5.3.0 \\\\ \\hline\n",
       "OS & Linux 4.9.13 moby x86\\_64 with debian 8.7 \\\\ \\hline\n",
       "\\hline \\multicolumn{2}{|l|}{Mon Apr 03 14:09:19 2017 UTC} \\\\ \\hline\n",
       "\\end{tabular}\n"
      ],
      "text/plain": [
       "Software versions\n",
       "Python 3.5.2 64bit [GCC 4.4.7 20120313 (Red Hat 4.4.7-1)]\n",
       "IPython 5.3.0\n",
       "OS Linux 4.9.13 moby x86_64 with debian 8.7\n",
       "Mon Apr 03 14:09:19 2017 UTC"
      ]
     },
     "execution_count": 2,
     "metadata": {},
     "output_type": "execute_result"
    }
   ],
   "source": [
    "%reload_ext version_information\n",
    "%version_information"
   ]
  },
  {
   "cell_type": "markdown",
   "metadata": {
    "deletable": true,
    "editable": true,
    "slideshow": {
     "slide_type": "slide"
    }
   },
   "source": [
    "# The case of Python 2"
   ]
  },
  {
   "cell_type": "markdown",
   "metadata": {
    "deletable": true,
    "editable": true,
    "slideshow": {
     "slide_type": "subslide"
    }
   },
   "source": [
    "TL-DR; \n",
    "\n",
    "> don't use it anymore"
   ]
  },
  {
   "cell_type": "markdown",
   "metadata": {
    "deletable": true,
    "editable": true,
    "slideshow": {
     "slide_type": "slide"
    }
   },
   "source": [
    "# Python 3.6"
   ]
  },
  {
   "cell_type": "markdown",
   "metadata": {
    "slideshow": {
     "slide_type": "subslide"
    }
   },
   "source": [
    "## 3.6 features\n",
    "\n",
    "<small>\n",
    "src: https://docs.python.org/3/whatsnew/3.6.html\n",
    "\n",
    "and: https://goparallel.sourceforge.net/heres-whats-new-python-3-6/\n",
    "</small>\n",
    "\n",
    "* PEP 526, syntax for variable annotations.\n",
    "* PEP 498, formatted string literals.\n",
    "* secret module\n",
    "* async stuff\n",
    "    * PEP 525, asynchronous generators.\n",
    "    * PEP 530: asynchronous comprehensions.\n"
   ]
  },
  {
   "cell_type": "markdown",
   "metadata": {
    "deletable": true,
    "editable": true,
    "slideshow": {
     "slide_type": "subslide"
    }
   },
   "source": [
    "## Formatted String Literals"
   ]
  },
  {
   "cell_type": "code",
   "execution_count": null,
   "metadata": {
    "collapsed": true
   },
   "outputs": [],
   "source": [
    "name=\"David\"\n",
    "f\"My name is {name}\"\n",
    "value = decimal.Decimal(\"10.4507\")\n",
    "print(f\"result: {value:10.5}\" )"
   ]
  },
  {
   "cell_type": "markdown",
   "metadata": {
    "deletable": true,
    "editable": true,
    "slideshow": {
     "slide_type": "subslide"
    }
   },
   "source": [
    "## Underscores in Numbers"
   ]
  },
  {
   "cell_type": "code",
   "execution_count": null,
   "metadata": {
    "collapsed": true
   },
   "outputs": [],
   "source": [
    "100_000_000 # Integer\n",
    "0xF_000_9876 # Hex\n",
    "0_30  # Octal"
   ]
  },
  {
   "cell_type": "markdown",
   "metadata": {
    "deletable": true,
    "editable": true,
    "slideshow": {
     "slide_type": "subslide"
    }
   },
   "source": [
    "## Secrets"
   ]
  },
  {
   "cell_type": "code",
   "execution_count": null,
   "metadata": {
    "collapsed": true
   },
   "outputs": [],
   "source": [
    "import secrets\n",
    "import string\n",
    "alphabet = string.ascii_letters + string.digits\n",
    "password = ''.join(secrets.choice(alphabet) for i in range(20))"
   ]
  },
  {
   "cell_type": "markdown",
   "metadata": {
    "deletable": true,
    "editable": true,
    "slideshow": {
     "slide_type": "subslide"
    }
   },
   "source": [
    "## annotations (!)\n",
    "\n",
    "<small>\n",
    "src: https://www.caktusgroup.com/blog/2017/02/22/python-type-annotations/\n",
    "</small>\n",
    "\n",
    "* syntax\n",
    "* mypy\n"
   ]
  },
  {
   "cell_type": "markdown",
   "metadata": {
    "slideshow": {
     "slide_type": "subslide"
    }
   },
   "source": [
    "## named tuple\n",
    "\n",
    "<small>\n",
    "src: http://journalpanic.com/post/postmodern-error-handling/\n",
    "\n",
    "and https://docs.python.org/3/library/typing.html#typing.NamedTuple\n",
    "</small>\n",
    "\n",
    "it’s cool to note that as of Python 3.6 we now have typed NamedTuples that we can declare using a new syntax. \n",
    "\n",
    "We had typed namedtuples in Python 3.5 but I think the new syntax for declaring them is much nicer.\n"
   ]
  },
  {
   "cell_type": "code",
   "execution_count": null,
   "metadata": {
    "collapsed": true,
    "slideshow": {
     "slide_type": "fragment"
    }
   },
   "outputs": [],
   "source": [
    "# old way\n",
    "Employee = NamedTuple('Employee', [('name', str), ('id', int)])\n",
    "\n",
    "# new sauce\n",
    "class Employee(NamedTuple):\n",
    "    name : str\n",
    "    id   : int"
   ]
  },
  {
   "cell_type": "code",
   "execution_count": null,
   "metadata": {
    "collapsed": true
   },
   "outputs": [],
   "source": [
    "employee = Employee('Guido')\n",
    "assert employee.id == 3"
   ]
  },
  {
   "cell_type": "markdown",
   "metadata": {
    "slideshow": {
     "slide_type": "subslide"
    }
   },
   "source": [
    "Note, an Optional describes something that can be of a certain type, or `None`."
   ]
  },
  {
   "cell_type": "code",
   "execution_count": null,
   "metadata": {
    "collapsed": true
   },
   "outputs": [],
   "source": [
    "# declare a variable, that can be either an int or None\n",
    "possible_integer: Optional[int]"
   ]
  },
  {
   "cell_type": "markdown",
   "metadata": {
    "deletable": true,
    "editable": true,
    "slideshow": {
     "slide_type": "slide"
    }
   },
   "source": [
    "# OOP"
   ]
  },
  {
   "cell_type": "markdown",
   "metadata": {
    "deletable": true,
    "editable": true,
    "slideshow": {
     "slide_type": "subslide"
    }
   },
   "source": [
    "## quick recap"
   ]
  },
  {
   "cell_type": "markdown",
   "metadata": {},
   "source": [
    "<small>\n",
    "src: https://realpython.com/blog/python/instance-class-and-static-methods-demystified/\n",
    "</small>\n",
    "\n"
   ]
  },
  {
   "cell_type": "markdown",
   "metadata": {
    "slideshow": {
     "slide_type": "fragment"
    }
   },
   "source": [
    "A **class**:\n",
    "\n",
    "*a descriptor of your `specie`*"
   ]
  },
  {
   "cell_type": "markdown",
   "metadata": {
    "deletable": true,
    "editable": true,
    "slideshow": {
     "slide_type": "fragment"
    }
   },
   "source": [
    "An **instance**:\n",
    "\n",
    "*a uniquely existent and breathing `individual`*"
   ]
  },
  {
   "cell_type": "markdown",
   "metadata": {
    "deletable": true,
    "editable": true,
    "slideshow": {
     "slide_type": "subslide"
    }
   },
   "source": [
    "## descriptors\n",
    "\n",
    "attributes, **encapsulation** and underscore variables (recap)"
   ]
  },
  {
   "cell_type": "markdown",
   "metadata": {},
   "source": [
    "<small>\n",
    "src: http://nbviewer.jupyter.org/github/akittas/presentations/blob/master/pythess/descriptors/descriptors.ipynb\n",
    "\n",
    "</small>\n"
   ]
  },
  {
   "cell_type": "markdown",
   "metadata": {
    "deletable": true,
    "editable": true,
    "slideshow": {
     "slide_type": "subslide"
    }
   },
   "source": [
    "## hierachy"
   ]
  },
  {
   "cell_type": "markdown",
   "metadata": {
    "slideshow": {
     "slide_type": "fragment"
    }
   },
   "source": [
    "Parents & childs"
   ]
  },
  {
   "cell_type": "markdown",
   "metadata": {
    "deletable": true,
    "editable": true,
    "slideshow": {
     "slide_type": "subslide"
    }
   },
   "source": [
    "## abc\n",
    "\n",
    "<small>\n",
    "src: https://snarky.ca/customizing-class-creation-in-python/\n",
    "</small>\n",
    "\n",
    "Abstracting your interface"
   ]
  },
  {
   "cell_type": "code",
   "execution_count": null,
   "metadata": {
    "collapsed": true,
    "deletable": true,
    "editable": true,
    "slideshow": {
     "slide_type": "fragment"
    }
   },
   "outputs": [],
   "source": [
    "import abc\n",
    "\n",
    "class AbstractClasss(abc.ABCMeta):  \n",
    "\n",
    "    @abc.metacls\n",
    "    def you_need_me(self, args):\n",
    "        return"
   ]
  },
  {
   "cell_type": "markdown",
   "metadata": {
    "deletable": true,
    "editable": true
   },
   "source": [
    "Using this metaclass gives you access to abstractmethod without having to get it from abc."
   ]
  },
  {
   "cell_type": "code",
   "execution_count": null,
   "metadata": {
    "collapsed": true
   },
   "outputs": [],
   "source": [
    "import abc\n",
    "\n",
    "class DaABC(abc.ABCMeta):  \n",
    "    @classmethod\n",
    "    def __prepare__(metacls, name, bases, **kwargs):\n",
    "        return {\"abstractmethod\": abc.abstractmethod}"
   ]
  },
  {
   "cell_type": "markdown",
   "metadata": {
    "deletable": true,
    "editable": true,
    "slideshow": {
     "slide_type": "slide"
    }
   },
   "source": [
    "# Advanced error handling\n",
    "\n",
    "<small>\n",
    "src: http://journalpanic.com/post/postmodern-error-handling/\n",
    "</small>"
   ]
  },
  {
   "cell_type": "markdown",
   "metadata": {
    "deletable": true,
    "editable": true,
    "slideshow": {
     "slide_type": "subslide"
    }
   },
   "source": [
    "## enum\n",
    "\n",
    "Define a class that explains connections or status"
   ]
  },
  {
   "cell_type": "code",
   "execution_count": null,
   "metadata": {
    "collapsed": true,
    "deletable": true,
    "editable": true,
    "slideshow": {
     "slide_type": "fragment"
    }
   },
   "outputs": [],
   "source": [
    "from enum import Enum\n",
    "\n",
    "class Relationship(Enum):\n",
    "    knows: str = 'knows'\n",
    "    likes: str = 'likes'\n",
    "    loves: str = 'loves'\n",
    "    detests: str = 'detests'\n",
    "    bff: str = \"is best friends with\"\n",
    "        "
   ]
  },
  {
   "cell_type": "markdown",
   "metadata": {
    "deletable": true,
    "editable": true,
    "slideshow": {
     "slide_type": "subslide"
    }
   },
   "source": [
    "## writing your API\n",
    "\n",
    "Define a class that explains connections or status"
   ]
  },
  {
   "cell_type": "code",
   "execution_count": null,
   "metadata": {
    "collapsed": true,
    "deletable": true,
    "editable": true
   },
   "outputs": [],
   "source": [
    "class ApiInteraction(enum.Enum):\n",
    "    \"\"\"The 3 possible states we can expect when interacting with the API.\"\"\"\n",
    "    SUCCESS = 1\n",
    "    ERROR = 2\n",
    "    FAILURE = 3"
   ]
  },
  {
   "cell_type": "code",
   "execution_count": null,
   "metadata": {
    "collapsed": true,
    "deletable": true,
    "editable": true
   },
   "outputs": [],
   "source": [
    "class ApiResponse(NamedTuple):\n",
    "    \"\"\"\n",
    "    This is sort of a really dumbed-down version of an HTTP response,\n",
    "    if you think of it in terms of status codes and response bodies.\n",
    "    \"\"\"\n",
    "    status: ApiInteraction\n",
    "    payload: Optional[dict]"
   ]
  },
  {
   "cell_type": "code",
   "execution_count": null,
   "metadata": {
    "collapsed": true
   },
   "outputs": [],
   "source": []
  },
  {
   "cell_type": "markdown",
   "metadata": {
    "deletable": true,
    "editable": true,
    "slideshow": {
     "slide_type": "slide"
    }
   },
   "source": [
    "# Meta programming"
   ]
  },
  {
   "cell_type": "markdown",
   "metadata": {
    "deletable": true,
    "editable": true
   },
   "source": [
    "<small>\n",
    "src: https://www.getdrip.com/deliveries/cvxdqhqopuxpws94ayrx?__s=ug11p5y75reem5tszuoo\n",
    "</small>\n"
   ]
  },
  {
   "cell_type": "markdown",
   "metadata": {
    "deletable": true,
    "editable": true,
    "slideshow": {
     "slide_type": "slide"
    }
   },
   "source": [
    "# Disassembling"
   ]
  },
  {
   "cell_type": "markdown",
   "metadata": {},
   "source": [
    "<small>\n",
    "src: https://www.getdrip.com/deliveries/cvxdqhqopuxpws94ayrx?__s=ug11p5y75reem5tszuoo\n",
    "</small>\n"
   ]
  },
  {
   "cell_type": "markdown",
   "metadata": {
    "deletable": true,
    "editable": true,
    "slideshow": {
     "slide_type": "slide"
    }
   },
   "source": [
    "# Resources"
   ]
  },
  {
   "cell_type": "markdown",
   "metadata": {
    "deletable": true,
    "editable": true,
    "slideshow": {
     "slide_type": "subslide"
    }
   },
   "source": [
    "- python 3.6 tutorial: https://github.com/mattharrison/Tiny-Python-3.6-Notebook/blob/master/python.rst\n",
    "- debugger: https://github.com/spiside/pdb-tutorial\n",
    "- jupyter on aws: https://blog.keras.io/running-jupyter-notebooks-on-gpu-on-aws-a-starter-guide.html\n",
    "- data.world library: https://www.dataquest.io/blog/datadotworld-python-tutorial/\n",
    "- data analytics: https://github.com/donnemartin/data-science-ipython-notebooks/tree/master/spark\n"
   ]
  },
  {
   "cell_type": "markdown",
   "metadata": {
    "deletable": true,
    "editable": true,
    "slideshow": {
     "slide_type": "slide"
    }
   },
   "source": [
    "# THE END"
   ]
  }
 ],
 "metadata": {
  "celltoolbar": "Slideshow",
  "kernelspec": {
   "display_name": "Python 3",
   "language": "python",
   "name": "python3"
  },
  "language_info": {
   "codemirror_mode": {
    "name": "ipython",
    "version": 3
   },
   "file_extension": ".py",
   "mimetype": "text/x-python",
   "name": "python",
   "nbconvert_exporter": "python",
   "pygments_lexer": "ipython3",
   "version": "3.5.2"
  }
 },
 "nbformat": 4,
 "nbformat_minor": 2
}
