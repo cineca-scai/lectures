{
 "cells": [
  {
   "cell_type": "markdown",
   "metadata": {
    "slideshow": {
     "slide_type": "slide"
    }
   },
   "source": [
    "# Hahahaha, It's *magic*!\n",
    "(cit: [Queen: It's a kind of magic](https://www.youtube.com/watch?v=0p_1QSUsbsM))"
   ]
  },
  {
   "cell_type": "markdown",
   "metadata": {
    "slideshow": {
     "slide_type": "subslide"
    }
   },
   "source": [
    "<img src='http://ecx.images-amazon.com/images/I/81Z%2BqXVVWQL.png' width=600>\n",
    "\n",
    "The ol'good game: **Simon the sorcerer**."
   ]
  },
  {
   "cell_type": "markdown",
   "metadata": {
    "slideshow": {
     "slide_type": "slide"
    }
   },
   "source": [
    "## Ipython magic\n",
    "\n",
    "Commands that start with **'`%`'**"
   ]
  },
  {
   "cell_type": "code",
   "execution_count": 1,
   "metadata": {
    "collapsed": false,
    "slideshow": {
     "slide_type": "subslide"
    }
   },
   "outputs": [
    {
     "data": {
      "text/plain": [
       "['[MapReduce] 00 - Introduction.ipynb',\n",
       " '[MapReduce] 01 - Notebooks.ipynb',\n",
       " '[MapReduce] 02 - Magic.ipynb',\n",
       " '[MapReduce] 03 - Hadoop.ipynb',\n",
       " '[MapReduce] 04 - MrJob.ipynb',\n",
       " '[MapReduce] 05 - A real use case.ipynb',\n",
       " '[MapReduce] 99 - Final considerations.ipynb']"
      ]
     },
     "execution_count": 1,
     "metadata": {},
     "output_type": "execute_result"
    }
   ],
   "source": [
    "%system ls *MapReduce*"
   ]
  },
  {
   "cell_type": "code",
   "execution_count": 2,
   "metadata": {
    "collapsed": false,
    "slideshow": {
     "slide_type": "fragment"
    }
   },
   "outputs": [
    {
     "data": {
      "text/plain": [
       "'[MapReduce] 02 - Magic.ipynb'"
      ]
     },
     "execution_count": 2,
     "metadata": {},
     "output_type": "execute_result"
    }
   ],
   "source": [
    "out = _\n",
    "out[2]"
   ]
  },
  {
   "cell_type": "markdown",
   "metadata": {},
   "source": [
    "<small >\n",
    "Note: i could have used directly `_[2]`\n",
    "</small>"
   ]
  },
  {
   "cell_type": "markdown",
   "metadata": {
    "slideshow": {
     "slide_type": "subslide"
    }
   },
   "source": [
    "There are many magics ready from the start"
   ]
  },
  {
   "cell_type": "code",
   "execution_count": 3,
   "metadata": {
    "collapsed": false,
    "slideshow": {
     "slide_type": "fragment"
    }
   },
   "outputs": [
    {
     "data": {
      "application/json": {
       "cell": {
        "!": "OSMagics",
        "HTML": "Other",
        "SVG": "Other",
        "bash": "Other",
        "capture": "ExecutionMagics",
        "debug": "ExecutionMagics",
        "file": "Other",
        "html": "DisplayMagics",
        "javascript": "DisplayMagics",
        "latex": "DisplayMagics",
        "perl": "Other",
        "prun": "ExecutionMagics",
        "pypy": "Other",
        "python": "Other",
        "python2": "Other",
        "python3": "Other",
        "ruby": "Other",
        "script": "ScriptMagics",
        "sh": "Other",
        "svg": "DisplayMagics",
        "sx": "OSMagics",
        "system": "OSMagics",
        "time": "ExecutionMagics",
        "timeit": "ExecutionMagics",
        "writefile": "OSMagics"
       },
       "line": {
        "alias": "OSMagics",
        "alias_magic": "BasicMagics",
        "autocall": "AutoMagics",
        "automagic": "AutoMagics",
        "autosave": "KernelMagics",
        "bookmark": "OSMagics",
        "cat": "Other",
        "cd": "OSMagics",
        "clear": "KernelMagics",
        "colors": "BasicMagics",
        "config": "ConfigMagics",
        "connect_info": "KernelMagics",
        "cp": "Other",
        "debug": "ExecutionMagics",
        "dhist": "OSMagics",
        "dirs": "OSMagics",
        "doctest_mode": "BasicMagics",
        "ed": "Other",
        "edit": "KernelMagics",
        "env": "OSMagics",
        "gui": "BasicMagics",
        "hist": "Other",
        "history": "HistoryMagics",
        "install_default_config": "DeprecatedMagics",
        "install_ext": "ExtensionMagics",
        "install_profiles": "DeprecatedMagics",
        "killbgscripts": "ScriptMagics",
        "ldir": "Other",
        "less": "KernelMagics",
        "lf": "Other",
        "lk": "Other",
        "ll": "Other",
        "load": "CodeMagics",
        "load_ext": "ExtensionMagics",
        "loadpy": "CodeMagics",
        "logoff": "LoggingMagics",
        "logon": "LoggingMagics",
        "logstart": "LoggingMagics",
        "logstate": "LoggingMagics",
        "logstop": "LoggingMagics",
        "ls": "Other",
        "lsmagic": "BasicMagics",
        "lx": "Other",
        "macro": "ExecutionMagics",
        "magic": "BasicMagics",
        "man": "KernelMagics",
        "matplotlib": "PylabMagics",
        "mkdir": "Other",
        "more": "KernelMagics",
        "mv": "Other",
        "notebook": "BasicMagics",
        "page": "BasicMagics",
        "pastebin": "CodeMagics",
        "pdb": "ExecutionMagics",
        "pdef": "NamespaceMagics",
        "pdoc": "NamespaceMagics",
        "pfile": "NamespaceMagics",
        "pinfo": "NamespaceMagics",
        "pinfo2": "NamespaceMagics",
        "popd": "OSMagics",
        "pprint": "BasicMagics",
        "precision": "BasicMagics",
        "profile": "BasicMagics",
        "prun": "ExecutionMagics",
        "psearch": "NamespaceMagics",
        "psource": "NamespaceMagics",
        "pushd": "OSMagics",
        "pwd": "OSMagics",
        "pycat": "OSMagics",
        "pylab": "PylabMagics",
        "qtconsole": "KernelMagics",
        "quickref": "BasicMagics",
        "recall": "HistoryMagics",
        "rehashx": "OSMagics",
        "reload_ext": "ExtensionMagics",
        "rep": "Other",
        "rerun": "HistoryMagics",
        "reset": "NamespaceMagics",
        "reset_selective": "NamespaceMagics",
        "rm": "Other",
        "rmdir": "Other",
        "run": "ExecutionMagics",
        "save": "CodeMagics",
        "sc": "OSMagics",
        "set_env": "OSMagics",
        "store": "StoreMagics",
        "sx": "OSMagics",
        "system": "OSMagics",
        "tb": "ExecutionMagics",
        "time": "ExecutionMagics",
        "timeit": "ExecutionMagics",
        "unalias": "OSMagics",
        "unload_ext": "ExtensionMagics",
        "who": "NamespaceMagics",
        "who_ls": "NamespaceMagics",
        "whos": "NamespaceMagics",
        "xdel": "NamespaceMagics",
        "xmode": "BasicMagics"
       }
      },
      "text/plain": [
       "Available line magics:\n",
       "%alias  %alias_magic  %autocall  %automagic  %autosave  %bookmark  %cat  %cd  %clear  %colors  %config  %connect_info  %cp  %debug  %dhist  %dirs  %doctest_mode  %ed  %edit  %env  %gui  %hist  %history  %install_default_config  %install_ext  %install_profiles  %killbgscripts  %ldir  %less  %lf  %lk  %ll  %load  %load_ext  %loadpy  %logoff  %logon  %logstart  %logstate  %logstop  %ls  %lsmagic  %lx  %macro  %magic  %man  %matplotlib  %mkdir  %more  %mv  %notebook  %page  %pastebin  %pdb  %pdef  %pdoc  %pfile  %pinfo  %pinfo2  %popd  %pprint  %precision  %profile  %prun  %psearch  %psource  %pushd  %pwd  %pycat  %pylab  %qtconsole  %quickref  %recall  %rehashx  %reload_ext  %rep  %rerun  %reset  %reset_selective  %rm  %rmdir  %run  %save  %sc  %set_env  %store  %sx  %system  %tb  %time  %timeit  %unalias  %unload_ext  %who  %who_ls  %whos  %xdel  %xmode\n",
       "\n",
       "Available cell magics:\n",
       "%%!  %%HTML  %%SVG  %%bash  %%capture  %%debug  %%file  %%html  %%javascript  %%latex  %%perl  %%prun  %%pypy  %%python  %%python2  %%python3  %%ruby  %%script  %%sh  %%svg  %%sx  %%system  %%time  %%timeit  %%writefile\n",
       "\n",
       "Automagic is ON, % prefix IS NOT needed for line magics."
      ]
     },
     "execution_count": 3,
     "metadata": {},
     "output_type": "execute_result"
    }
   ],
   "source": [
    "%lsmagic"
   ]
  },
  {
   "cell_type": "code",
   "execution_count": 4,
   "metadata": {
    "collapsed": true,
    "slideshow": {
     "slide_type": "subslide"
    }
   },
   "outputs": [],
   "source": [
    "# Ask documentation\n",
    "%env?"
   ]
  },
  {
   "cell_type": "code",
   "execution_count": 5,
   "metadata": {
    "collapsed": false,
    "slideshow": {
     "slide_type": "fragment"
    }
   },
   "outputs": [
    {
     "data": {
      "text/plain": [
       "'xterm-color'"
      ]
     },
     "execution_count": 5,
     "metadata": {},
     "output_type": "execute_result"
    }
   ],
   "source": [
    "env TERM"
   ]
  },
  {
   "cell_type": "code",
   "execution_count": 6,
   "metadata": {
    "collapsed": false,
    "slideshow": {
     "slide_type": "fragment"
    }
   },
   "outputs": [
    {
     "name": "stdout",
     "output_type": "stream",
     "text": [
      "\n",
      "Automagic is OFF, % prefix IS needed for line magics.\n"
     ]
    }
   ],
   "source": [
    "%automagic off"
   ]
  },
  {
   "cell_type": "code",
   "execution_count": 7,
   "metadata": {
    "collapsed": false,
    "slideshow": {
     "slide_type": "fragment"
    }
   },
   "outputs": [
    {
     "ename": "SyntaxError",
     "evalue": "invalid syntax (<ipython-input-7-a801c845f1e1>, line 1)",
     "output_type": "error",
     "traceback": [
      "\u001b[1;36m  File \u001b[1;32m\"<ipython-input-7-a801c845f1e1>\"\u001b[1;36m, line \u001b[1;32m1\u001b[0m\n\u001b[1;33m    env TERM\u001b[0m\n\u001b[1;37m           ^\u001b[0m\n\u001b[1;31mSyntaxError\u001b[0m\u001b[1;31m:\u001b[0m invalid syntax\n"
     ]
    }
   ],
   "source": [
    "env TERM"
   ]
  },
  {
   "cell_type": "code",
   "execution_count": 8,
   "metadata": {
    "collapsed": true,
    "slideshow": {
     "slide_type": "subslide"
    }
   },
   "outputs": [],
   "source": [
    "# To follow the ipython built-in quickstart on ipython magics:\n",
    "%quickref"
   ]
  },
  {
   "cell_type": "markdown",
   "metadata": {
    "slideshow": {
     "slide_type": "subslide"
    }
   },
   "source": [
    "The power of magic"
   ]
  },
  {
   "cell_type": "code",
   "execution_count": 9,
   "metadata": {
    "collapsed": false,
    "slideshow": {
     "slide_type": "-"
    }
   },
   "outputs": [
    {
     "data": {
      "text/html": [
       "\n",
       "<table>\n",
       "    <tr>\n",
       "        <td> Cell one </td>\n",
       "        <td> Cell <i>two</i> </td>\n",
       "    </tr>\n",
       "    <tr>\n",
       "        <td> Cell <b>three</b> </td>\n",
       "        <td> <a href='www.cineca.it'>link</a> </td>\n",
       "    </tr>\n",
       "</table>"
      ],
      "text/plain": [
       "<IPython.core.display.HTML object>"
      ]
     },
     "metadata": {},
     "output_type": "display_data"
    }
   ],
   "source": [
    "%%HTML\n",
    "\n",
    "<table>\n",
    "    <tr>\n",
    "        <td> Cell one </td>\n",
    "        <td> Cell <i>two</i> </td>\n",
    "    </tr>\n",
    "    <tr>\n",
    "        <td> Cell <b>three</b> </td>\n",
    "        <td> <a href='www.cineca.it'>link</a> </td>\n",
    "    </tr>\n",
    "</table>\n"
   ]
  },
  {
   "cell_type": "markdown",
   "metadata": {
    "slideshow": {
     "slide_type": "slide"
    }
   },
   "source": [
    "Did you notice?"
   ]
  },
  {
   "cell_type": "markdown",
   "metadata": {
    "slideshow": {
     "slide_type": "subslide"
    }
   },
   "source": [
    "    \n",
    "* One % is referring to a **line** magic command:\n",
    "```\n",
    "%cd /opt\n",
    "```\n",
    "*In this case you have to write all the requested options in the same line of the command*"
   ]
  },
  {
   "cell_type": "markdown",
   "metadata": {
    "slideshow": {
     "slide_type": "subslide"
    }
   },
   "source": [
    "* Two % is referring to a **cell** magic command:\n",
    "```\n",
    "%%bash\n",
    "var='test'\n",
    "echo \"$var\"\n",
    "```\n",
    "*Here there might be options on the same line, but the whole cell is captured by the magic*"
   ]
  },
  {
   "cell_type": "code",
   "execution_count": 10,
   "metadata": {
    "collapsed": false,
    "slideshow": {
     "slide_type": "subslide"
    }
   },
   "outputs": [
    {
     "name": "stdout",
     "output_type": "stream",
     "text": [
      "System out: ['test']\n"
     ]
    }
   ],
   "source": [
    "# Line magic does not bother the rest of the cell\n",
    "out = %system echo 'test'\n",
    "print(\"System out:\", out)"
   ]
  },
  {
   "cell_type": "code",
   "execution_count": 11,
   "metadata": {
    "collapsed": false,
    "slideshow": {
     "slide_type": "fragment"
    }
   },
   "outputs": [
    {
     "ename": "SyntaxError",
     "evalue": "invalid syntax (<ipython-input-11-f99db69f8c8f>, line 3)",
     "output_type": "error",
     "traceback": [
      "\u001b[1;36m  File \u001b[1;32m\"<ipython-input-11-f99db69f8c8f>\"\u001b[1;36m, line \u001b[1;32m3\u001b[0m\n\u001b[1;33m    %%bash\u001b[0m\n\u001b[1;37m    ^\u001b[0m\n\u001b[1;31mSyntaxError\u001b[0m\u001b[1;31m:\u001b[0m invalid syntax\n"
     ]
    }
   ],
   "source": [
    "# Cell magic cannot contain another command inside\n",
    "print(\"test\")\n",
    "%%bash\n",
    "ls"
   ]
  },
  {
   "cell_type": "markdown",
   "metadata": {
    "slideshow": {
     "slide_type": "slide"
    }
   },
   "source": [
    "## Exercise\n",
    "\n",
    "Choose one **line** magic command from the list and try to use it."
   ]
  },
  {
   "cell_type": "markdown",
   "metadata": {
    "slideshow": {
     "slide_type": "slide"
    }
   },
   "source": [
    "## File management"
   ]
  },
  {
   "cell_type": "markdown",
   "metadata": {
    "slideshow": {
     "slide_type": "subslide"
    }
   },
   "source": [
    "Playing with directories and files"
   ]
  },
  {
   "cell_type": "code",
   "execution_count": 12,
   "metadata": {
    "collapsed": false,
    "slideshow": {
     "slide_type": "fragment"
    }
   },
   "outputs": [
    {
     "data": {
      "text/plain": [
       "'/data/tmp/lorem.txt'"
      ]
     },
     "execution_count": 12,
     "metadata": {},
     "output_type": "execute_result"
    }
   ],
   "source": [
    "import os\n",
    "current_dir = %system pwd\n",
    "mydir = 'tmp'\n",
    "myfile = 'lorem.txt'\n",
    "os.path.join(current_dir[0], mydir, myfile)"
   ]
  },
  {
   "cell_type": "markdown",
   "metadata": {
    "slideshow": {
     "slide_type": "subslide"
    }
   },
   "source": [
    "Save last output"
   ]
  },
  {
   "cell_type": "code",
   "execution_count": 13,
   "metadata": {
    "collapsed": false,
    "slideshow": {
     "slide_type": "fragment"
    }
   },
   "outputs": [
    {
     "data": {
      "text/plain": [
       "'/data/tmp/lorem.txt'"
      ]
     },
     "execution_count": 13,
     "metadata": {},
     "output_type": "execute_result"
    }
   ],
   "source": [
    "filename = _\n",
    "filename"
   ]
  },
  {
   "cell_type": "code",
   "execution_count": 14,
   "metadata": {
    "collapsed": true,
    "slideshow": {
     "slide_type": "subslide"
    }
   },
   "outputs": [],
   "source": [
    "# Create directory if not exists\n",
    "%mkdir -p $mydir\n",
    "# Write a file with magic:"
   ]
  },
  {
   "cell_type": "code",
   "execution_count": 15,
   "metadata": {
    "collapsed": false,
    "slideshow": {
     "slide_type": "fragment"
    }
   },
   "outputs": [
    {
     "name": "stdout",
     "output_type": "stream",
     "text": [
      "Overwriting /data/tmp/lorem.txt\n"
     ]
    }
   ],
   "source": [
    "%%writefile $filename\n",
    "Lorem ipsum dolor sit amet, consectetur adipisicing elit, sed do eiusmod\n",
    "tempor incididunt ut labore et dolore magna aliqua. Ut enim ad minim veniam,\n",
    "quis nostrud exercitation ullamco laboris nisi ut aliquip ex ea commodo\n",
    "consequat. Duis aute irure dolor in reprehenderit in voluptate velit esse\n",
    "cillum dolore eu fugiat nulla pariatur. Excepteur sint occaecat cupidatat non\n",
    "proident, sunt in culpa qui officia deserunt mollit anim id est laborum."
   ]
  },
  {
   "cell_type": "code",
   "execution_count": 16,
   "metadata": {
    "collapsed": false,
    "slideshow": {
     "slide_type": "subslide"
    }
   },
   "outputs": [
    {
     "name": "stdout",
     "output_type": "stream",
     "text": [
      "Lorem ipsum dolor sit amet, consectetur adipisicing elit, sed do eiusmod\r\n",
      "tempor incididunt ut labore et dolore magna aliqua. Ut enim ad minim veniam,\r\n",
      "quis nostrud exercitation ullamco laboris nisi ut aliquip ex ea commodo\r\n",
      "consequat. Duis aute irure dolor in reprehenderit in voluptate velit esse\r\n",
      "cillum dolore eu fugiat nulla pariatur. Excepteur sint occaecat cupidatat non\r\n",
      "proident, sunt in culpa qui officia deserunt mollit anim id est laborum."
     ]
    }
   ],
   "source": [
    "%cat $filename"
   ]
  },
  {
   "cell_type": "markdown",
   "metadata": {
    "slideshow": {
     "slide_type": "slide"
    }
   },
   "source": [
    "## Exercise\n",
    "Write a bash file and execute it from within the ipython kernel"
   ]
  },
  {
   "cell_type": "markdown",
   "metadata": {
    "slideshow": {
     "slide_type": "fragment"
    }
   },
   "source": [
    "<small> if you know bash syntax :) </small>"
   ]
  },
  {
   "cell_type": "markdown",
   "metadata": {
    "slideshow": {
     "slide_type": "slide"
    }
   },
   "source": [
    "## Writing a magic command"
   ]
  },
  {
   "cell_type": "markdown",
   "metadata": {
    "slideshow": {
     "slide_type": "subslide"
    }
   },
   "source": [
    "A magic is a *piece of cake*"
   ]
  },
  {
   "cell_type": "code",
   "execution_count": 17,
   "metadata": {
    "collapsed": true,
    "slideshow": {
     "slide_type": "subslide"
    }
   },
   "outputs": [],
   "source": [
    "# Line magic\n",
    "from IPython.core.magic import register_line_magic\n",
    "\n",
    "@register_line_magic\n",
    "def custom_magic_line(line):\n",
    "    print(\"Hello\", line)"
   ]
  },
  {
   "cell_type": "code",
   "execution_count": 18,
   "metadata": {
    "collapsed": false,
    "slideshow": {
     "slide_type": "fragment"
    }
   },
   "outputs": [
    {
     "name": "stdout",
     "output_type": "stream",
     "text": [
      "Hello \n",
      "Hello test\n"
     ]
    }
   ],
   "source": [
    "# test it\n",
    "%custom_magic_line\n",
    "%custom_magic_line test"
   ]
  },
  {
   "cell_type": "code",
   "execution_count": 19,
   "metadata": {
    "collapsed": false,
    "slideshow": {
     "slide_type": "subslide"
    }
   },
   "outputs": [
    {
     "name": "stderr",
     "output_type": "stream",
     "text": [
      "ERROR: Cell magic `%%custom_magic_line` not found (But line magic `%custom_magic_line` exists, did you mean that instead?).\n"
     ]
    }
   ],
   "source": [
    "%%custom_magic_line"
   ]
  },
  {
   "cell_type": "code",
   "execution_count": 20,
   "metadata": {
    "collapsed": true,
    "slideshow": {
     "slide_type": "subslide"
    }
   },
   "outputs": [],
   "source": [
    "# Cell magic\n",
    "from IPython.core.magic import register_cell_magic\n",
    "\n",
    "@register_cell_magic\n",
    "def custom_cell_magic(line, cell):\n",
    "    print(\"Hello *%s*\\n*%s*\" % (line,cell))"
   ]
  },
  {
   "cell_type": "code",
   "execution_count": 21,
   "metadata": {
    "collapsed": false,
    "slideshow": {
     "slide_type": "fragment"
    }
   },
   "outputs": [
    {
     "name": "stdout",
     "output_type": "stream",
     "text": [
      "Hello *line*\n",
      "*cell line 1\n",
      "cell line 2*\n"
     ]
    }
   ],
   "source": [
    "%%custom_cell_magic line\n",
    "cell line 1\n",
    "cell line 2"
   ]
  },
  {
   "cell_type": "code",
   "execution_count": 22,
   "metadata": {
    "collapsed": false,
    "slideshow": {
     "slide_type": "subslide"
    }
   },
   "outputs": [
    {
     "name": "stderr",
     "output_type": "stream",
     "text": [
      "ERROR: Line magic function `%custom_cell_magic` not found (But cell magic `%%custom_cell_magic` exists, did you mean that instead?).\n"
     ]
    }
   ],
   "source": [
    "%custom_cell_magic line"
   ]
  },
  {
   "cell_type": "code",
   "execution_count": 23,
   "metadata": {
    "collapsed": true,
    "slideshow": {
     "slide_type": "subslide"
    }
   },
   "outputs": [],
   "source": [
    "# Both magics\n",
    "from IPython.core.magic import register_line_cell_magic\n",
    "\n",
    "@register_line_cell_magic\n",
    "def custom_magic(line, cell=\"\"):\n",
    "    print(\"Hello *%s*\\n*%s*\" % (line,cell))"
   ]
  },
  {
   "cell_type": "code",
   "execution_count": 24,
   "metadata": {
    "collapsed": false,
    "slideshow": {
     "slide_type": "fragment"
    }
   },
   "outputs": [
    {
     "name": "stdout",
     "output_type": "stream",
     "text": [
      "Hello *line*\n",
      "**\n"
     ]
    }
   ],
   "source": [
    "%custom_magic line"
   ]
  },
  {
   "cell_type": "code",
   "execution_count": 25,
   "metadata": {
    "collapsed": false,
    "slideshow": {
     "slide_type": "fragment"
    }
   },
   "outputs": [
    {
     "name": "stdout",
     "output_type": "stream",
     "text": [
      "Hello *line*\n",
      "*cell*\n"
     ]
    }
   ],
   "source": [
    "%%custom_magic line\n",
    "cell"
   ]
  },
  {
   "cell_type": "code",
   "execution_count": 26,
   "metadata": {
    "collapsed": false,
    "slideshow": {
     "slide_type": "subslide"
    }
   },
   "outputs": [
    {
     "name": "stdout",
     "output_type": "stream",
     "text": [
      "/data\n"
     ]
    }
   ],
   "source": [
    "# Make sure you work inside this path for next example\n",
    "%cd /data"
   ]
  },
  {
   "cell_type": "code",
   "execution_count": 27,
   "metadata": {
    "collapsed": true,
    "slideshow": {
     "slide_type": "subslide"
    }
   },
   "outputs": [],
   "source": [
    "# Using ipython magic inside the magic\n",
    "\n",
    "@register_line_magic\n",
    "def search_file_extension(extension):\n",
    "    \"\"\" Find files with given extension inside the current directory and sub-directories \"\"\"\n",
    "    if extension is '':\n",
    "        extension = 'txt'\n",
    "    cmd = \"find ./ -iname *.\" + extension\n",
    "    out = %system $cmd\n",
    "    print(\"Found\", out)"
   ]
  },
  {
   "cell_type": "code",
   "execution_count": 28,
   "metadata": {
    "collapsed": false,
    "slideshow": {
     "slide_type": "subslide"
    }
   },
   "outputs": [
    {
     "name": "stdout",
     "output_type": "stream",
     "text": [
      "Found ['./mymrjob/out.txt', './tmp/lorem.txt', './worker/books/divine_comedy.txt', './worker/books/prince.txt', './worker/books/twolines.txt']\n"
     ]
    }
   ],
   "source": [
    "%search_file_extension"
   ]
  },
  {
   "cell_type": "code",
   "execution_count": 29,
   "metadata": {
    "collapsed": false,
    "slideshow": {
     "slide_type": "fragment"
    }
   },
   "outputs": [
    {
     "name": "stdout",
     "output_type": "stream",
     "text": [
      "Found ['./whois_pdonorio.py']\n"
     ]
    }
   ],
   "source": [
    "%search_file_extension py"
   ]
  },
  {
   "cell_type": "code",
   "execution_count": 30,
   "metadata": {
    "collapsed": false,
    "slideshow": {
     "slide_type": "fragment"
    }
   },
   "outputs": [],
   "source": [
    "%search_file_extension?"
   ]
  },
  {
   "cell_type": "markdown",
   "metadata": {
    "slideshow": {
     "slide_type": "slide"
    }
   },
   "source": [
    "## Exercise\n",
    "Write your own magic to take a file and count the words inside"
   ]
  },
  {
   "cell_type": "markdown",
   "metadata": {
    "slideshow": {
     "slide_type": "slide"
    }
   },
   "source": [
    "## Writing an extension"
   ]
  },
  {
   "cell_type": "markdown",
   "metadata": {
    "slideshow": {
     "slide_type": "subslide"
    }
   },
   "source": [
    "An extension is a python file written for ipython shell/notebook.\n",
    "\n",
    "If you wrote a great magic command and want to share with others, you have to write an extension.\n",
    "\n",
    "Kind of a *library* for ipython."
   ]
  },
  {
   "cell_type": "code",
   "execution_count": 31,
   "metadata": {
    "collapsed": false,
    "slideshow": {
     "slide_type": "subslide"
    }
   },
   "outputs": [
    {
     "name": "stdout",
     "output_type": "stream",
     "text": [
      "Writing extension.py\n"
     ]
    }
   ],
   "source": [
    "%%writefile extension.py\n",
    "\n",
    "# -*- coding: utf-8 -*-\n",
    "\"\"\" A custom magic command \"\"\"\n",
    "from IPython.core.magic import register_line_magic\n",
    "import subprocess\n",
    "MAIN_DIR = '/data'\n",
    "\n",
    "@register_line_magic\n",
    "def mysearch(extension):\n",
    "    \"\"\" Find files with given extension inside the current directory and sub-directories \"\"\"\n",
    "    if extension is '':\n",
    "        extension = 'txt'\n",
    "    cmd = \"find \" + MAIN_DIR + \" -iname *.\" + extension\n",
    "    process = subprocess.Popen(cmd.split(\" \"), stdout=subprocess.PIPE)\n",
    "    out, err = process.communicate()\n",
    "    return out\n",
    "\n",
    "def load_ipython_extension(ipython):\n",
    "    ipython.register_magic_function(mysearch, 'line')"
   ]
  },
  {
   "cell_type": "markdown",
   "metadata": {
    "slideshow": {
     "slide_type": "subslide"
    }
   },
   "source": [
    "Note: you cannot use ipython syntax and `%magic` commands inside the extension\n",
    "\n",
    "as it is written with standard python, like a normal module."
   ]
  },
  {
   "cell_type": "code",
   "execution_count": 32,
   "metadata": {
    "collapsed": false,
    "slideshow": {
     "slide_type": "subslide"
    }
   },
   "outputs": [
    {
     "data": {
      "text/plain": [
       "b'/data/mymrjob/out.txt\\n/data/tmp/lorem.txt\\n/data/worker/books/divine_comedy.txt\\n/data/worker/books/prince.txt\\n/data/worker/books/twolines.txt\\n'"
      ]
     },
     "execution_count": 32,
     "metadata": {},
     "output_type": "execute_result"
    }
   ],
   "source": [
    "# Load extension\n",
    "%reload_ext extension\n",
    "# Test it\n",
    "%mysearch txt"
   ]
  },
  {
   "cell_type": "markdown",
   "metadata": {
    "slideshow": {
     "slide_type": "subslide"
    }
   },
   "source": [
    "Note: original place for extensions is\n",
    "`$HOME/.ipython/extensions/`\n",
    "\n",
    "That path is `read-only` for the running container.\n",
    "\n",
    "It is corresponding to main `ipython_extensions` directory of the lectures repo."
   ]
  },
  {
   "cell_type": "code",
   "execution_count": 33,
   "metadata": {
    "collapsed": false,
    "slideshow": {
     "slide_type": "fragment"
    }
   },
   "outputs": [
    {
     "name": "stdout",
     "output_type": "stream",
     "text": [
      "/root/.ipython/extensions/mrjobmagic.py\r\n",
      "/root/.ipython/extensions/version_information.py\r\n"
     ]
    }
   ],
   "source": [
    "! ls $HOME/.ipython/extensions/*.py"
   ]
  },
  {
   "cell_type": "markdown",
   "metadata": {
    "slideshow": {
     "slide_type": "slide"
    }
   },
   "source": [
    "## Exercise\n",
    "Take the magic you wrote in the previous exercise and create the extension.\n",
    "\n",
    "<small>Note: The notebook server works as a decent file editor for extensions differents from `ipynb`.</small>"
   ]
  },
  {
   "cell_type": "markdown",
   "metadata": {
    "slideshow": {
     "slide_type": "slide"
    }
   },
   "source": [
    "## Extensions list\n",
    "\n",
    "There are many cool magicians in the community,\n",
    "and they share their magic:\n",
    "\n",
    "https://github.com/ipython/ipython/wiki/Extensions-Index"
   ]
  },
  {
   "cell_type": "markdown",
   "metadata": {
    "slideshow": {
     "slide_type": "subslide"
    }
   },
   "source": [
    "A short example:\n",
    "\n",
    "Become the **master of databases** from within the notebook"
   ]
  },
  {
   "cell_type": "code",
   "execution_count": 1,
   "metadata": {
    "collapsed": false,
    "scrolled": true,
    "slideshow": {
     "slide_type": "subslide"
    }
   },
   "outputs": [
    {
     "name": "stdout",
     "output_type": "stream",
     "text": [
      "Requirement already up-to-date: ipython-sql in /usr/local/lib/python3.4/site-packages\n",
      "Collecting sqlparse (from ipython-sql)\n",
      "  Downloading sqlparse-0.1.19.tar.gz (58kB)\n",
      "\u001b[K    100% |████████████████████████████████| 61kB 37kB/s \n",
      "\u001b[?25hCollecting ipython>=1.0 (from ipython-sql)\n",
      "  Downloading ipython-4.1.2-py3-none-any.whl (736kB)\n",
      "\u001b[K    100% |████████████████████████████████| 737kB 145kB/s \n",
      "\u001b[?25hRequirement already up-to-date: prettytable in /usr/local/lib/python3.4/site-packages (from ipython-sql)\n",
      "Collecting sqlalchemy>=0.6.7 (from ipython-sql)\n",
      "  Downloading SQLAlchemy-1.0.12.tar.gz (4.7MB)\n",
      "\u001b[K    100% |████████████████████████████████| 4.8MB 127kB/s \n",
      "\u001b[?25hRequirement already up-to-date: six in /usr/local/lib/python3.4/site-packages (from ipython-sql)\n",
      "Requirement already up-to-date: appnope in /usr/local/lib/python3.4/site-packages (from ipython>=1.0->ipython-sql)\n",
      "Collecting decorator (from ipython>=1.0->ipython-sql)\n",
      "  Downloading decorator-4.0.9-py2.py3-none-any.whl\n",
      "Requirement already up-to-date: gnureadline in /usr/local/lib/python3.4/site-packages (from ipython>=1.0->ipython-sql)\n",
      "Collecting pexpect (from ipython>=1.0->ipython-sql)\n",
      "  Downloading pexpect-4.0.1.tar.gz (143kB)\n",
      "\u001b[K    100% |████████████████████████████████| 153kB 28kB/s \n",
      "\u001b[?25hCollecting setuptools>=18.5 (from ipython>=1.0->ipython-sql)\n",
      "  Downloading setuptools-20.9.0-py2.py3-none-any.whl (508kB)\n",
      "\u001b[K    100% |████████████████████████████████| 512kB 436kB/s \n",
      "\u001b[?25hRequirement already up-to-date: simplegeneric>0.8 in /usr/local/lib/python3.4/site-packages (from ipython>=1.0->ipython-sql)\n",
      "Collecting traitlets (from ipython>=1.0->ipython-sql)\n",
      "  Downloading traitlets-4.2.1-py2.py3-none-any.whl (67kB)\n",
      "\u001b[K    100% |████████████████████████████████| 71kB 851kB/s \n",
      "\u001b[?25hCollecting pickleshare (from ipython>=1.0->ipython-sql)\n",
      "  Downloading pickleshare-0.7.2-py2.py3-none-any.whl\n",
      "Collecting ptyprocess>=0.5 (from pexpect->ipython>=1.0->ipython-sql)\n",
      "  Downloading ptyprocess-0.5.1-py2.py3-none-any.whl\n",
      "Requirement already up-to-date: ipython-genutils in /usr/local/lib/python3.4/site-packages (from traitlets->ipython>=1.0->ipython-sql)\n",
      "Building wheels for collected packages: sqlparse, sqlalchemy, pexpect\n",
      "  Running setup.py bdist_wheel for sqlparse ... \u001b[?25l-\b \b\\\b \b|\b \b/\b \b-\b \bdone\n",
      "\u001b[?25h  Stored in directory: /Users/paulie/Library/Caches/pip/wheels/7b/d4/72/6011bb100dd5fc213164e4bbee13d4e03261dd54ce6a5de6b8\n",
      "  Running setup.py bdist_wheel for sqlalchemy ... \u001b[?25l-\b \b\\\b \b|\b \b/\b \b-\b \bdone\n",
      "\u001b[?25h  Stored in directory: /Users/paulie/Library/Caches/pip/wheels/ac/7f/71/77897285b1a0d19e2251d87cbc8f6f215b2d0be05ef36a3a5f\n",
      "  Running setup.py bdist_wheel for pexpect ... \u001b[?25l-\b \bdone\n",
      "\u001b[?25h  Stored in directory: /Users/paulie/Library/Caches/pip/wheels/ea/5b/53/4b65a279e1390ae81febe74f660ce01ef4655c9c1ec9acd9bf\n",
      "Successfully built sqlparse sqlalchemy pexpect\n",
      "Installing collected packages: sqlparse, decorator, ptyprocess, pexpect, setuptools, traitlets, pickleshare, ipython, sqlalchemy\n",
      "  Found existing installation: sqlparse 0.1.16\n",
      "    Uninstalling sqlparse-0.1.16:\n",
      "      Successfully uninstalled sqlparse-0.1.16\n",
      "  Found existing installation: decorator 4.0.2\n",
      "    Uninstalling decorator-4.0.2:\n",
      "      Successfully uninstalled decorator-4.0.2\n",
      "  Found existing installation: ptyprocess 0.5\n",
      "    Uninstalling ptyprocess-0.5:\n",
      "      Successfully uninstalled ptyprocess-0.5\n",
      "  Found existing installation: pexpect 3.3\n",
      "    Uninstalling pexpect-3.3:\n",
      "      Successfully uninstalled pexpect-3.3\n",
      "  Found existing installation: setuptools 18.1\n",
      "    Uninstalling setuptools-18.1:\n",
      "      Successfully uninstalled setuptools-18.1\n",
      "  Found existing installation: traitlets 4.0.0\n",
      "    Uninstalling traitlets-4.0.0:\n",
      "      Successfully uninstalled traitlets-4.0.0\n",
      "  Found existing installation: pickleshare 0.5\n",
      "    Uninstalling pickleshare-0.5:\n",
      "      Successfully uninstalled pickleshare-0.5\n",
      "  Found existing installation: ipython 4.0.0\n",
      "    Uninstalling ipython-4.0.0:\n",
      "      Successfully uninstalled ipython-4.0.0\n",
      "  Found existing installation: SQLAlchemy 1.0.8\n",
      "    Uninstalling SQLAlchemy-1.0.8:\n",
      "      Successfully uninstalled SQLAlchemy-1.0.8\n",
      "Successfully installed decorator-4.0.9 ipython-4.1.2 pexpect-4.0.1 pickleshare-0.7.2 ptyprocess-0.5.1 setuptools-20.9.0 sqlalchemy-1.0.12 sqlparse-0.1.19 traitlets-4.2.1\n"
     ]
    }
   ],
   "source": [
    "! pip install --upgrade ipython-sql"
   ]
  },
  {
   "cell_type": "code",
   "execution_count": 2,
   "metadata": {
    "collapsed": true,
    "slideshow": {
     "slide_type": "subslide"
    }
   },
   "outputs": [],
   "source": [
    "%%capture\n",
    "# Load new installed extension\n",
    "%load_ext sql"
   ]
  },
  {
   "cell_type": "code",
   "execution_count": 3,
   "metadata": {
    "collapsed": false,
    "slideshow": {
     "slide_type": "subslide"
    }
   },
   "outputs": [],
   "source": [
    "# Create a file database with sqllite\n",
    "import sqlite3\n",
    "dbfile = '/tmp/mydata.sql'\n",
    "conn = sqlite3.connect(dbfile)"
   ]
  },
  {
   "cell_type": "markdown",
   "metadata": {
    "slideshow": {
     "slide_type": "subslide"
    }
   },
   "source": [
    "Query your database from a notebook cell"
   ]
  },
  {
   "cell_type": "code",
   "execution_count": 4,
   "metadata": {
    "collapsed": false,
    "slideshow": {
     "slide_type": "fragment"
    }
   },
   "outputs": [
    {
     "name": "stdout",
     "output_type": "stream",
     "text": [
      "Done.\n",
      "2 rows affected.\n",
      "Done.\n"
     ]
    },
    {
     "data": {
      "text/html": [
       "<table>\n",
       "    <tr>\n",
       "        <th>x</th>\n",
       "        <th>y</th>\n",
       "        <th>z</th>\n",
       "    </tr>\n",
       "    <tr>\n",
       "        <td>1</td>\n",
       "        <td>2</td>\n",
       "        <td>3</td>\n",
       "    </tr>\n",
       "    <tr>\n",
       "        <td>9</td>\n",
       "        <td>8</td>\n",
       "        <td>7</td>\n",
       "    </tr>\n",
       "</table>"
      ],
      "text/plain": [
       "[(1, 2, 3), (9, 8, 7)]"
      ]
     },
     "execution_count": 4,
     "metadata": {},
     "output_type": "execute_result"
    }
   ],
   "source": [
    "%%sql sqlite:///$dbfile\n",
    "CREATE TABLE IF NOT EXISTS t(x INTEGER, y, z, PRIMARY KEY(x ASC));\n",
    "INSERT INTO t VALUES (1,2,3),(9,8,7);\n",
    "SELECT * FROM t;"
   ]
  },
  {
   "cell_type": "markdown",
   "metadata": {
    "slideshow": {
     "slide_type": "fragment"
    }
   },
   "source": [
    "Note: it works with **sqllite**, **mysql**, **postgres**"
   ]
  },
  {
   "cell_type": "markdown",
   "metadata": {
    "slideshow": {
     "slide_type": "slide"
    }
   },
   "source": [
    "# Make presentations"
   ]
  },
  {
   "cell_type": "markdown",
   "metadata": {
    "slideshow": {
     "slide_type": "subslide"
    }
   },
   "source": [
    "* Slideshows are not standard part of the jupyter project.\n",
    "* There is a GitHub repository for extending it with the '`reveal.js`' plugin called **RISE**.\n",
    "* We forked the repo to add custom keybindings.\n",
    "* This is the reason why you have the Live Slideshow button inside your notebooks today.\n",
    "* All of this has been made inside our custom docker image."
   ]
  },
  {
   "cell_type": "markdown",
   "metadata": {
    "slideshow": {
     "slide_type": "subslide"
    }
   },
   "source": [
    "To make a presentation you just have to:\n",
    "\n",
    "1. Change Cell Toolbar from None to Slideshow\n",
    "2. Change slide type for each cell to emulate slides like powerpoint\n",
    "3. Launch Live Slideshow (with the button or pressing Alt+R)"
   ]
  },
  {
   "cell_type": "markdown",
   "metadata": {
    "slideshow": {
     "slide_type": "slide"
    }
   },
   "source": [
    "## Markdown\n",
    "Notebooks comments and notes are written using the **Markdown syntax**"
   ]
  },
  {
   "cell_type": "markdown",
   "metadata": {
    "slideshow": {
     "slide_type": "subslide"
    }
   },
   "source": [
    "(Double click to reveal the syntax)\n",
    "\n",
    "Emphasis, aka italics, with *asterisks* or _underscores_.\n",
    "\n",
    "Strong emphasis, aka bold, with **asterisks** or __underscores__.\n",
    "\n",
    "Combined emphasis with **asterisks and _underscores_**.\n",
    "\n",
    "Strikethrough uses two tildes. ~~Scratch this.~~\n",
    "\n",
    "Links are very easy to create: [google](http://www.google.com)"
   ]
  },
  {
   "cell_type": "markdown",
   "metadata": {
    "slideshow": {
     "slide_type": "subslide"
    }
   },
   "source": [
    "1. First ordered list item\n",
    "2. Another item\n",
    "    * Unordered sub-list. \n",
    "1. Actual numbers don't matter, just that it's a number\n",
    "    1. Ordered sub-list\n",
    "4. And another item."
   ]
  },
  {
   "cell_type": "markdown",
   "metadata": {
    "slideshow": {
     "slide_type": "subslide"
    }
   },
   "source": [
    "You should learn markdown language!\n",
    "\n",
    "For example here: http://markdowntutorial.com/\n",
    "\n",
    "You can easily find a [cheatsheet](https://github.com/adam-p/markdown-here/wiki/Markdown-Cheatsheet) when you get lost."
   ]
  },
  {
   "cell_type": "markdown",
   "metadata": {
    "slideshow": {
     "slide_type": "subslide"
    }
   },
   "source": [
    "*MD Advantages*\n",
    "\n",
    "* Markdown files can be easily converted to PDF\n",
    "    - e.g. www.markdowntopdf.com\n",
    "* GitHub Readmes and readable files are written in Markdown\n",
    "    - Since notebooks are a mix of JSON cells with Markdowns syntax, also notebooks file are previewed into repositories"
   ]
  },
  {
   "cell_type": "markdown",
   "metadata": {
    "slideshow": {
     "slide_type": "subslide"
    }
   },
   "source": [
    "* You may write your project documentation in Markdown\n",
    "    - e.g. http://www.mkdocs.org/\n",
    "    - it can be compiled and used on free services like https://readthedocs.org/\n",
    "    - Even if the standard the facto is ReST language (similar to Markdown)"
   ]
  },
  {
   "cell_type": "markdown",
   "metadata": {
    "slideshow": {
     "slide_type": "slide"
    }
   },
   "source": [
    "## Exercise\n",
    "\n",
    "Write a web page with notebooks. \n",
    "\n",
    "The layout should be: \n",
    "* header \n",
    "* a big image\n",
    "* a **lorem** text \n",
    "* and a piece of python code"
   ]
  },
  {
   "cell_type": "markdown",
   "metadata": {
    "slideshow": {
     "slide_type": "subslide"
    }
   },
   "source": [
    "<small>Note - this is a *lorem*:\n",
    "\n",
    "Lorem ipsum dolor sit amet, consectetur adipisicing elit, sed do eiusmod\n",
    "tempor incididunt ut labore et dolore magna aliqua. Ut enim ad minim veniam,\n",
    "quis nostrud exercitation ullamco laboris nisi ut aliquip ex ea commodo\n",
    "consequat. Duis aute irure dolor in reprehenderit in voluptate velit esse\n",
    "cillum dolore eu fugiat nulla pariatur. Excepteur sint occaecat cupidatat non\n",
    "proident, sunt in culpa qui officia deserunt mollit anim id est laborum.\n",
    "</small>"
   ]
  },
  {
   "cell_type": "code",
   "execution_count": null,
   "metadata": {
    "collapsed": false,
    "slideshow": {
     "slide_type": "slide"
    }
   },
   "outputs": [],
   "source": [
    "# List all the commands written inside this notebook\n",
    "%hist "
   ]
  },
  {
   "cell_type": "markdown",
   "metadata": {
    "slideshow": {
     "slide_type": "slide"
    }
   },
   "source": [
    "# End of chapter"
   ]
  },
  {
   "cell_type": "code",
   "execution_count": 2,
   "metadata": {
    "collapsed": false,
    "slideshow": {
     "slide_type": "fragment"
    }
   },
   "outputs": [
    {
     "name": "stdout",
     "output_type": "stream",
     "text": [
      "The watermark extension is already loaded. To reload it, use:\n",
      "  %reload_ext watermark\n",
      "Paolo D. 2016-04-11 \n",
      "\n",
      "CPython 3.5.1\n",
      "IPython 4.1.2\n",
      "\n",
      "compiler   : GCC 4.4.7 20120313 (Red Hat 4.4.7-1)\n",
      "system     : Linux\n",
      "release    : 4.3.3-dhyve\n",
      "machine    : x86_64\n",
      "processor  : \n",
      "CPU cores  : 1\n",
      "interpreter: 64bit\n"
     ]
    }
   ],
   "source": [
    "%load_ext watermark\n",
    "%watermark -a \"Paolo D.\" -d -v -m"
   ]
  }
 ],
 "metadata": {
  "celltoolbar": "Slideshow",
  "kernelspec": {
   "display_name": "Python 3",
   "language": "python",
   "name": "python3"
  },
  "language_info": {
   "codemirror_mode": {
    "name": "ipython",
    "version": 3
   },
   "file_extension": ".py",
   "mimetype": "text/x-python",
   "name": "python",
   "nbconvert_exporter": "python",
   "pygments_lexer": "ipython3",
   "version": "3.4.3"
  }
 },
 "nbformat": 4,
 "nbformat_minor": 0
}
