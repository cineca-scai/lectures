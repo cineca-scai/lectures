{
 "cells": [
  {
   "cell_type": "markdown",
   "metadata": {},
   "source": [
    "## Exercise\n",
    "\n",
    "Write (at least) 3 classes:\n",
    "\n",
    "1. A class for a Matrix structure\n",
    "    - define a method to transpose the structure\n",
    "2. A class for a Symmetric Matrix (to be validated)\n",
    "    - you may expect the data to be a square matrix\n",
    "3. A class wrapping a list of Symmetric Matrixes\n",
    "\n",
    "Create an instance of the step 3 within a cycle (of random steps) and fill it with random data\n",
    "\n",
    "Note: do not use `numpy`"
   ]
  }
 ],
 "metadata": {
  "kernelspec": {
   "display_name": "Python 3",
   "language": "python",
   "name": "python3"
  },
  "language_info": {
   "codemirror_mode": {
    "name": "ipython",
    "version": 3
   },
   "file_extension": ".py",
   "mimetype": "text/x-python",
   "name": "python",
   "nbconvert_exporter": "python",
   "pygments_lexer": "ipython3",
   "version": "3.4.3"
  }
 },
 "nbformat": 4,
 "nbformat_minor": 0
}
