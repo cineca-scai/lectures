{
 "cells": [
  {
   "cell_type": "markdown",
   "metadata": {
    "slideshow": {
     "slide_type": "slide"
    }
   },
   "source": [
    "#  Objects and massive data\n",
    "*with Python Notebooks*\n",
    "\n",
    "<!-- logos -->\n",
    "<table>\n",
    "<tr><td colspan=3> <img src='http://www.hpc.cineca.it/sites/all/themes/scai/logo.png' width=600> </td>\n",
    "</tr><tr>\n",
    "<td> <img src='http://upload.wikimedia.org/wikipedia/commons/thumb/f/f8/Python_logo_and_wordmark.svg/2000px-Python_logo_and_wordmark.svg.png' width=300> </td>\n",
    "<td> <img src='https://raw.githubusercontent.com/jupyter/nature-demo/master/images/jupyter-logo.png' width=300> </td>\n",
    "</tr>\n",
    "</table>"
   ]
  },
  {
   "cell_type": "markdown",
   "metadata": {
    "slideshow": {
     "slide_type": "slide"
    }
   },
   "source": [
    "# Cineca\n",
    "\n",
    "Supporting the italian research"
   ]
  },
  {
   "cell_type": "markdown",
   "metadata": {
    "slideshow": {
     "slide_type": "subslide"
    }
   },
   "source": [
    "<img src='images/cineca.png'></img>"
   ]
  },
  {
   "cell_type": "markdown",
   "metadata": {
    "slideshow": {
     "slide_type": "subslide"
    }
   },
   "source": [
    "> CINECA is a non profit Consortium\n",
    "\n",
    "> made up of 70 Italian Universities, 4 research Institutions and MIUR"
   ]
  },
  {
   "cell_type": "markdown",
   "metadata": {
    "slideshow": {
     "slide_type": "subslide"
    }
   },
   "source": [
    "CINECA is now the **largest Italian computing centre** \n",
    "\n",
    "(and  one of the most important worldwide)"
   ]
  },
  {
   "cell_type": "markdown",
   "metadata": {
    "slideshow": {
     "slide_type": "subslide"
    }
   },
   "source": [
    "## SCAI\n",
    "### SuperComputing Applications and Innovation\n",
    "\n",
    "The High Performance Systems *department* supports scientific and technological research through supercomputing and its applications."
   ]
  },
  {
   "cell_type": "markdown",
   "metadata": {
    "slideshow": {
     "slide_type": "subslide"
    }
   },
   "source": [
    "### FERMI\n",
    "#### High-end system, only for extremely scalable applications\n",
    "\n",
    "```\n",
    "Architecture: BlueGene/Q (10 racks)\n",
    "Processor type: IBM PowerA2 @1.6 GHz\n",
    "Computing Nodes:  10.240 \n",
    "Each node: 16 cores and 16 GB of RAM\n",
    "Computing Cores:  163.840 \n",
    "RAM: 1 GByte / core (163 TByte total)\n",
    "Internal Network: 5D Torus\n",
    "Disk Space:  2 PByte of scratch space \n",
    "Peak Performance: 2 PFlop/s\n",
    "Power Consumption: 820 kWatts\n",
    "\n",
    "N. 12 in Top 500 rank (June 2013)\n",
    "\n",
    "National and PRACE Tier-0 calls\n",
    "```"
   ]
  },
  {
   "cell_type": "markdown",
   "metadata": {
    "slideshow": {
     "slide_type": "subslide"
    }
   },
   "source": [
    "### GALILEO\n",
    "#### X86 based system for production of medium scalability applications\n",
    "\n",
    "```\n",
    "Model: IBM NeXtScale\n",
    "Architecture: IBM NeXtScale\n",
    "Processor type: Intel Xeon Haswell@ 2.4 GHz\n",
    "Computing Nodes:  516\n",
    "Each node: 16 cores, 128 GB of RAM\n",
    "Computing Cores:  8.256 \n",
    "RAM: 66 TByte\n",
    "Peak Performance: 1.2 PFlops  \n",
    "Internal Network: Infiniband 4xQDR switches (40 Gb/s) \n",
    "Accelerators: 768 Intel Phi 7120p (2 per node on 384 nodes)\n",
    "\t+ 80 Nvidia K80 (2 per node on 40 nodes)\n",
    "\n",
    "National and PRACE Tier-1 calls\n",
    "\n",
    "```"
   ]
  },
  {
   "cell_type": "markdown",
   "metadata": {
    "slideshow": {
     "slide_type": "subslide"
    }
   },
   "source": [
    "### PICO\n",
    "#### Storage and processing of large volumes of data\n",
    "\n",
    "```\n",
    "Model:  IBM NeXtScale ",
    "Processor type:  Intel Xeon Ivy Bridge@2,5Ghz\n",
    "Computing Nodes: 66+ ",
    "Each node: 20 cores, 128 GB of RAM\n",
    "Computing Cores:  1.320+\n",
    "RAM:  6,4 GB/core\n",
    "\t\n",
    "\tplus\n",
    "\n",
    "2 Visualization nodes (with 2 GPU NVIDIA K40)\n",
    "2 Big Mem nodes (512 GB RAM)\n",
    "4 BigInsight nodes (32 TB of local disk)\n",
    "2 Very Large Mem nodes (1TB RAM)\n",
    "```"
   ]
  },
  {
   "cell_type": "markdown",
   "metadata": {
    "slideshow": {
     "slide_type": "subslide"
    }
   },
   "source": [
    "Services that take advance from PICO peculiarities:\n",
    "\n",
    "* Low parallelism (less nodes, more cores/node)\n",
    "* Memory intensive (more memory/core and /node)\n",
    "* I/O intensive (SSD disk available)\n",
    "* DB based (a lot of storage space)"
   ]
  },
  {
   "cell_type": "markdown",
   "metadata": {
    "slideshow": {
     "slide_type": "subslide"
    }
   },
   "source": [
    "Application environments offered through our computing center:\n",
    "\n",
    "* Bioinformatics\n",
    "* Data anaysis\n",
    "* Engineerings\n",
    "* Quantum Chemistry\n",
    "* General services\n",
    "* Remote visualisation\n",
    "* Web access to HPC"
   ]
  },
  {
   "cell_type": "markdown",
   "metadata": {
    "slideshow": {
     "slide_type": "subslide"
    }
   },
   "source": [
    "Fermi is about to be replaced with a new machine. Confirmed name is **Marconi**. "
   ]
  },
  {
   "cell_type": "markdown",
   "metadata": {
    "slideshow": {
     "slide_type": "fragment"
    }
   },
   "source": [
    "New computing machine total capacity: 16,5 PFs peak performance, 10 PB storage\n",
    "\n",
    "Lenovo NeXtScale\n",
    "- A1: Broadwell 2x18 core, 2.3 GHz; 1500 nodi, 2 PFlops\n",
    "- A2: KnightsLanding 68 core, 1.4 GHz; 3600 nodi, 11 PFlops\n",
    "- A3: SkyLake 2x20 core, 2.3 GHz; 1500 nodi, 4,5 PFlops"
   ]
  },
  {
   "cell_type": "markdown",
   "metadata": {
    "slideshow": {
     "slide_type": "fragment"
    }
   },
   "source": [
    "- A1: June\n",
    "- A2: November\n",
    "- A3: Next summer"
   ]
  },
  {
   "cell_type": "markdown",
   "metadata": {
    "slideshow": {
     "slide_type": "subslide"
    }
   },
   "source": [
    "## Request for resources on your project\n",
    "\n",
    "Peer reviewed projects: \n",
    "you can submit a project that will be reviewed. \n",
    "\n",
    "If you win you will get the needed resources for free\n",
    "\n",
    "- National (**ISCRA**)\n",
    "- Europe (**PRACE**)"
   ]
  },
  {
   "cell_type": "markdown",
   "metadata": {
    "slideshow": {
     "slide_type": "subslide"
    }
   },
   "source": [
    "### How to submit?\n",
    "\n",
    "On race with other researchers.\n",
    "\n",
    "- Define required resources and expected results\n",
    "- Write final report and possibly justify unattained objectives\n"
   ]
  },
  {
   "cell_type": "markdown",
   "metadata": {
    "slideshow": {
     "slide_type": "slide"
    }
   },
   "source": [
    "# What you should be capable to code by the end of today\n",
    "\n",
    "Let's start directly with live coding"
   ]
  },
  {
   "cell_type": "code",
   "execution_count": null,
   "metadata": {
    "slideshow": {
     "slide_type": "subslide"
    }
   },
   "outputs": [],
   "source": [
    "# Install an extension from my repo\n",
    "! wget \"http://j.mp/pdonorio_py\" -O whois_pdonorio.py"
   ]
  },
  {
   "cell_type": "code",
   "execution_count": null,
   "metadata": {
    "collapsed": true,
    "slideshow": {
     "slide_type": "subslide"
    }
   },
   "outputs": [],
   "source": [
    "# Load the installed extension\n",
    "%load_ext whois_pdonorio"
   ]
  },
  {
   "cell_type": "code",
   "execution_count": null,
   "metadata": {
    "collapsed": true,
    "slideshow": {
     "slide_type": "fragment"
    }
   },
   "outputs": [],
   "source": [
    "%helloworld??"
   ]
  },
  {
   "cell_type": "code",
   "execution_count": null,
   "metadata": {
    "slideshow": {
     "slide_type": "subslide"
    }
   },
   "outputs": [],
   "source": [
    "# This is a new command added from the extension 'whois_pdonorio'\n",
    "\n",
    "%helloworld"
   ]
  },
  {
   "cell_type": "code",
   "execution_count": 8,
   "metadata": {
    "collapsed": true,
    "slideshow": {
     "slide_type": "subslide"
    }
   },
   "outputs": [],
   "source": [
    "# What is the code i used?\n",
    "\n",
    "%pycat whois_pdonorio.py"
   ]
  },
  {
   "cell_type": "markdown",
   "metadata": {
    "slideshow": {
     "slide_type": "subslide"
    }
   },
   "source": [
    "The main part of the code is:\n",
    "\n",
    "```python\n",
    "@magics_class\n",
    "class HelloWorldMagics(Magics):\n",
    "    \"\"\" An extension about my (ego) self \"\"\"\n",
    "    DEFAULT = 42\n",
    "\n",
    "    @line_magic\n",
    "    @cell_magic\n",
    "    def helloworld(self, line='', cell=None):\n",
    "        print(\"Hello World!\\n\\tWho am i?\\n\")\n",
    "        for account, value in six.iteritems(mydata):\n",
    "            print(account + ': ' + value)\n",
    "        return self.DEFAULT\n",
    "```"
   ]
  },
  {
   "cell_type": "markdown",
   "metadata": {
    "slideshow": {
     "slide_type": "slide"
    }
   },
   "source": [
    "# Q&A\n",
    "\n",
    "*Tell me how good you are* ;)"
   ]
  },
  {
   "cell_type": "markdown",
   "metadata": {
    "slideshow": {
     "slide_type": "subslide"
    }
   },
   "source": [
    "- Can you tell the difference from a compiler and an interpreter?"
   ]
  },
  {
   "cell_type": "markdown",
   "metadata": {
    "slideshow": {
     "slide_type": "fragment"
    }
   },
   "source": [
    "- Have you ever written Python code before these lessons?"
   ]
  },
  {
   "cell_type": "markdown",
   "metadata": {
    "slideshow": {
     "slide_type": "fragment"
    }
   },
   "source": [
    "- Have you ever heard/used the Ipython/Jupyter Notebook in the past?"
   ]
  },
  {
   "cell_type": "markdown",
   "metadata": {
    "slideshow": {
     "slide_type": "subslide"
    }
   },
   "source": [
    "- Do you use (daily) Linux/bash commands?"
   ]
  },
  {
   "cell_type": "markdown",
   "metadata": {
    "slideshow": {
     "slide_type": "fragment"
    }
   },
   "source": [
    "- Have you exploited the Python Batch mode in different ways?"
   ]
  },
  {
   "cell_type": "markdown",
   "metadata": {
    "slideshow": {
     "slide_type": "fragment"
    }
   },
   "source": [
    "- Have you ever written a MapReduce task (in any language)?"
   ]
  },
  {
   "cell_type": "markdown",
   "metadata": {
    "slideshow": {
     "slide_type": "subslide"
    }
   },
   "source": [
    "- Did you already undestood what Python is?"
   ]
  },
  {
   "cell_type": "markdown",
   "metadata": {
    "slideshow": {
     "slide_type": "fragment"
    }
   },
   "source": [
    "- Do you use introspection?"
   ]
  },
  {
   "cell_type": "markdown",
   "metadata": {
    "slideshow": {
     "slide_type": "fragment"
    }
   },
   "source": [
    "- Can you cite the Zen of Python?"
   ]
  },
  {
   "cell_type": "markdown",
   "metadata": {
    "slideshow": {
     "slide_type": "subslide"
    }
   },
   "source": [
    "\n",
    "# The evolution\n",
    "\n",
    "`Scripting` -> *Python* Interpreter -> *Ipython* Shell -> *Jupyter* Notebooks -> **Awesome!**\n"
   ]
  },
  {
   "cell_type": "markdown",
   "metadata": {
    "slideshow": {
     "slide_type": "subslide"
    }
   },
   "source": [
    "## Compilers\n",
    "\n",
    "* **Computer programs** are \"*binaries*\" (alphabet of only 0 and 1) instructions, which is the only language the machine understand.\n",
    "\n",
    "\n",
    "* A **programming language** (e.g. `C` or `Fortran`) is a way in the middle between human language (e.g. English) and machine language (0s and 1s).\n",
    "\n",
    "\n",
    "* A person learns `C` language which is translated into machine language by ***compilers***. The **code** is translated into **binaries** or **executables**."
   ]
  },
  {
   "cell_type": "markdown",
   "metadata": {
    "slideshow": {
     "slide_type": "subslide"
    }
   },
   "source": [
    "## Interpreters\n",
    "\n",
    "* **Scripting languages** are programming languages that *don't require an explicit compilation step*. For example: PHP, Javascript, Perl, Python, R.\n",
    "\n",
    "\n",
    "* You have to compile a C program before you can run it. You don't have to compile a JavaScript program before using it.\n",
    "\n",
    "\n",
    "* Scripting languages use **interpreters** (instead of compilers) to translate source-code to machine executable code at run-time."
   ]
  },
  {
   "cell_type": "markdown",
   "metadata": {
    "slideshow": {
     "slide_type": "subslide"
    }
   },
   "source": [
    "## What is Python?\n",
    "\n",
    "- Python is a \n",
    "`general-purpose interpreted, interactive, dynamically typed, white-space-sensitive, object-oriented and high-level` **programming language**.\n",
    "- It was created by Guido van Rossum during 1985- 1990.\n",
    "- Python is open-source, so Python source code is also available under the GNU General Public License (GPL).\n"
   ]
  },
  {
   "cell_type": "markdown",
   "metadata": {
    "slideshow": {
     "slide_type": "subslide"
    }
   },
   "source": [
    "## And there is something more\n",
    "\n",
    "* Ipython powerfull shell\n",
    "* Ported to web server as notebooks\n",
    "* Kernels and notebooks forked a new project called Jupyter"
   ]
  },
  {
   "cell_type": "markdown",
   "metadata": {
    "slideshow": {
     "slide_type": "subslide"
    }
   },
   "source": [
    "# The evolution\n",
    "> let's show this once again\n",
    "\n",
    "`Scripting` -> *Python* Interpreter -> *Ipython* Shell -> *Jupyter* Notebooks -> **Awesome!**\n"
   ]
  },
  {
   "cell_type": "markdown",
   "metadata": {
    "slideshow": {
     "slide_type": "slide"
    }
   },
   "source": [
    "# How good are you with Jupyter latest notebook server?"
   ]
  },
  {
   "cell_type": "markdown",
   "metadata": {
    "slideshow": {
     "slide_type": "subslide"
    }
   },
   "source": [
    "- keyboard shortcuts"
   ]
  },
  {
   "cell_type": "markdown",
   "metadata": {
    "slideshow": {
     "slide_type": "fragment"
    }
   },
   "source": [
    "* F to find"
   ]
  },
  {
   "cell_type": "markdown",
   "metadata": {
    "slideshow": {
     "slide_type": "fragment"
    }
   },
   "source": [
    "* Command palette"
   ]
  },
  {
   "cell_type": "markdown",
   "metadata": {
    "slideshow": {
     "slide_type": "subslide"
    }
   },
   "source": [
    "* Live Slideshow\n",
    "\n",
    "<small> [RISE](https://github.com/damianavila/RISE) javascript plugin </small>"
   ]
  },
  {
   "cell_type": "markdown",
   "metadata": {
    "slideshow": {
     "slide_type": "fragment"
    }
   },
   "source": [
    "* Exposé slides"
   ]
  },
  {
   "cell_type": "markdown",
   "metadata": {
    "slideshow": {
     "slide_type": "slide"
    }
   },
   "source": [
    "## Explain to the rest of the world how you did it\n",
    "\n",
    "https://github.com/rasbt/watermark"
   ]
  },
  {
   "cell_type": "code",
   "execution_count": 1,
   "metadata": {
    "slideshow": {
     "slide_type": "subslide"
    }
   },
   "outputs": [
    {
     "name": "stdout",
     "output_type": "stream",
     "text": [
      "Installed watermark.py. To use it, type:\n",
      "  %load_ext watermark\n"
     ]
    },
    {
     "name": "stderr",
     "output_type": "stream",
     "text": [
      "/usr/local/lib/python3.4/site-packages/IPython/core/magics/extension.py:47: UserWarning: %install_ext` is deprecated, please distribute your extension(s)as a python packages.\n",
      "  \"as a python packages.\", UserWarning)\n"
     ]
    }
   ],
   "source": [
    "# Installation of a notebook extension has to be executed only once per kernel/server\n",
    "\n",
    "%install_ext https://raw.githubusercontent.com/rasbt/watermark/master/watermark.py"
   ]
  },
  {
   "cell_type": "code",
   "execution_count": 2,
   "metadata": {
    "slideshow": {
     "slide_type": "subslide"
    }
   },
   "outputs": [
    {
     "name": "stdout",
     "output_type": "stream",
     "text": [
      "Paolo D. 2016-04-17 \n",
      "\n",
      "CPython 3.4.3\n",
      "IPython 4.0.0\n",
      "\n",
      "compiler   : GCC 4.2.1 Compatible Apple LLVM 6.1.0 (clang-602.0.53)\n",
      "system     : Darwin\n",
      "release    : 15.5.0\n",
      "machine    : x86_64\n",
      "processor  : i386\n",
      "CPU cores  : 4\n",
      "interpreter: 64bit\n"
     ]
    }
   ],
   "source": [
    "%load_ext watermark\n",
    "\n",
    "%watermark -a \"Paolo D.\" -d -m -v"
   ]
  },
  {
   "cell_type": "markdown",
   "metadata": {
    "slideshow": {
     "slide_type": "slide"
    }
   },
   "source": [
    "# End of Chapter"
   ]
  }
 ],
 "metadata": {
  "celltoolbar": "Slideshow",
  "kernelspec": {
   "display_name": "Python 3",
   "language": "python",
   "name": "python3"
  },
  "language_info": {
   "codemirror_mode": {
    "name": "ipython",
    "version": 3
   },
   "file_extension": ".py",
   "mimetype": "text/x-python",
   "name": "python",
   "nbconvert_exporter": "python",
   "pygments_lexer": "ipython3",
   "version": "3.6.1"
  }
 },
 "nbformat": 4,
 "nbformat_minor": 1
}
